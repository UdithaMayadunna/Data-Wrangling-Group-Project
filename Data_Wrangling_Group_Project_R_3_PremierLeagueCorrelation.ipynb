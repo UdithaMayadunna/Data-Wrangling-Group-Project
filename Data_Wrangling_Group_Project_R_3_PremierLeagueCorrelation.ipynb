{
 "cells": [
  {
   "cell_type": "markdown",
   "id": "bd0abacd-5924-4e27-8d32-17ccfc565b2d",
   "metadata": {
    "tags": []
   },
   "source": [
    "### Investigate the Premier League dataset"
   ]
  },
  {
   "cell_type": "code",
   "execution_count": 2,
   "id": "09d2d4e4-8382-4aa1-916b-e9e2bdbaefab",
   "metadata": {
    "tags": []
   },
   "outputs": [
    {
     "name": "stderr",
     "output_type": "stream",
     "text": [
      "── \u001b[1mAttaching core tidyverse packages\u001b[22m ──────────────────────────────────────────────────────────────── tidyverse 2.0.0 ──\n",
      "\u001b[32m✔\u001b[39m \u001b[34mdplyr    \u001b[39m 1.1.2     \u001b[32m✔\u001b[39m \u001b[34mreadr    \u001b[39m 2.1.4\n",
      "\u001b[32m✔\u001b[39m \u001b[34mforcats  \u001b[39m 1.0.0     \u001b[32m✔\u001b[39m \u001b[34mstringr  \u001b[39m 1.5.0\n",
      "\u001b[32m✔\u001b[39m \u001b[34mggplot2  \u001b[39m 3.4.2     \u001b[32m✔\u001b[39m \u001b[34mtibble   \u001b[39m 3.2.1\n",
      "\u001b[32m✔\u001b[39m \u001b[34mlubridate\u001b[39m 1.9.2     \u001b[32m✔\u001b[39m \u001b[34mtidyr    \u001b[39m 1.3.0\n",
      "\u001b[32m✔\u001b[39m \u001b[34mpurrr    \u001b[39m 1.0.1     \n",
      "── \u001b[1mConflicts\u001b[22m ────────────────────────────────────────────────────────────────────────────────── tidyverse_conflicts() ──\n",
      "\u001b[31m✖\u001b[39m \u001b[34mdplyr\u001b[39m::\u001b[32mfilter()\u001b[39m masks \u001b[34mstats\u001b[39m::filter()\n",
      "\u001b[31m✖\u001b[39m \u001b[34mdplyr\u001b[39m::\u001b[32mlag()\u001b[39m    masks \u001b[34mstats\u001b[39m::lag()\n",
      "\u001b[36mℹ\u001b[39m Use the conflicted package (\u001b[3m\u001b[34m<http://conflicted.r-lib.org/>\u001b[39m\u001b[23m) to force all conflicts to become errors\n"
     ]
    }
   ],
   "source": [
    "library(tidyverse)"
   ]
  },
  {
   "cell_type": "code",
   "execution_count": 3,
   "id": "be25eaf7-7bf0-46c6-a4ed-c9ce7f958a62",
   "metadata": {
    "tags": []
   },
   "outputs": [],
   "source": [
    "library(skimr) #provides broad overview of data frame (Tidy data lecture)\n",
    "library(visdat) #provide visualisation of entire dataframe (google definition)"
   ]
  },
  {
   "cell_type": "code",
   "execution_count": 4,
   "id": "e20ffa05-d893-41a3-b031-fdd2a8cd51fc",
   "metadata": {
    "tags": []
   },
   "outputs": [
    {
     "name": "stderr",
     "output_type": "stream",
     "text": [
      "\u001b[1m\u001b[22mNew names:\n",
      "\u001b[36m•\u001b[39m `` -> `...1`\n",
      "\u001b[1mRows: \u001b[22m\u001b[34m260\u001b[39m \u001b[1mColumns: \u001b[22m\u001b[34m26\u001b[39m\n",
      "\u001b[36m──\u001b[39m \u001b[1mColumn specification\u001b[22m \u001b[36m────────────────────────────────────────────────────────────────────────────────────────────────\u001b[39m\n",
      "\u001b[1mDelimiter:\u001b[22m \",\"\n",
      "\u001b[31mchr\u001b[39m  (9): Season_ID, Season, League, Team_ID, Squad, Player_ID, Top.Team.Sco...\n",
      "\u001b[32mdbl\u001b[39m (17): ...1, Rk, MP, W, D, L, GF, GA, GD, Pts, Pts.MP, Attendance, GoalsS...\n",
      "\n",
      "\u001b[36mℹ\u001b[39m Use `spec()` to retrieve the full column specification for this data.\n",
      "\u001b[36mℹ\u001b[39m Specify the column types or set `show_col_types = FALSE` to quiet this message.\n"
     ]
    },
    {
     "name": "stdout",
     "output_type": "stream",
     "text": [
      "Rows: 260\n",
      "Columns: 26\n",
      "$ ...1            \u001b[3m\u001b[90m<dbl>\u001b[39m\u001b[23m 1, 2, 3, 4, 5, 6, 7, 8, 9, 10, 11, 12, 13, 14, 15, 16,…\n",
      "$ Season_ID       \u001b[3m\u001b[90m<chr>\u001b[39m\u001b[23m \"09/10-PL\", \"09/10-PL\", \"09/10-PL\", \"09/10-PL\", \"09/10…\n",
      "$ Season          \u001b[3m\u001b[90m<chr>\u001b[39m\u001b[23m \"2009-2010\", \"2009-2010\", \"2009-2010\", \"2009-2010\", \"2…\n",
      "$ League          \u001b[3m\u001b[90m<chr>\u001b[39m\u001b[23m \"Premier League\", \"Premier League\", \"Premier League\", …\n",
      "$ Rk              \u001b[3m\u001b[90m<dbl>\u001b[39m\u001b[23m 1, 2, 3, 4, 5, 6, 7, 8, 9, 10, 11, 12, 13, 14, 15, 16,…\n",
      "$ Team_ID         \u001b[3m\u001b[90m<chr>\u001b[39m\u001b[23m \"09/10-Chelsea\", \"09/10-Manchester Utd\", \"09/10-Arsena…\n",
      "$ Squad           \u001b[3m\u001b[90m<chr>\u001b[39m\u001b[23m \"Chelsea\", \"Manchester Utd\", \"Arsenal\", \"Tottenham\", \"…\n",
      "$ MP              \u001b[3m\u001b[90m<dbl>\u001b[39m\u001b[23m 38, 38, 38, 38, 38, 38, 38, 38, 38, 38, 38, 38, 38, 38…\n",
      "$ W               \u001b[3m\u001b[90m<dbl>\u001b[39m\u001b[23m 27, 27, 23, 21, 18, 17, 18, 16, 13, 13, 11, 12, 11, 10…\n",
      "$ D               \u001b[3m\u001b[90m<dbl>\u001b[39m\u001b[23m 5, 4, 6, 7, 13, 13, 9, 13, 11, 11, 14, 10, 11, 9, 11, …\n",
      "$ L               \u001b[3m\u001b[90m<dbl>\u001b[39m\u001b[23m 6, 7, 9, 10, 7, 8, 11, 9, 14, 14, 13, 16, 16, 19, 18, …\n",
      "$ GF              \u001b[3m\u001b[90m<dbl>\u001b[39m\u001b[23m 103, 86, 83, 67, 73, 52, 61, 60, 38, 41, 34, 39, 48, 4…\n",
      "$ GA              \u001b[3m\u001b[90m<dbl>\u001b[39m\u001b[23m 32, 28, 41, 41, 45, 39, 35, 49, 47, 55, 48, 46, 56, 67…\n",
      "$ GD              \u001b[3m\u001b[90m<dbl>\u001b[39m\u001b[23m 71, 58, 42, 26, 28, 13, 26, 11, -9, -14, -14, -7, -8, …\n",
      "$ Pts             \u001b[3m\u001b[90m<dbl>\u001b[39m\u001b[23m 86, 85, 75, 70, 67, 64, 63, 61, 50, 50, 47, 46, 44, 39…\n",
      "$ Pts.MP          \u001b[3m\u001b[90m<dbl>\u001b[39m\u001b[23m 2.26, 2.24, 1.97, 1.84, 1.76, 1.68, 1.66, 1.61, 1.32, …\n",
      "$ Attendance      \u001b[3m\u001b[90m<dbl>\u001b[39m\u001b[23m 41423, 74864, 59927, 35794, 45470, 38573, 42864, 36725…\n",
      "$ Player_ID       \u001b[3m\u001b[90m<chr>\u001b[39m\u001b[23m \"09/10-Didier Drogba\", \"09/10-Wayne Rooney\", \"09/10-Ce…\n",
      "$ Top.Team.Scorer \u001b[3m\u001b[90m<chr>\u001b[39m\u001b[23m \"Didier Drogba\", \"Wayne Rooney\", \"Cesc Fàbregas\", \"Jer…\n",
      "$ GoalsScored     \u001b[3m\u001b[90m<dbl>\u001b[39m\u001b[23m 29, 26, 15, 18, 23, 13, 18, 13, 10, 9, 5, 8, 24, 8, 9,…\n",
      "$ Goalkeeper      \u001b[3m\u001b[90m<chr>\u001b[39m\u001b[23m \"Petr Čech\", \"Edwin van der Sar\", \"Manuel Almunia\", \"H…\n",
      "$ Notes           \u001b[3m\u001b[90m<chr>\u001b[39m\u001b[23m \"→ Champions League via league finish\", \"→ Champions L…\n",
      "$ xG              \u001b[3m\u001b[90m<dbl>\u001b[39m\u001b[23m NA, NA, NA, NA, NA, NA, NA, NA, NA, NA, NA, NA, NA, NA…\n",
      "$ xGA             \u001b[3m\u001b[90m<dbl>\u001b[39m\u001b[23m NA, NA, NA, NA, NA, NA, NA, NA, NA, NA, NA, NA, NA, NA…\n",
      "$ xGD             \u001b[3m\u001b[90m<dbl>\u001b[39m\u001b[23m NA, NA, NA, NA, NA, NA, NA, NA, NA, NA, NA, NA, NA, NA…\n",
      "$ xGD.90          \u001b[3m\u001b[90m<dbl>\u001b[39m\u001b[23m NA, NA, NA, NA, NA, NA, NA, NA, NA, NA, NA, NA, NA, NA…\n"
     ]
    }
   ],
   "source": [
    "premier_df <- read_csv(\"PremierLeagueTables.csv\") %>%\n",
    " glimpse()"
   ]
  },
  {
   "cell_type": "markdown",
   "id": "22a70088-3168-4093-b9c5-8ae493cd9c4c",
   "metadata": {},
   "source": [
    "### There are unwanted columns that we are not interested in as they describe individual player performance.Also it has significant NA values. Lets get rid of them."
   ]
  },
  {
   "cell_type": "markdown",
   "id": "3b8ca90d-22d5-42bd-8c55-daa0b763f021",
   "metadata": {},
   "source": [
    "Remove xG, xGA, XGD, XGD.90"
   ]
  },
  {
   "cell_type": "code",
   "execution_count": 5,
   "id": "d2f90ec1-37f9-4006-9f32-35ae4d657011",
   "metadata": {
    "tags": []
   },
   "outputs": [],
   "source": [
    "premier_df <- premier_df %>%\n",
    "  select(!xG)"
   ]
  },
  {
   "cell_type": "code",
   "execution_count": 6,
   "id": "59828402-0c49-4d24-9fab-f117a1d9bdac",
   "metadata": {
    "tags": []
   },
   "outputs": [],
   "source": [
    "premier_df <- premier_df %>%\n",
    "  select(!xGA)"
   ]
  },
  {
   "cell_type": "code",
   "execution_count": 7,
   "id": "5bc14ffa-b4d0-441c-9c75-3dd6295ea2ea",
   "metadata": {
    "tags": []
   },
   "outputs": [],
   "source": [
    "premier_df <- premier_df %>%\n",
    "  select(!xGD)"
   ]
  },
  {
   "cell_type": "code",
   "execution_count": 8,
   "id": "d21d93c8-1246-4542-8a44-29f8333691b7",
   "metadata": {
    "tags": []
   },
   "outputs": [],
   "source": [
    "premier_df <- premier_df %>%\n",
    "  select(!xGD.90)"
   ]
  },
  {
   "cell_type": "code",
   "execution_count": 9,
   "id": "edf2733a-bdb6-44ca-9ca6-ef32222b0ccb",
   "metadata": {
    "tags": []
   },
   "outputs": [
    {
     "data": {
      "text/html": [
       "<table class=\"dataframe\">\n",
       "<caption>A tibble: 6 × 22</caption>\n",
       "<thead>\n",
       "\t<tr><th scope=col>...1</th><th scope=col>Season_ID</th><th scope=col>Season</th><th scope=col>League</th><th scope=col>Rk</th><th scope=col>Team_ID</th><th scope=col>Squad</th><th scope=col>MP</th><th scope=col>W</th><th scope=col>D</th><th scope=col>⋯</th><th scope=col>GA</th><th scope=col>GD</th><th scope=col>Pts</th><th scope=col>Pts.MP</th><th scope=col>Attendance</th><th scope=col>Player_ID</th><th scope=col>Top.Team.Scorer</th><th scope=col>GoalsScored</th><th scope=col>Goalkeeper</th><th scope=col>Notes</th></tr>\n",
       "\t<tr><th scope=col>&lt;dbl&gt;</th><th scope=col>&lt;chr&gt;</th><th scope=col>&lt;chr&gt;</th><th scope=col>&lt;chr&gt;</th><th scope=col>&lt;dbl&gt;</th><th scope=col>&lt;chr&gt;</th><th scope=col>&lt;chr&gt;</th><th scope=col>&lt;dbl&gt;</th><th scope=col>&lt;dbl&gt;</th><th scope=col>&lt;dbl&gt;</th><th scope=col>⋯</th><th scope=col>&lt;dbl&gt;</th><th scope=col>&lt;dbl&gt;</th><th scope=col>&lt;dbl&gt;</th><th scope=col>&lt;dbl&gt;</th><th scope=col>&lt;dbl&gt;</th><th scope=col>&lt;chr&gt;</th><th scope=col>&lt;chr&gt;</th><th scope=col>&lt;dbl&gt;</th><th scope=col>&lt;chr&gt;</th><th scope=col>&lt;chr&gt;</th></tr>\n",
       "</thead>\n",
       "<tbody>\n",
       "\t<tr><td>1</td><td>09/10-PL</td><td>2009-2010</td><td>Premier League</td><td>1</td><td>09/10-Chelsea        </td><td>Chelsea        </td><td>38</td><td>27</td><td> 5</td><td>⋯</td><td>32</td><td>71</td><td>86</td><td>2.26</td><td>41423</td><td>09/10-Didier Drogba     </td><td>Didier Drogba     </td><td>29</td><td>Petr Čech        </td><td>→ Champions League via league finish</td></tr>\n",
       "\t<tr><td>2</td><td>09/10-PL</td><td>2009-2010</td><td>Premier League</td><td>2</td><td>09/10-Manchester Utd </td><td>Manchester Utd </td><td>38</td><td>27</td><td> 4</td><td>⋯</td><td>28</td><td>58</td><td>85</td><td>2.24</td><td>74864</td><td>09/10-Wayne Rooney      </td><td>Wayne Rooney      </td><td>26</td><td>Edwin van der Sar</td><td>→ Champions League via league finish</td></tr>\n",
       "\t<tr><td>3</td><td>09/10-PL</td><td>2009-2010</td><td>Premier League</td><td>3</td><td>09/10-Arsenal        </td><td>Arsenal        </td><td>38</td><td>23</td><td> 6</td><td>⋯</td><td>41</td><td>42</td><td>75</td><td>1.97</td><td>59927</td><td>09/10-Cesc Fàbregas     </td><td>Cesc Fàbregas     </td><td>15</td><td>Manuel Almunia   </td><td>→ Champions League via league finish</td></tr>\n",
       "\t<tr><td>4</td><td>09/10-PL</td><td>2009-2010</td><td>Premier League</td><td>4</td><td>09/10-Tottenham      </td><td>Tottenham      </td><td>38</td><td>21</td><td> 7</td><td>⋯</td><td>41</td><td>26</td><td>70</td><td>1.84</td><td>35794</td><td>09/10-Jermain Defoe     </td><td>Jermain Defoe     </td><td>18</td><td>Heurelho Gomes   </td><td>→ Champions League via league finish</td></tr>\n",
       "\t<tr><td>5</td><td>09/10-PL</td><td>2009-2010</td><td>Premier League</td><td>5</td><td>09/10-Manchester City</td><td>Manchester City</td><td>38</td><td>18</td><td>13</td><td>⋯</td><td>45</td><td>28</td><td>67</td><td>1.76</td><td>45470</td><td>09/10-Carlos Tevez      </td><td>Carlos Tevez      </td><td>23</td><td>Shay Given       </td><td>→ Europa League via league finish   </td></tr>\n",
       "\t<tr><td>6</td><td>09/10-PL</td><td>2009-2010</td><td>Premier League</td><td>6</td><td>09/10-Aston Villa    </td><td>Aston Villa    </td><td>38</td><td>17</td><td>13</td><td>⋯</td><td>39</td><td>13</td><td>64</td><td>1.68</td><td>38573</td><td>09/10-Gabriel Agbonlahor</td><td>Gabriel Agbonlahor</td><td>13</td><td>Brad Friedel     </td><td>→ Europa League via league finish 1 </td></tr>\n",
       "</tbody>\n",
       "</table>\n"
      ],
      "text/latex": [
       "A tibble: 6 × 22\n",
       "\\begin{tabular}{lllllllllllllllllllll}\n",
       " ...1 & Season\\_ID & Season & League & Rk & Team\\_ID & Squad & MP & W & D & ⋯ & GA & GD & Pts & Pts.MP & Attendance & Player\\_ID & Top.Team.Scorer & GoalsScored & Goalkeeper & Notes\\\\\n",
       " <dbl> & <chr> & <chr> & <chr> & <dbl> & <chr> & <chr> & <dbl> & <dbl> & <dbl> & ⋯ & <dbl> & <dbl> & <dbl> & <dbl> & <dbl> & <chr> & <chr> & <dbl> & <chr> & <chr>\\\\\n",
       "\\hline\n",
       "\t 1 & 09/10-PL & 2009-2010 & Premier League & 1 & 09/10-Chelsea         & Chelsea         & 38 & 27 &  5 & ⋯ & 32 & 71 & 86 & 2.26 & 41423 & 09/10-Didier Drogba      & Didier Drogba      & 29 & Petr Čech         & → Champions League via league finish\\\\\n",
       "\t 2 & 09/10-PL & 2009-2010 & Premier League & 2 & 09/10-Manchester Utd  & Manchester Utd  & 38 & 27 &  4 & ⋯ & 28 & 58 & 85 & 2.24 & 74864 & 09/10-Wayne Rooney       & Wayne Rooney       & 26 & Edwin van der Sar & → Champions League via league finish\\\\\n",
       "\t 3 & 09/10-PL & 2009-2010 & Premier League & 3 & 09/10-Arsenal         & Arsenal         & 38 & 23 &  6 & ⋯ & 41 & 42 & 75 & 1.97 & 59927 & 09/10-Cesc Fàbregas      & Cesc Fàbregas      & 15 & Manuel Almunia    & → Champions League via league finish\\\\\n",
       "\t 4 & 09/10-PL & 2009-2010 & Premier League & 4 & 09/10-Tottenham       & Tottenham       & 38 & 21 &  7 & ⋯ & 41 & 26 & 70 & 1.84 & 35794 & 09/10-Jermain Defoe      & Jermain Defoe      & 18 & Heurelho Gomes    & → Champions League via league finish\\\\\n",
       "\t 5 & 09/10-PL & 2009-2010 & Premier League & 5 & 09/10-Manchester City & Manchester City & 38 & 18 & 13 & ⋯ & 45 & 28 & 67 & 1.76 & 45470 & 09/10-Carlos Tevez       & Carlos Tevez       & 23 & Shay Given        & → Europa League via league finish   \\\\\n",
       "\t 6 & 09/10-PL & 2009-2010 & Premier League & 6 & 09/10-Aston Villa     & Aston Villa     & 38 & 17 & 13 & ⋯ & 39 & 13 & 64 & 1.68 & 38573 & 09/10-Gabriel Agbonlahor & Gabriel Agbonlahor & 13 & Brad Friedel      & → Europa League via league finish 1 \\\\\n",
       "\\end{tabular}\n"
      ],
      "text/markdown": [
       "\n",
       "A tibble: 6 × 22\n",
       "\n",
       "| ...1 &lt;dbl&gt; | Season_ID &lt;chr&gt; | Season &lt;chr&gt; | League &lt;chr&gt; | Rk &lt;dbl&gt; | Team_ID &lt;chr&gt; | Squad &lt;chr&gt; | MP &lt;dbl&gt; | W &lt;dbl&gt; | D &lt;dbl&gt; | ⋯ ⋯ | GA &lt;dbl&gt; | GD &lt;dbl&gt; | Pts &lt;dbl&gt; | Pts.MP &lt;dbl&gt; | Attendance &lt;dbl&gt; | Player_ID &lt;chr&gt; | Top.Team.Scorer &lt;chr&gt; | GoalsScored &lt;dbl&gt; | Goalkeeper &lt;chr&gt; | Notes &lt;chr&gt; |\n",
       "|---|---|---|---|---|---|---|---|---|---|---|---|---|---|---|---|---|---|---|---|---|\n",
       "| 1 | 09/10-PL | 2009-2010 | Premier League | 1 | 09/10-Chelsea         | Chelsea         | 38 | 27 |  5 | ⋯ | 32 | 71 | 86 | 2.26 | 41423 | 09/10-Didier Drogba      | Didier Drogba      | 29 | Petr Čech         | → Champions League via league finish |\n",
       "| 2 | 09/10-PL | 2009-2010 | Premier League | 2 | 09/10-Manchester Utd  | Manchester Utd  | 38 | 27 |  4 | ⋯ | 28 | 58 | 85 | 2.24 | 74864 | 09/10-Wayne Rooney       | Wayne Rooney       | 26 | Edwin van der Sar | → Champions League via league finish |\n",
       "| 3 | 09/10-PL | 2009-2010 | Premier League | 3 | 09/10-Arsenal         | Arsenal         | 38 | 23 |  6 | ⋯ | 41 | 42 | 75 | 1.97 | 59927 | 09/10-Cesc Fàbregas      | Cesc Fàbregas      | 15 | Manuel Almunia    | → Champions League via league finish |\n",
       "| 4 | 09/10-PL | 2009-2010 | Premier League | 4 | 09/10-Tottenham       | Tottenham       | 38 | 21 |  7 | ⋯ | 41 | 26 | 70 | 1.84 | 35794 | 09/10-Jermain Defoe      | Jermain Defoe      | 18 | Heurelho Gomes    | → Champions League via league finish |\n",
       "| 5 | 09/10-PL | 2009-2010 | Premier League | 5 | 09/10-Manchester City | Manchester City | 38 | 18 | 13 | ⋯ | 45 | 28 | 67 | 1.76 | 45470 | 09/10-Carlos Tevez       | Carlos Tevez       | 23 | Shay Given        | → Europa League via league finish    |\n",
       "| 6 | 09/10-PL | 2009-2010 | Premier League | 6 | 09/10-Aston Villa     | Aston Villa     | 38 | 17 | 13 | ⋯ | 39 | 13 | 64 | 1.68 | 38573 | 09/10-Gabriel Agbonlahor | Gabriel Agbonlahor | 13 | Brad Friedel      | → Europa League via league finish 1  |\n",
       "\n"
      ],
      "text/plain": [
       "  ...1 Season_ID Season    League         Rk Team_ID              \n",
       "1 1    09/10-PL  2009-2010 Premier League 1  09/10-Chelsea        \n",
       "2 2    09/10-PL  2009-2010 Premier League 2  09/10-Manchester Utd \n",
       "3 3    09/10-PL  2009-2010 Premier League 3  09/10-Arsenal        \n",
       "4 4    09/10-PL  2009-2010 Premier League 4  09/10-Tottenham      \n",
       "5 5    09/10-PL  2009-2010 Premier League 5  09/10-Manchester City\n",
       "6 6    09/10-PL  2009-2010 Premier League 6  09/10-Aston Villa    \n",
       "  Squad           MP W  D  ⋯ GA GD Pts Pts.MP Attendance\n",
       "1 Chelsea         38 27  5 ⋯ 32 71 86  2.26   41423     \n",
       "2 Manchester Utd  38 27  4 ⋯ 28 58 85  2.24   74864     \n",
       "3 Arsenal         38 23  6 ⋯ 41 42 75  1.97   59927     \n",
       "4 Tottenham       38 21  7 ⋯ 41 26 70  1.84   35794     \n",
       "5 Manchester City 38 18 13 ⋯ 45 28 67  1.76   45470     \n",
       "6 Aston Villa     38 17 13 ⋯ 39 13 64  1.68   38573     \n",
       "  Player_ID                Top.Team.Scorer    GoalsScored Goalkeeper       \n",
       "1 09/10-Didier Drogba      Didier Drogba      29          Petr Čech        \n",
       "2 09/10-Wayne Rooney       Wayne Rooney       26          Edwin van der Sar\n",
       "3 09/10-Cesc Fàbregas      Cesc Fàbregas      15          Manuel Almunia   \n",
       "4 09/10-Jermain Defoe      Jermain Defoe      18          Heurelho Gomes   \n",
       "5 09/10-Carlos Tevez       Carlos Tevez       23          Shay Given       \n",
       "6 09/10-Gabriel Agbonlahor Gabriel Agbonlahor 13          Brad Friedel     \n",
       "  Notes                               \n",
       "1 → Champions League via league finish\n",
       "2 → Champions League via league finish\n",
       "3 → Champions League via league finish\n",
       "4 → Champions League via league finish\n",
       "5 → Europa League via league finish   \n",
       "6 → Europa League via league finish 1 "
      ]
     },
     "metadata": {},
     "output_type": "display_data"
    }
   ],
   "source": [
    "premier_df %>% head()"
   ]
  },
  {
   "cell_type": "markdown",
   "id": "6af995c2-e01c-4e01-94cb-bab9f0226d43",
   "metadata": {},
   "source": [
    "### Further preprocessing"
   ]
  },
  {
   "cell_type": "markdown",
   "id": "fd71710e-6ed3-46cf-a380-d43b7ee60b11",
   "metadata": {},
   "source": [
    "Only the 2015 to 2022 seasons will be analysed. This is because the wage dataset only covers these seasons."
   ]
  },
  {
   "cell_type": "code",
   "execution_count": 10,
   "id": "37421007-909b-4243-b518-ea8bc3dcf27c",
   "metadata": {
    "tags": []
   },
   "outputs": [],
   "source": [
    "premier_filtered <- premier_df %>%\n",
    "  filter(!between(substring(Season, 1, 4), \"2009\", \"2014\"))"
   ]
  },
  {
   "cell_type": "code",
   "execution_count": 11,
   "id": "38fd31cb-cfcb-4259-b116-e60d03c19ac4",
   "metadata": {
    "tags": []
   },
   "outputs": [
    {
     "data": {
      "text/html": [
       "<table class=\"dataframe\">\n",
       "<caption>A tibble: 6 × 22</caption>\n",
       "<thead>\n",
       "\t<tr><th scope=col>...1</th><th scope=col>Season_ID</th><th scope=col>Season</th><th scope=col>League</th><th scope=col>Rk</th><th scope=col>Team_ID</th><th scope=col>Squad</th><th scope=col>MP</th><th scope=col>W</th><th scope=col>D</th><th scope=col>⋯</th><th scope=col>GA</th><th scope=col>GD</th><th scope=col>Pts</th><th scope=col>Pts.MP</th><th scope=col>Attendance</th><th scope=col>Player_ID</th><th scope=col>Top.Team.Scorer</th><th scope=col>GoalsScored</th><th scope=col>Goalkeeper</th><th scope=col>Notes</th></tr>\n",
       "\t<tr><th scope=col>&lt;dbl&gt;</th><th scope=col>&lt;chr&gt;</th><th scope=col>&lt;chr&gt;</th><th scope=col>&lt;chr&gt;</th><th scope=col>&lt;dbl&gt;</th><th scope=col>&lt;chr&gt;</th><th scope=col>&lt;chr&gt;</th><th scope=col>&lt;dbl&gt;</th><th scope=col>&lt;dbl&gt;</th><th scope=col>&lt;dbl&gt;</th><th scope=col>⋯</th><th scope=col>&lt;dbl&gt;</th><th scope=col>&lt;dbl&gt;</th><th scope=col>&lt;dbl&gt;</th><th scope=col>&lt;dbl&gt;</th><th scope=col>&lt;dbl&gt;</th><th scope=col>&lt;chr&gt;</th><th scope=col>&lt;chr&gt;</th><th scope=col>&lt;dbl&gt;</th><th scope=col>&lt;chr&gt;</th><th scope=col>&lt;chr&gt;</th></tr>\n",
       "</thead>\n",
       "<tbody>\n",
       "\t<tr><td>121</td><td>15/16-PL</td><td>2015-2016</td><td>Premier League</td><td>1</td><td>15/16-Leicester City </td><td>Leicester City </td><td>38</td><td>23</td><td>12</td><td>⋯</td><td>36</td><td>32</td><td>81</td><td>2.13</td><td>31998</td><td>15/16-Jamie Vardy               </td><td>Jamie Vardy               </td><td>24</td><td>Kasper Schmeichel</td><td>→ Champions League via league finish</td></tr>\n",
       "\t<tr><td>122</td><td>15/16-PL</td><td>2015-2016</td><td>Premier League</td><td>2</td><td>15/16-Arsenal        </td><td>Arsenal        </td><td>38</td><td>20</td><td>11</td><td>⋯</td><td>36</td><td>29</td><td>71</td><td>1.87</td><td>59944</td><td>15/16-Olivier Giroud            </td><td>Olivier Giroud            </td><td>16</td><td>Petr Čech        </td><td>→ Champions League via league finish</td></tr>\n",
       "\t<tr><td>123</td><td>15/16-PL</td><td>2015-2016</td><td>Premier League</td><td>3</td><td>15/16-Tottenham      </td><td>Tottenham      </td><td>38</td><td>19</td><td>13</td><td>⋯</td><td>35</td><td>34</td><td>70</td><td>1.84</td><td>35776</td><td>15/16-Harry Kane                </td><td>Harry Kane                </td><td>25</td><td>Hugo Lloris      </td><td>→ Champions League via league finish</td></tr>\n",
       "\t<tr><td>124</td><td>15/16-PL</td><td>2015-2016</td><td>Premier League</td><td>4</td><td>15/16-Manchester City</td><td>Manchester City</td><td>38</td><td>19</td><td> 9</td><td>⋯</td><td>41</td><td>30</td><td>66</td><td>1.74</td><td>54041</td><td>15/16-Sergio Agüero             </td><td>Sergio Agüero             </td><td>24</td><td>Joe Hart         </td><td>→ Champions League via league finish</td></tr>\n",
       "\t<tr><td>125</td><td>15/16-PL</td><td>2015-2016</td><td>Premier League</td><td>5</td><td>15/16-Manchester Utd </td><td>Manchester Utd </td><td>38</td><td>19</td><td> 9</td><td>⋯</td><td>35</td><td>14</td><td>66</td><td>1.74</td><td>75286</td><td>15/16-Anthony Martial           </td><td>Anthony Martial           </td><td>11</td><td>David de Gea     </td><td>→ Europa League via cup win 1       </td></tr>\n",
       "\t<tr><td>126</td><td>15/16-PL</td><td>2015-2016</td><td>Premier League</td><td>6</td><td>15/16-Southampton    </td><td>Southampton    </td><td>38</td><td>18</td><td> 9</td><td>⋯</td><td>41</td><td>18</td><td>63</td><td>1.66</td><td>30751</td><td>15/16-Sadio Mané, Graziano Pellè</td><td>Sadio Mané, Graziano Pellè</td><td>11</td><td>Fraser Forster   </td><td>→ Europa League via league finish 2 </td></tr>\n",
       "</tbody>\n",
       "</table>\n"
      ],
      "text/latex": [
       "A tibble: 6 × 22\n",
       "\\begin{tabular}{lllllllllllllllllllll}\n",
       " ...1 & Season\\_ID & Season & League & Rk & Team\\_ID & Squad & MP & W & D & ⋯ & GA & GD & Pts & Pts.MP & Attendance & Player\\_ID & Top.Team.Scorer & GoalsScored & Goalkeeper & Notes\\\\\n",
       " <dbl> & <chr> & <chr> & <chr> & <dbl> & <chr> & <chr> & <dbl> & <dbl> & <dbl> & ⋯ & <dbl> & <dbl> & <dbl> & <dbl> & <dbl> & <chr> & <chr> & <dbl> & <chr> & <chr>\\\\\n",
       "\\hline\n",
       "\t 121 & 15/16-PL & 2015-2016 & Premier League & 1 & 15/16-Leicester City  & Leicester City  & 38 & 23 & 12 & ⋯ & 36 & 32 & 81 & 2.13 & 31998 & 15/16-Jamie Vardy                & Jamie Vardy                & 24 & Kasper Schmeichel & → Champions League via league finish\\\\\n",
       "\t 122 & 15/16-PL & 2015-2016 & Premier League & 2 & 15/16-Arsenal         & Arsenal         & 38 & 20 & 11 & ⋯ & 36 & 29 & 71 & 1.87 & 59944 & 15/16-Olivier Giroud             & Olivier Giroud             & 16 & Petr Čech         & → Champions League via league finish\\\\\n",
       "\t 123 & 15/16-PL & 2015-2016 & Premier League & 3 & 15/16-Tottenham       & Tottenham       & 38 & 19 & 13 & ⋯ & 35 & 34 & 70 & 1.84 & 35776 & 15/16-Harry Kane                 & Harry Kane                 & 25 & Hugo Lloris       & → Champions League via league finish\\\\\n",
       "\t 124 & 15/16-PL & 2015-2016 & Premier League & 4 & 15/16-Manchester City & Manchester City & 38 & 19 &  9 & ⋯ & 41 & 30 & 66 & 1.74 & 54041 & 15/16-Sergio Agüero              & Sergio Agüero              & 24 & Joe Hart          & → Champions League via league finish\\\\\n",
       "\t 125 & 15/16-PL & 2015-2016 & Premier League & 5 & 15/16-Manchester Utd  & Manchester Utd  & 38 & 19 &  9 & ⋯ & 35 & 14 & 66 & 1.74 & 75286 & 15/16-Anthony Martial            & Anthony Martial            & 11 & David de Gea      & → Europa League via cup win 1       \\\\\n",
       "\t 126 & 15/16-PL & 2015-2016 & Premier League & 6 & 15/16-Southampton     & Southampton     & 38 & 18 &  9 & ⋯ & 41 & 18 & 63 & 1.66 & 30751 & 15/16-Sadio Mané, Graziano Pellè & Sadio Mané, Graziano Pellè & 11 & Fraser Forster    & → Europa League via league finish 2 \\\\\n",
       "\\end{tabular}\n"
      ],
      "text/markdown": [
       "\n",
       "A tibble: 6 × 22\n",
       "\n",
       "| ...1 &lt;dbl&gt; | Season_ID &lt;chr&gt; | Season &lt;chr&gt; | League &lt;chr&gt; | Rk &lt;dbl&gt; | Team_ID &lt;chr&gt; | Squad &lt;chr&gt; | MP &lt;dbl&gt; | W &lt;dbl&gt; | D &lt;dbl&gt; | ⋯ ⋯ | GA &lt;dbl&gt; | GD &lt;dbl&gt; | Pts &lt;dbl&gt; | Pts.MP &lt;dbl&gt; | Attendance &lt;dbl&gt; | Player_ID &lt;chr&gt; | Top.Team.Scorer &lt;chr&gt; | GoalsScored &lt;dbl&gt; | Goalkeeper &lt;chr&gt; | Notes &lt;chr&gt; |\n",
       "|---|---|---|---|---|---|---|---|---|---|---|---|---|---|---|---|---|---|---|---|---|\n",
       "| 121 | 15/16-PL | 2015-2016 | Premier League | 1 | 15/16-Leicester City  | Leicester City  | 38 | 23 | 12 | ⋯ | 36 | 32 | 81 | 2.13 | 31998 | 15/16-Jamie Vardy                | Jamie Vardy                | 24 | Kasper Schmeichel | → Champions League via league finish |\n",
       "| 122 | 15/16-PL | 2015-2016 | Premier League | 2 | 15/16-Arsenal         | Arsenal         | 38 | 20 | 11 | ⋯ | 36 | 29 | 71 | 1.87 | 59944 | 15/16-Olivier Giroud             | Olivier Giroud             | 16 | Petr Čech         | → Champions League via league finish |\n",
       "| 123 | 15/16-PL | 2015-2016 | Premier League | 3 | 15/16-Tottenham       | Tottenham       | 38 | 19 | 13 | ⋯ | 35 | 34 | 70 | 1.84 | 35776 | 15/16-Harry Kane                 | Harry Kane                 | 25 | Hugo Lloris       | → Champions League via league finish |\n",
       "| 124 | 15/16-PL | 2015-2016 | Premier League | 4 | 15/16-Manchester City | Manchester City | 38 | 19 |  9 | ⋯ | 41 | 30 | 66 | 1.74 | 54041 | 15/16-Sergio Agüero              | Sergio Agüero              | 24 | Joe Hart          | → Champions League via league finish |\n",
       "| 125 | 15/16-PL | 2015-2016 | Premier League | 5 | 15/16-Manchester Utd  | Manchester Utd  | 38 | 19 |  9 | ⋯ | 35 | 14 | 66 | 1.74 | 75286 | 15/16-Anthony Martial            | Anthony Martial            | 11 | David de Gea      | → Europa League via cup win 1        |\n",
       "| 126 | 15/16-PL | 2015-2016 | Premier League | 6 | 15/16-Southampton     | Southampton     | 38 | 18 |  9 | ⋯ | 41 | 18 | 63 | 1.66 | 30751 | 15/16-Sadio Mané, Graziano Pellè | Sadio Mané, Graziano Pellè | 11 | Fraser Forster    | → Europa League via league finish 2  |\n",
       "\n"
      ],
      "text/plain": [
       "  ...1 Season_ID Season    League         Rk Team_ID              \n",
       "1 121  15/16-PL  2015-2016 Premier League 1  15/16-Leicester City \n",
       "2 122  15/16-PL  2015-2016 Premier League 2  15/16-Arsenal        \n",
       "3 123  15/16-PL  2015-2016 Premier League 3  15/16-Tottenham      \n",
       "4 124  15/16-PL  2015-2016 Premier League 4  15/16-Manchester City\n",
       "5 125  15/16-PL  2015-2016 Premier League 5  15/16-Manchester Utd \n",
       "6 126  15/16-PL  2015-2016 Premier League 6  15/16-Southampton    \n",
       "  Squad           MP W  D  ⋯ GA GD Pts Pts.MP Attendance\n",
       "1 Leicester City  38 23 12 ⋯ 36 32 81  2.13   31998     \n",
       "2 Arsenal         38 20 11 ⋯ 36 29 71  1.87   59944     \n",
       "3 Tottenham       38 19 13 ⋯ 35 34 70  1.84   35776     \n",
       "4 Manchester City 38 19  9 ⋯ 41 30 66  1.74   54041     \n",
       "5 Manchester Utd  38 19  9 ⋯ 35 14 66  1.74   75286     \n",
       "6 Southampton     38 18  9 ⋯ 41 18 63  1.66   30751     \n",
       "  Player_ID                        Top.Team.Scorer            GoalsScored\n",
       "1 15/16-Jamie Vardy                Jamie Vardy                24         \n",
       "2 15/16-Olivier Giroud             Olivier Giroud             16         \n",
       "3 15/16-Harry Kane                 Harry Kane                 25         \n",
       "4 15/16-Sergio Agüero              Sergio Agüero              24         \n",
       "5 15/16-Anthony Martial            Anthony Martial            11         \n",
       "6 15/16-Sadio Mané, Graziano Pellè Sadio Mané, Graziano Pellè 11         \n",
       "  Goalkeeper        Notes                               \n",
       "1 Kasper Schmeichel → Champions League via league finish\n",
       "2 Petr Čech         → Champions League via league finish\n",
       "3 Hugo Lloris       → Champions League via league finish\n",
       "4 Joe Hart          → Champions League via league finish\n",
       "5 David de Gea      → Europa League via cup win 1       \n",
       "6 Fraser Forster    → Europa League via league finish 2 "
      ]
     },
     "metadata": {},
     "output_type": "display_data"
    }
   ],
   "source": [
    "premier_filtered %>% head()"
   ]
  },
  {
   "cell_type": "markdown",
   "id": "8d46f3d4-bebc-452f-9507-a000f6821caf",
   "metadata": {},
   "source": [
    "### Investigate the Premier League Wages dataset"
   ]
  },
  {
   "cell_type": "code",
   "execution_count": 12,
   "id": "0441b437-3aaf-4e4b-95a6-44b764425959",
   "metadata": {
    "tags": []
   },
   "outputs": [
    {
     "name": "stderr",
     "output_type": "stream",
     "text": [
      "\u001b[1m\u001b[22mNew names:\n",
      "\u001b[36m•\u001b[39m `` -> `...1`\n",
      "\u001b[1mRows: \u001b[22m\u001b[34m180\u001b[39m \u001b[1mColumns: \u001b[22m\u001b[34m11\u001b[39m\n",
      "\u001b[36m──\u001b[39m \u001b[1mColumn specification\u001b[22m \u001b[36m────────────────────────────────────────────────────────────────────────────────────────────────\u001b[39m\n",
      "\u001b[1mDelimiter:\u001b[22m \",\"\n",
      "\u001b[31mchr\u001b[39m (6): Season_ID, Season, League, Team_ID, Squad, X..Estimated\n",
      "\u001b[32mdbl\u001b[39m (5): ...1, Rk, X..Pl, Weekly_Wages_pounds, Annual_Wages_pounds\n",
      "\n",
      "\u001b[36mℹ\u001b[39m Use `spec()` to retrieve the full column specification for this data.\n",
      "\u001b[36mℹ\u001b[39m Specify the column types or set `show_col_types = FALSE` to quiet this message.\n"
     ]
    },
    {
     "name": "stdout",
     "output_type": "stream",
     "text": [
      "Rows: 180\n",
      "Columns: 11\n",
      "$ ...1                \u001b[3m\u001b[90m<dbl>\u001b[39m\u001b[23m 1, 2, 3, 4, 5, 6, 7, 8, 9, 10, 11, 12, 13, 14, 15,…\n",
      "$ Season_ID           \u001b[3m\u001b[90m<chr>\u001b[39m\u001b[23m \"13/14-PL\", \"13/14-PL\", \"13/14-PL\", \"13/14-PL\", \"1…\n",
      "$ Season              \u001b[3m\u001b[90m<chr>\u001b[39m\u001b[23m \"2013-2014\", \"2013-2014\", \"2013-2014\", \"2013-2014\"…\n",
      "$ League              \u001b[3m\u001b[90m<chr>\u001b[39m\u001b[23m \"Premier League\", \"Premier League\", \"Premier Leagu…\n",
      "$ Rk                  \u001b[3m\u001b[90m<dbl>\u001b[39m\u001b[23m 1, 2, 3, 4, 5, 6, 7, 8, 9, 10, 11, 12, 13, 14, 15,…\n",
      "$ Team_ID             \u001b[3m\u001b[90m<chr>\u001b[39m\u001b[23m \"13/14-Manchester City\", \"13/14-Chelsea\", \"13/14-M…\n",
      "$ Squad               \u001b[3m\u001b[90m<chr>\u001b[39m\u001b[23m \"Manchester City\", \"Chelsea\", \"Manchester Utd\", \"A…\n",
      "$ X..Pl               \u001b[3m\u001b[90m<dbl>\u001b[39m\u001b[23m 28, 49, 37, 41, 35, 35, 42, 45, 39, 37, 33, 33, 48…\n",
      "$ Weekly_Wages_pounds \u001b[3m\u001b[90m<dbl>\u001b[39m\u001b[23m 2177962, 1979269, 1871000, 1384500, 1262442, 10161…\n",
      "$ Annual_Wages_pounds \u001b[3m\u001b[90m<dbl>\u001b[39m\u001b[23m 113254000, 102922000, 97292000, 71994000, 65647000…\n",
      "$ X..Estimated        \u001b[3m\u001b[90m<chr>\u001b[39m\u001b[23m \"100%\", \"100%\", \"100%\", \"100%\", \"100%\", \"100%\", \"1…\n"
     ]
    }
   ],
   "source": [
    "premier_wages <- read_csv(\"PremierLeagueWages.csv\") %>%\n",
    " glimpse()"
   ]
  },
  {
   "cell_type": "code",
   "execution_count": 13,
   "id": "c0b95c37-8515-48d6-9113-d74a3a8d158e",
   "metadata": {
    "tags": []
   },
   "outputs": [
    {
     "data": {
      "text/html": [
       "<table class=\"dataframe\">\n",
       "<caption>A tibble: 6 × 11</caption>\n",
       "<thead>\n",
       "\t<tr><th scope=col>...1</th><th scope=col>Season_ID</th><th scope=col>Season</th><th scope=col>League</th><th scope=col>Rk</th><th scope=col>Team_ID</th><th scope=col>Squad</th><th scope=col>X..Pl</th><th scope=col>Weekly_Wages_pounds</th><th scope=col>Annual_Wages_pounds</th><th scope=col>X..Estimated</th></tr>\n",
       "\t<tr><th scope=col>&lt;dbl&gt;</th><th scope=col>&lt;chr&gt;</th><th scope=col>&lt;chr&gt;</th><th scope=col>&lt;chr&gt;</th><th scope=col>&lt;dbl&gt;</th><th scope=col>&lt;chr&gt;</th><th scope=col>&lt;chr&gt;</th><th scope=col>&lt;dbl&gt;</th><th scope=col>&lt;dbl&gt;</th><th scope=col>&lt;dbl&gt;</th><th scope=col>&lt;chr&gt;</th></tr>\n",
       "</thead>\n",
       "<tbody>\n",
       "\t<tr><td>1</td><td>13/14-PL</td><td>2013-2014</td><td>Premier League</td><td>1</td><td>13/14-Manchester City</td><td>Manchester City</td><td>28</td><td>2177962</td><td>113254000</td><td>100%</td></tr>\n",
       "\t<tr><td>2</td><td>13/14-PL</td><td>2013-2014</td><td>Premier League</td><td>2</td><td>13/14-Chelsea        </td><td>Chelsea        </td><td>49</td><td>1979269</td><td>102922000</td><td>100%</td></tr>\n",
       "\t<tr><td>3</td><td>13/14-PL</td><td>2013-2014</td><td>Premier League</td><td>3</td><td>13/14-Manchester Utd </td><td>Manchester Utd </td><td>37</td><td>1871000</td><td> 97292000</td><td>100%</td></tr>\n",
       "\t<tr><td>4</td><td>13/14-PL</td><td>2013-2014</td><td>Premier League</td><td>4</td><td>13/14-Arsenal        </td><td>Arsenal        </td><td>41</td><td>1384500</td><td> 71994000</td><td>100%</td></tr>\n",
       "\t<tr><td>5</td><td>13/14-PL</td><td>2013-2014</td><td>Premier League</td><td>5</td><td>13/14-Liverpool      </td><td>Liverpool      </td><td>35</td><td>1262442</td><td> 65647000</td><td>100%</td></tr>\n",
       "\t<tr><td>6</td><td>13/14-PL</td><td>2013-2014</td><td>Premier League</td><td>6</td><td>13/14-Everton        </td><td>Everton        </td><td>35</td><td>1016154</td><td> 52840000</td><td>100%</td></tr>\n",
       "</tbody>\n",
       "</table>\n"
      ],
      "text/latex": [
       "A tibble: 6 × 11\n",
       "\\begin{tabular}{lllllllllll}\n",
       " ...1 & Season\\_ID & Season & League & Rk & Team\\_ID & Squad & X..Pl & Weekly\\_Wages\\_pounds & Annual\\_Wages\\_pounds & X..Estimated\\\\\n",
       " <dbl> & <chr> & <chr> & <chr> & <dbl> & <chr> & <chr> & <dbl> & <dbl> & <dbl> & <chr>\\\\\n",
       "\\hline\n",
       "\t 1 & 13/14-PL & 2013-2014 & Premier League & 1 & 13/14-Manchester City & Manchester City & 28 & 2177962 & 113254000 & 100\\%\\\\\n",
       "\t 2 & 13/14-PL & 2013-2014 & Premier League & 2 & 13/14-Chelsea         & Chelsea         & 49 & 1979269 & 102922000 & 100\\%\\\\\n",
       "\t 3 & 13/14-PL & 2013-2014 & Premier League & 3 & 13/14-Manchester Utd  & Manchester Utd  & 37 & 1871000 &  97292000 & 100\\%\\\\\n",
       "\t 4 & 13/14-PL & 2013-2014 & Premier League & 4 & 13/14-Arsenal         & Arsenal         & 41 & 1384500 &  71994000 & 100\\%\\\\\n",
       "\t 5 & 13/14-PL & 2013-2014 & Premier League & 5 & 13/14-Liverpool       & Liverpool       & 35 & 1262442 &  65647000 & 100\\%\\\\\n",
       "\t 6 & 13/14-PL & 2013-2014 & Premier League & 6 & 13/14-Everton         & Everton         & 35 & 1016154 &  52840000 & 100\\%\\\\\n",
       "\\end{tabular}\n"
      ],
      "text/markdown": [
       "\n",
       "A tibble: 6 × 11\n",
       "\n",
       "| ...1 &lt;dbl&gt; | Season_ID &lt;chr&gt; | Season &lt;chr&gt; | League &lt;chr&gt; | Rk &lt;dbl&gt; | Team_ID &lt;chr&gt; | Squad &lt;chr&gt; | X..Pl &lt;dbl&gt; | Weekly_Wages_pounds &lt;dbl&gt; | Annual_Wages_pounds &lt;dbl&gt; | X..Estimated &lt;chr&gt; |\n",
       "|---|---|---|---|---|---|---|---|---|---|---|\n",
       "| 1 | 13/14-PL | 2013-2014 | Premier League | 1 | 13/14-Manchester City | Manchester City | 28 | 2177962 | 113254000 | 100% |\n",
       "| 2 | 13/14-PL | 2013-2014 | Premier League | 2 | 13/14-Chelsea         | Chelsea         | 49 | 1979269 | 102922000 | 100% |\n",
       "| 3 | 13/14-PL | 2013-2014 | Premier League | 3 | 13/14-Manchester Utd  | Manchester Utd  | 37 | 1871000 |  97292000 | 100% |\n",
       "| 4 | 13/14-PL | 2013-2014 | Premier League | 4 | 13/14-Arsenal         | Arsenal         | 41 | 1384500 |  71994000 | 100% |\n",
       "| 5 | 13/14-PL | 2013-2014 | Premier League | 5 | 13/14-Liverpool       | Liverpool       | 35 | 1262442 |  65647000 | 100% |\n",
       "| 6 | 13/14-PL | 2013-2014 | Premier League | 6 | 13/14-Everton         | Everton         | 35 | 1016154 |  52840000 | 100% |\n",
       "\n"
      ],
      "text/plain": [
       "  ...1 Season_ID Season    League         Rk Team_ID              \n",
       "1 1    13/14-PL  2013-2014 Premier League 1  13/14-Manchester City\n",
       "2 2    13/14-PL  2013-2014 Premier League 2  13/14-Chelsea        \n",
       "3 3    13/14-PL  2013-2014 Premier League 3  13/14-Manchester Utd \n",
       "4 4    13/14-PL  2013-2014 Premier League 4  13/14-Arsenal        \n",
       "5 5    13/14-PL  2013-2014 Premier League 5  13/14-Liverpool      \n",
       "6 6    13/14-PL  2013-2014 Premier League 6  13/14-Everton        \n",
       "  Squad           X..Pl Weekly_Wages_pounds Annual_Wages_pounds X..Estimated\n",
       "1 Manchester City 28    2177962             113254000           100%        \n",
       "2 Chelsea         49    1979269             102922000           100%        \n",
       "3 Manchester Utd  37    1871000              97292000           100%        \n",
       "4 Arsenal         41    1384500              71994000           100%        \n",
       "5 Liverpool       35    1262442              65647000           100%        \n",
       "6 Everton         35    1016154              52840000           100%        "
      ]
     },
     "metadata": {},
     "output_type": "display_data"
    }
   ],
   "source": [
    "premier_wages %>% head()"
   ]
  },
  {
   "cell_type": "code",
   "execution_count": 14,
   "id": "0149c0dd-9c5e-4348-b099-129ecfdb6aa9",
   "metadata": {
    "tags": []
   },
   "outputs": [],
   "source": [
    "premier_wages_filtered <- premier_wages %>%\n",
    "  filter(!between(substring(Season, 1, 4), \"2009\", \"2014\"))"
   ]
  },
  {
   "cell_type": "code",
   "execution_count": 15,
   "id": "6450255a-c09d-4688-b759-943f35a3506f",
   "metadata": {
    "tags": []
   },
   "outputs": [
    {
     "data": {
      "text/html": [
       "<table class=\"dataframe\">\n",
       "<caption>A tibble: 6 × 11</caption>\n",
       "<thead>\n",
       "\t<tr><th scope=col>...1</th><th scope=col>Season_ID</th><th scope=col>Season</th><th scope=col>League</th><th scope=col>Rk</th><th scope=col>Team_ID</th><th scope=col>Squad</th><th scope=col>X..Pl</th><th scope=col>Weekly_Wages_pounds</th><th scope=col>Annual_Wages_pounds</th><th scope=col>X..Estimated</th></tr>\n",
       "\t<tr><th scope=col>&lt;dbl&gt;</th><th scope=col>&lt;chr&gt;</th><th scope=col>&lt;chr&gt;</th><th scope=col>&lt;chr&gt;</th><th scope=col>&lt;dbl&gt;</th><th scope=col>&lt;chr&gt;</th><th scope=col>&lt;chr&gt;</th><th scope=col>&lt;dbl&gt;</th><th scope=col>&lt;dbl&gt;</th><th scope=col>&lt;dbl&gt;</th><th scope=col>&lt;chr&gt;</th></tr>\n",
       "</thead>\n",
       "<tbody>\n",
       "\t<tr><td>175</td><td>21/22-PL</td><td>2021-2022</td><td>Premier League</td><td>15</td><td>21/22-Brighton    </td><td>Brighton    </td><td>76</td><td>893654</td><td>46470000</td><td>24%</td></tr>\n",
       "\t<tr><td>176</td><td>21/22-PL</td><td>2021-2022</td><td>Premier League</td><td>16</td><td>21/22-Watford     </td><td>Watford     </td><td>88</td><td>795769</td><td>41380000</td><td>36%</td></tr>\n",
       "\t<tr><td>177</td><td>21/22-PL</td><td>2021-2022</td><td>Premier League</td><td>17</td><td>21/22-Burnley     </td><td>Burnley     </td><td>72</td><td>760000</td><td>39520000</td><td>22%</td></tr>\n",
       "\t<tr><td>178</td><td>21/22-PL</td><td>2021-2022</td><td>Premier League</td><td>18</td><td>21/22-Norwich City</td><td>Norwich City</td><td>82</td><td>602308</td><td>31320000</td><td>28%</td></tr>\n",
       "\t<tr><td>179</td><td>21/22-PL</td><td>2021-2022</td><td>Premier League</td><td>19</td><td>21/22-Leeds United</td><td>Leeds United</td><td>70</td><td>457885</td><td>23810000</td><td>27%</td></tr>\n",
       "\t<tr><td>180</td><td>21/22-PL</td><td>2021-2022</td><td>Premier League</td><td>20</td><td>21/22-Brentford   </td><td>Brentford   </td><td>90</td><td>406346</td><td>21130000</td><td>36%</td></tr>\n",
       "</tbody>\n",
       "</table>\n"
      ],
      "text/latex": [
       "A tibble: 6 × 11\n",
       "\\begin{tabular}{lllllllllll}\n",
       " ...1 & Season\\_ID & Season & League & Rk & Team\\_ID & Squad & X..Pl & Weekly\\_Wages\\_pounds & Annual\\_Wages\\_pounds & X..Estimated\\\\\n",
       " <dbl> & <chr> & <chr> & <chr> & <dbl> & <chr> & <chr> & <dbl> & <dbl> & <dbl> & <chr>\\\\\n",
       "\\hline\n",
       "\t 175 & 21/22-PL & 2021-2022 & Premier League & 15 & 21/22-Brighton     & Brighton     & 76 & 893654 & 46470000 & 24\\%\\\\\n",
       "\t 176 & 21/22-PL & 2021-2022 & Premier League & 16 & 21/22-Watford      & Watford      & 88 & 795769 & 41380000 & 36\\%\\\\\n",
       "\t 177 & 21/22-PL & 2021-2022 & Premier League & 17 & 21/22-Burnley      & Burnley      & 72 & 760000 & 39520000 & 22\\%\\\\\n",
       "\t 178 & 21/22-PL & 2021-2022 & Premier League & 18 & 21/22-Norwich City & Norwich City & 82 & 602308 & 31320000 & 28\\%\\\\\n",
       "\t 179 & 21/22-PL & 2021-2022 & Premier League & 19 & 21/22-Leeds United & Leeds United & 70 & 457885 & 23810000 & 27\\%\\\\\n",
       "\t 180 & 21/22-PL & 2021-2022 & Premier League & 20 & 21/22-Brentford    & Brentford    & 90 & 406346 & 21130000 & 36\\%\\\\\n",
       "\\end{tabular}\n"
      ],
      "text/markdown": [
       "\n",
       "A tibble: 6 × 11\n",
       "\n",
       "| ...1 &lt;dbl&gt; | Season_ID &lt;chr&gt; | Season &lt;chr&gt; | League &lt;chr&gt; | Rk &lt;dbl&gt; | Team_ID &lt;chr&gt; | Squad &lt;chr&gt; | X..Pl &lt;dbl&gt; | Weekly_Wages_pounds &lt;dbl&gt; | Annual_Wages_pounds &lt;dbl&gt; | X..Estimated &lt;chr&gt; |\n",
       "|---|---|---|---|---|---|---|---|---|---|---|\n",
       "| 175 | 21/22-PL | 2021-2022 | Premier League | 15 | 21/22-Brighton     | Brighton     | 76 | 893654 | 46470000 | 24% |\n",
       "| 176 | 21/22-PL | 2021-2022 | Premier League | 16 | 21/22-Watford      | Watford      | 88 | 795769 | 41380000 | 36% |\n",
       "| 177 | 21/22-PL | 2021-2022 | Premier League | 17 | 21/22-Burnley      | Burnley      | 72 | 760000 | 39520000 | 22% |\n",
       "| 178 | 21/22-PL | 2021-2022 | Premier League | 18 | 21/22-Norwich City | Norwich City | 82 | 602308 | 31320000 | 28% |\n",
       "| 179 | 21/22-PL | 2021-2022 | Premier League | 19 | 21/22-Leeds United | Leeds United | 70 | 457885 | 23810000 | 27% |\n",
       "| 180 | 21/22-PL | 2021-2022 | Premier League | 20 | 21/22-Brentford    | Brentford    | 90 | 406346 | 21130000 | 36% |\n",
       "\n"
      ],
      "text/plain": [
       "  ...1 Season_ID Season    League         Rk Team_ID            Squad       \n",
       "1 175  21/22-PL  2021-2022 Premier League 15 21/22-Brighton     Brighton    \n",
       "2 176  21/22-PL  2021-2022 Premier League 16 21/22-Watford      Watford     \n",
       "3 177  21/22-PL  2021-2022 Premier League 17 21/22-Burnley      Burnley     \n",
       "4 178  21/22-PL  2021-2022 Premier League 18 21/22-Norwich City Norwich City\n",
       "5 179  21/22-PL  2021-2022 Premier League 19 21/22-Leeds United Leeds United\n",
       "6 180  21/22-PL  2021-2022 Premier League 20 21/22-Brentford    Brentford   \n",
       "  X..Pl Weekly_Wages_pounds Annual_Wages_pounds X..Estimated\n",
       "1 76    893654              46470000            24%         \n",
       "2 88    795769              41380000            36%         \n",
       "3 72    760000              39520000            22%         \n",
       "4 82    602308              31320000            28%         \n",
       "5 70    457885              23810000            27%         \n",
       "6 90    406346              21130000            36%         "
      ]
     },
     "metadata": {},
     "output_type": "display_data"
    }
   ],
   "source": [
    "premier_wages_filtered %>% tail()"
   ]
  },
  {
   "cell_type": "markdown",
   "id": "4c91ce1b-9060-4a80-bb1c-292ce3a938ea",
   "metadata": {},
   "source": [
    "### Combine the premier_wages_filtered with premier_wages."
   ]
  },
  {
   "cell_type": "code",
   "execution_count": 16,
   "id": "8f4559e3-a2b2-449d-aac5-dbf1478a5b82",
   "metadata": {
    "tags": []
   },
   "outputs": [],
   "source": [
    "wins_and_wages <- merge(premier_filtered, premier_wages_filtered, by = c('Squad', 'Season'))"
   ]
  },
  {
   "cell_type": "code",
   "execution_count": 17,
   "id": "ffc1d0b8-3492-4cb1-8a9f-9138d6fc3b18",
   "metadata": {
    "tags": []
   },
   "outputs": [],
   "source": [
    "plot_1 <- ggplot(wins_and_wages, aes(x = Annual_Wages_pounds, y = W)) +\n",
    "  geom_point(size = 5) +\n",
    "  geom_smooth(\n",
    "      method = 'lm', formula = y ~ x)+\n",
    "  theme_classic() +\n",
    "  xlab(\"Annual Wages\") +\n",
    "  ylab(\"Number of Wins\") +\n",
    "  ggtitle(\"Correlation Between Annual Wages & Wins in the Premier League (2015 - 2022)\")"
   ]
  },
  {
   "cell_type": "code",
   "execution_count": 18,
   "id": "392387aa-e5fd-4173-88c3-1d82b97047d5",
   "metadata": {
    "tags": []
   },
   "outputs": [
    {
     "data": {
      "image/png": "[encoded data removed]",
      "text/plain": [
       "plot without title"
      ]
     },
     "metadata": {
      "image/png": {
       "height": 420,
       "width": 420
      }
     },
     "output_type": "display_data"
    }
   ],
   "source": [
    "print(plot_1)"
   ]
  },
  {
   "cell_type": "code",
   "execution_count": 19,
   "id": "62090399-a413-447d-8c09-ffb0be476f0b",
   "metadata": {
    "tags": []
   },
   "outputs": [
    {
     "name": "stderr",
     "output_type": "stream",
     "text": [
      "\u001b[1m\u001b[22mSaving 6.67 x 6.67 in image\n"
     ]
    }
   ],
   "source": [
    "ggsave(\"wins_vs_wages_premier.png\", plot = plot_1)"
   ]
  },
  {
   "cell_type": "code",
   "execution_count": 20,
   "id": "11cab496-21f7-42bc-9c93-bdad20daefa2",
   "metadata": {
    "tags": []
   },
   "outputs": [
    {
     "data": {
      "text/html": [
       "0.686374971487951"
      ],
      "text/latex": [
       "0.686374971487951"
      ],
      "text/markdown": [
       "0.686374971487951"
      ],
      "text/plain": [
       "[1] 0.686375"
      ]
     },
     "metadata": {},
     "output_type": "display_data"
    }
   ],
   "source": [
    "cor(wins_and_wages$Annual_Wages_pounds, wins_and_wages$W)"
   ]
  },
  {
   "cell_type": "markdown",
   "id": "25bfb077-f3dc-442d-9e56-1deec4179d12",
   "metadata": {},
   "source": [
    "### Is there a correlation between attendance and number of wins?"
   ]
  },
  {
   "cell_type": "code",
   "execution_count": 23,
   "id": "352371fb-b8f1-4717-99b4-91fe3a018875",
   "metadata": {
    "tags": []
   },
   "outputs": [],
   "source": [
    "plot_2 <- ggplot(wins_and_wages, aes(x = Attendance, y = W)) +\n",
    "  geom_point(size = 5) +\n",
    "  geom_smooth(\n",
    "      method = 'lm', formula = y ~ x)+\n",
    "  theme_classic() +\n",
    "  xlab(\"Attendance\") +\n",
    "  ylab(\"Number of Wins\") +\n",
    "  ggtitle(\"Audience Attendance vs Wins in the Premier League (2015 - 2022)\")"
   ]
  },
  {
   "cell_type": "code",
   "execution_count": 24,
   "id": "4af24149-a574-4ef4-bdf6-e87094cfb7c8",
   "metadata": {
    "tags": []
   },
   "outputs": [
    {
     "data": {
      "image/png": "[encoded data removed]",
      "text/plain": [
       "plot without title"
      ]
     },
     "metadata": {
      "image/png": {
       "height": 420,
       "width": 420
      }
     },
     "output_type": "display_data"
    }
   ],
   "source": [
    "print(plot_2)"
   ]
  },
  {
   "cell_type": "code",
   "execution_count": 25,
   "id": "1e68f3bc-0596-4f95-92e7-cb000dc3b93a",
   "metadata": {
    "tags": []
   },
   "outputs": [
    {
     "name": "stderr",
     "output_type": "stream",
     "text": [
      "\u001b[1m\u001b[22mSaving 6.67 x 6.67 in image\n"
     ]
    }
   ],
   "source": [
    "ggsave(\"attendance_wins_premier.png\", plot = plot_2)"
   ]
  },
  {
   "cell_type": "markdown",
   "id": "633fe657-2bcf-47ac-be4a-6c0adefc9066",
   "metadata": {},
   "source": [
    "The graph indicates that there is positive correlation between attendance and wins. However, it is not very insightful. This would have been better if there is data for home and away game stats for each team."
   ]
  },
  {
   "cell_type": "markdown",
   "id": "54bfde3c-ccbb-453f-8173-48f220490a23",
   "metadata": {},
   "source": [
    "### Is there a correlation between annual wage and attendance?\n"
   ]
  },
  {
   "cell_type": "code",
   "execution_count": 25,
   "id": "87ed0760-df2b-47c9-88b7-ea1563bba001",
   "metadata": {
    "tags": []
   },
   "outputs": [
    {
     "data": {
      "image/png": "[encoded data removed]",
      "text/plain": [
       "plot without title"
      ]
     },
     "metadata": {
      "image/png": {
       "height": 420,
       "width": 420
      }
     },
     "output_type": "display_data"
    }
   ],
   "source": [
    "ggplot(wins_and_wages, aes(x = Attendance, y = Annual_Wages_pounds)) +\n",
    "  geom_point(size = 5) +\n",
    "  geom_smooth(\n",
    "      method = 'lm', formula = y ~ x)+\n",
    "  theme_classic() +\n",
    "  xlab(\"Attendance\") +\n",
    "  ylab(\"Number of Wins\") +\n",
    "  ggtitle(\"Correlation Between Audience Attendance and Wins\")"
   ]
  },
  {
   "cell_type": "markdown",
   "id": "b729ddcf-742b-4a22-8fde-e3d260b7155e",
   "metadata": {},
   "source": [
    "### Is there a correlation between Goal Difference (GD) and wins?"
   ]
  },
  {
   "cell_type": "code",
   "execution_count": 26,
   "id": "877fcab6-2e26-4ea8-b275-ae433b957eab",
   "metadata": {
    "tags": []
   },
   "outputs": [],
   "source": [
    "plot_3 <- ggplot(wins_and_wages, aes(x = GD, y = W)) +\n",
    "  geom_point(size = 5) +\n",
    "  geom_smooth(\n",
    "      method = 'lm', formula = y ~ x)+\n",
    "  theme_classic() +\n",
    "  xlab(\"Goal Difference\") +\n",
    "  ylab(\"Number of Wins\") +\n",
    "  ggtitle(\"Correlation Between Goal Difference & Wins in the Premier League (2015 - 2022)\")"
   ]
  },
  {
   "cell_type": "code",
   "execution_count": 27,
   "id": "48662866-f022-4ca9-a688-65993a42bde9",
   "metadata": {
    "tags": []
   },
   "outputs": [
    {
     "data": {
      "image/png": "[encoded data removed]",
      "text/plain": [
       "plot without title"
      ]
     },
     "metadata": {
      "image/png": {
       "height": 420,
       "width": 420
      }
     },
     "output_type": "display_data"
    }
   ],
   "source": [
    "print(plot_3)"
   ]
  },
  {
   "cell_type": "code",
   "execution_count": 28,
   "id": "d8cf548d-d93f-4ebf-81a3-2b9b5c8a5817",
   "metadata": {
    "tags": []
   },
   "outputs": [
    {
     "name": "stderr",
     "output_type": "stream",
     "text": [
      "\u001b[1m\u001b[22mSaving 6.67 x 6.67 in image\n"
     ]
    }
   ],
   "source": [
    "ggsave(\"goals_wins_premier.png\", plot = plot_3)"
   ]
  },
  {
   "cell_type": "code",
   "execution_count": 29,
   "id": "b0f732ca-1c1b-437b-b280-0225de791e98",
   "metadata": {
    "tags": []
   },
   "outputs": [
    {
     "data": {
      "text/html": [
       "0.952604101256111"
      ],
      "text/latex": [
       "0.952604101256111"
      ],
      "text/markdown": [
       "0.952604101256111"
      ],
      "text/plain": [
       "[1] 0.9526041"
      ]
     },
     "metadata": {},
     "output_type": "display_data"
    }
   ],
   "source": [
    "cor(wins_and_wages$GD, wins_and_wages$W)"
   ]
  },
  {
   "cell_type": "markdown",
   "id": "c0cf0b58-b3ee-4b2c-8e2b-5ce25abf9e50",
   "metadata": {},
   "source": [
    "END OF NOTEBOOK"
   ]
  },
  {
   "cell_type": "markdown",
   "id": "717bb010-3a23-42e3-9081-c7b997424b98",
   "metadata": {},
   "source": [
    "written by jjm148 for DATA422"
   ]
  }
 ],
 "metadata": {
  "kernelspec": {
   "display_name": "R",
   "language": "R",
   "name": "ir"
  },
  "language_info": {
   "codemirror_mode": "r",
   "file_extension": ".r",
   "mimetype": "text/x-r-source",
   "name": "R",
   "pygments_lexer": "r",
   "version": "4.3.1"
  }
 },
 "nbformat": 4,
 "nbformat_minor": 5
}
