{
 "cells": [
  {
   "cell_type": "markdown",
   "id": "f151c175-7082-4855-915e-eabcddde5ad6",
   "metadata": {},
   "source": [
    "### Investigate the La Liga dataset"
   ]
  },
  {
   "cell_type": "code",
   "execution_count": 1,
   "id": "b02ebb12-50af-4d55-bc53-80f05b857dc8",
   "metadata": {
    "tags": []
   },
   "outputs": [
    {
     "name": "stderr",
     "output_type": "stream",
     "text": [
      "── \u001b[1mAttaching core tidyverse packages\u001b[22m ──────────────────────────────────────────────────────────────── tidyverse 2.0.0 ──\n",
      "\u001b[32m✔\u001b[39m \u001b[34mdplyr    \u001b[39m 1.1.2     \u001b[32m✔\u001b[39m \u001b[34mreadr    \u001b[39m 2.1.4\n",
      "\u001b[32m✔\u001b[39m \u001b[34mforcats  \u001b[39m 1.0.0     \u001b[32m✔\u001b[39m \u001b[34mstringr  \u001b[39m 1.5.0\n",
      "\u001b[32m✔\u001b[39m \u001b[34mggplot2  \u001b[39m 3.4.2     \u001b[32m✔\u001b[39m \u001b[34mtibble   \u001b[39m 3.2.1\n",
      "\u001b[32m✔\u001b[39m \u001b[34mlubridate\u001b[39m 1.9.2     \u001b[32m✔\u001b[39m \u001b[34mtidyr    \u001b[39m 1.3.0\n",
      "\u001b[32m✔\u001b[39m \u001b[34mpurrr    \u001b[39m 1.0.1     \n",
      "── \u001b[1mConflicts\u001b[22m ────────────────────────────────────────────────────────────────────────────────── tidyverse_conflicts() ──\n",
      "\u001b[31m✖\u001b[39m \u001b[34mdplyr\u001b[39m::\u001b[32mfilter()\u001b[39m masks \u001b[34mstats\u001b[39m::filter()\n",
      "\u001b[31m✖\u001b[39m \u001b[34mdplyr\u001b[39m::\u001b[32mlag()\u001b[39m    masks \u001b[34mstats\u001b[39m::lag()\n",
      "\u001b[36mℹ\u001b[39m Use the conflicted package (\u001b[3m\u001b[34m<http://conflicted.r-lib.org/>\u001b[39m\u001b[23m) to force all conflicts to become errors\n"
     ]
    }
   ],
   "source": [
    "library(tidyverse)"
   ]
  },
  {
   "cell_type": "code",
   "execution_count": 2,
   "id": "bf9b0636-63f6-4a88-b1f1-beefe8890b19",
   "metadata": {
    "tags": []
   },
   "outputs": [],
   "source": [
    "library(skimr) #provides broad overview of data frame (Tidy data lecture)\n",
    "library(visdat) #provide visualisation of entire dataframe (google definition)"
   ]
  },
  {
   "cell_type": "code",
   "execution_count": 3,
   "id": "4664d03c-cd8c-42b6-8a92-2e1bc5025985",
   "metadata": {
    "tags": []
   },
   "outputs": [
    {
     "name": "stderr",
     "output_type": "stream",
     "text": [
      "\u001b[1m\u001b[22mNew names:\n",
      "\u001b[36m•\u001b[39m `` -> `...1`\n",
      "\u001b[1mRows: \u001b[22m\u001b[34m260\u001b[39m \u001b[1mColumns: \u001b[22m\u001b[34m26\u001b[39m\n",
      "\u001b[36m──\u001b[39m \u001b[1mColumn specification\u001b[22m \u001b[36m────────────────────────────────────────────────────────────────────────────────────────────────\u001b[39m\n",
      "\u001b[1mDelimiter:\u001b[22m \",\"\n",
      "\u001b[31mchr\u001b[39m  (9): Season_ID, Season, League, Team_ID, Squad, Player_ID, Top.Team.Sco...\n",
      "\u001b[32mdbl\u001b[39m (17): ...1, Rk, MP, W, D, L, GF, GA, GD, Pts, Pts.MP, Attendance, GoalsS...\n",
      "\n",
      "\u001b[36mℹ\u001b[39m Use `spec()` to retrieve the full column specification for this data.\n",
      "\u001b[36mℹ\u001b[39m Specify the column types or set `show_col_types = FALSE` to quiet this message.\n"
     ]
    },
    {
     "name": "stdout",
     "output_type": "stream",
     "text": [
      "Rows: 260\n",
      "Columns: 26\n",
      "$ ...1            \u001b[3m\u001b[90m<dbl>\u001b[39m\u001b[23m 1, 2, 3, 4, 5, 6, 7, 8, 9, 10, 11, 12, 13, 14, 15, 16,…\n",
      "$ Season_ID       \u001b[3m\u001b[90m<chr>\u001b[39m\u001b[23m \"09/10-LL\", \"09/10-LL\", \"09/10-LL\", \"09/10-LL\", \"09/10…\n",
      "$ Season          \u001b[3m\u001b[90m<chr>\u001b[39m\u001b[23m \"2009-2010\", \"2009-2010\", \"2009-2010\", \"2009-2010\", \"2…\n",
      "$ League          \u001b[3m\u001b[90m<chr>\u001b[39m\u001b[23m \"La Liga\", \"La Liga\", \"La Liga\", \"La Liga\", \"La Liga\",…\n",
      "$ Rk              \u001b[3m\u001b[90m<dbl>\u001b[39m\u001b[23m 1, 2, 3, 4, 5, 6, 7, 8, 9, 10, 11, 12, 13, 14, 15, 16,…\n",
      "$ Team_ID         \u001b[3m\u001b[90m<chr>\u001b[39m\u001b[23m \"09/10-Barcelona\", \"09/10-Real Madrid\", \"09/10-Valenci…\n",
      "$ Squad           \u001b[3m\u001b[90m<chr>\u001b[39m\u001b[23m \"Barcelona\", \"Real Madrid\", \"Valencia\", \"Sevilla\", \"Ma…\n",
      "$ MP              \u001b[3m\u001b[90m<dbl>\u001b[39m\u001b[23m 38, 38, 38, 38, 38, 38, 38, 38, 38, 38, 38, 38, 38, 38…\n",
      "$ W               \u001b[3m\u001b[90m<dbl>\u001b[39m\u001b[23m 31, 31, 21, 19, 18, 17, 16, 15, 13, 13, 11, 11, 10, 10…\n",
      "$ D               \u001b[3m\u001b[90m<dbl>\u001b[39m\u001b[23m 6, 3, 8, 6, 8, 7, 8, 9, 8, 8, 11, 10, 12, 11, 13, 12, …\n",
      "$ L               \u001b[3m\u001b[90m<dbl>\u001b[39m\u001b[23m 1, 4, 9, 13, 12, 14, 14, 14, 17, 17, 16, 17, 16, 17, 1…\n",
      "$ GF              \u001b[3m\u001b[90m<dbl>\u001b[39m\u001b[23m 98, 102, 59, 65, 59, 58, 58, 50, 57, 35, 29, 37, 43, 4…\n",
      "$ GA              \u001b[3m\u001b[90m<dbl>\u001b[39m\u001b[23m 24, 35, 40, 49, 44, 48, 57, 53, 61, 49, 46, 46, 55, 64…\n",
      "$ GD              \u001b[3m\u001b[90m<dbl>\u001b[39m\u001b[23m 74, 67, 19, 16, 15, 10, 1, -3, -4, -14, -17, -9, -12, …\n",
      "$ Pts             \u001b[3m\u001b[90m<dbl>\u001b[39m\u001b[23m 99, 96, 71, 63, 62, 58, 56, 54, 47, 47, 44, 43, 42, 41…\n",
      "$ Pts.MP          \u001b[3m\u001b[90m<dbl>\u001b[39m\u001b[23m 2.61, 2.53, 1.87, 1.66, 1.63, 1.53, 1.47, 1.42, 1.24, …\n",
      "$ Attendance      \u001b[3m\u001b[90m<dbl>\u001b[39m\u001b[23m 77106, 74316, 41221, 38597, 13209, 10863, 17089, 36079…\n",
      "$ Player_ID       \u001b[3m\u001b[90m<chr>\u001b[39m\u001b[23m \"09/10-Lionel Messi\", \"09/10-Gonzalo Higuaín\", \"09/10-…\n",
      "$ Top.Team.Scorer \u001b[3m\u001b[90m<chr>\u001b[39m\u001b[23m \"Lionel Messi\", \"Gonzalo Higuaín\", \"David Villa\", \"Luí…\n",
      "$ GoalsScored     \u001b[3m\u001b[90m<dbl>\u001b[39m\u001b[23m 34, 27, 21, 15, 12, 16, 11, 14, 18, 8, 7, 11, 9, 7, 10…\n",
      "$ Goalkeeper      \u001b[3m\u001b[90m<chr>\u001b[39m\u001b[23m \"Víctor Valdés\", \"Iker Casillas\", \"César Sánchez\", \"An…\n",
      "$ Notes           \u001b[3m\u001b[90m<chr>\u001b[39m\u001b[23m \"→ Champions League via league finish\", \"→ Champions L…\n",
      "$ xG              \u001b[3m\u001b[90m<dbl>\u001b[39m\u001b[23m NA, NA, NA, NA, NA, NA, NA, NA, NA, NA, NA, NA, NA, NA…\n",
      "$ xGA             \u001b[3m\u001b[90m<dbl>\u001b[39m\u001b[23m NA, NA, NA, NA, NA, NA, NA, NA, NA, NA, NA, NA, NA, NA…\n",
      "$ xGD             \u001b[3m\u001b[90m<dbl>\u001b[39m\u001b[23m NA, NA, NA, NA, NA, NA, NA, NA, NA, NA, NA, NA, NA, NA…\n",
      "$ xGD.90          \u001b[3m\u001b[90m<dbl>\u001b[39m\u001b[23m NA, NA, NA, NA, NA, NA, NA, NA, NA, NA, NA, NA, NA, NA…\n"
     ]
    }
   ],
   "source": [
    "laliga_df <- read_csv(\"LaLigaTables.csv\") %>%\n",
    " glimpse()"
   ]
  },
  {
   "cell_type": "markdown",
   "id": "b1a80a3e-b951-4b6c-98a3-73e3e41edfac",
   "metadata": {},
   "source": [
    "### There are unwanted columns that we are not interested in as they describe individual player performance.Also it has significant NA values. Lets get rid of them."
   ]
  },
  {
   "cell_type": "markdown",
   "id": "0ed70d65-b1ad-498a-9112-524576368ece",
   "metadata": {},
   "source": [
    "Remove xG, xGA, XGD, XGD.90"
   ]
  },
  {
   "cell_type": "code",
   "execution_count": 4,
   "id": "8ce55886-7098-4143-8304-daeeaa59c1b5",
   "metadata": {
    "tags": []
   },
   "outputs": [],
   "source": [
    "laliga_df <- laliga_df %>%\n",
    "  select(!xG)"
   ]
  },
  {
   "cell_type": "code",
   "execution_count": 5,
   "id": "dceaf4cd-b775-4a91-8154-f0857c2e5fa0",
   "metadata": {
    "tags": []
   },
   "outputs": [],
   "source": [
    "laliga_df <- laliga_df %>%\n",
    "  select(!xGA)"
   ]
  },
  {
   "cell_type": "code",
   "execution_count": 6,
   "id": "a089c127-9af5-4e13-8190-e782baa466ad",
   "metadata": {
    "tags": []
   },
   "outputs": [],
   "source": [
    "laliga_df <- laliga_df %>%\n",
    "  select(!xGD)"
   ]
  },
  {
   "cell_type": "code",
   "execution_count": 7,
   "id": "363b17de-0e8f-4a58-bef8-459820852112",
   "metadata": {
    "tags": []
   },
   "outputs": [],
   "source": [
    "laliga_df <- laliga_df %>%\n",
    "  select(!xGD.90)"
   ]
  },
  {
   "cell_type": "code",
   "execution_count": 8,
   "id": "541f2152-355c-4030-9c7b-2240c65c6d21",
   "metadata": {},
   "outputs": [
    {
     "data": {
      "text/html": [
       "<table class=\"dataframe\">\n",
       "<caption>A tibble: 20 × 22</caption>\n",
       "<thead>\n",
       "\t<tr><th scope=col>...1</th><th scope=col>Season_ID</th><th scope=col>Season</th><th scope=col>League</th><th scope=col>Rk</th><th scope=col>Team_ID</th><th scope=col>Squad</th><th scope=col>MP</th><th scope=col>W</th><th scope=col>D</th><th scope=col>⋯</th><th scope=col>GA</th><th scope=col>GD</th><th scope=col>Pts</th><th scope=col>Pts.MP</th><th scope=col>Attendance</th><th scope=col>Player_ID</th><th scope=col>Top.Team.Scorer</th><th scope=col>GoalsScored</th><th scope=col>Goalkeeper</th><th scope=col>Notes</th></tr>\n",
       "\t<tr><th scope=col>&lt;dbl&gt;</th><th scope=col>&lt;chr&gt;</th><th scope=col>&lt;chr&gt;</th><th scope=col>&lt;chr&gt;</th><th scope=col>&lt;dbl&gt;</th><th scope=col>&lt;chr&gt;</th><th scope=col>&lt;chr&gt;</th><th scope=col>&lt;dbl&gt;</th><th scope=col>&lt;dbl&gt;</th><th scope=col>&lt;dbl&gt;</th><th scope=col>⋯</th><th scope=col>&lt;dbl&gt;</th><th scope=col>&lt;dbl&gt;</th><th scope=col>&lt;dbl&gt;</th><th scope=col>&lt;dbl&gt;</th><th scope=col>&lt;dbl&gt;</th><th scope=col>&lt;chr&gt;</th><th scope=col>&lt;chr&gt;</th><th scope=col>&lt;dbl&gt;</th><th scope=col>&lt;chr&gt;</th><th scope=col>&lt;chr&gt;</th></tr>\n",
       "</thead>\n",
       "<tbody>\n",
       "\t<tr><td> 1</td><td>09/10-LL</td><td>2009-2010</td><td>La Liga</td><td> 1</td><td>09/10-Barcelona      </td><td>Barcelona      </td><td>38</td><td>31</td><td> 6</td><td>⋯</td><td>24</td><td> 74</td><td>99</td><td>2.61</td><td>77106</td><td>09/10-Lionel Messi     </td><td>Lionel Messi     </td><td>34</td><td>Víctor Valdés     </td><td>→ Champions League via league finish </td></tr>\n",
       "\t<tr><td> 2</td><td>09/10-LL</td><td>2009-2010</td><td>La Liga</td><td> 2</td><td>09/10-Real Madrid    </td><td>Real Madrid    </td><td>38</td><td>31</td><td> 3</td><td>⋯</td><td>35</td><td> 67</td><td>96</td><td>2.53</td><td>74316</td><td>09/10-Gonzalo Higuaín  </td><td>Gonzalo Higuaín  </td><td>27</td><td>Iker Casillas     </td><td>→ Champions League via league finish </td></tr>\n",
       "\t<tr><td> 3</td><td>09/10-LL</td><td>2009-2010</td><td>La Liga</td><td> 3</td><td>09/10-Valencia       </td><td>Valencia       </td><td>38</td><td>21</td><td> 8</td><td>⋯</td><td>40</td><td> 19</td><td>71</td><td>1.87</td><td>41221</td><td>09/10-David Villa      </td><td>David Villa      </td><td>21</td><td>César Sánchez     </td><td>→ Champions League via league finish </td></tr>\n",
       "\t<tr><td> 4</td><td>09/10-LL</td><td>2009-2010</td><td>La Liga</td><td> 4</td><td>09/10-Sevilla        </td><td>Sevilla        </td><td>38</td><td>19</td><td> 6</td><td>⋯</td><td>49</td><td> 16</td><td>63</td><td>1.66</td><td>38597</td><td>09/10-Luís Fabiano     </td><td>Luís Fabiano     </td><td>15</td><td>Andrés Palop      </td><td>→ Champions League via league finish </td></tr>\n",
       "\t<tr><td> 5</td><td>09/10-LL</td><td>2009-2010</td><td>La Liga</td><td> 5</td><td>09/10-Mallorca       </td><td>Mallorca       </td><td>38</td><td>18</td><td> 8</td><td>⋯</td><td>44</td><td> 15</td><td>62</td><td>1.63</td><td>13209</td><td>09/10-Aritz Aduriz     </td><td>Aritz Aduriz     </td><td>12</td><td>Dudu Aouate       </td><td>NA                                   </td></tr>\n",
       "\t<tr><td> 6</td><td>09/10-LL</td><td>2009-2010</td><td>La Liga</td><td> 6</td><td>09/10-Getafe         </td><td>Getafe         </td><td>38</td><td>17</td><td> 7</td><td>⋯</td><td>48</td><td> 10</td><td>58</td><td>1.53</td><td>10863</td><td>09/10-Roberto Soldado  </td><td>Roberto Soldado  </td><td>16</td><td>Jordi Codina      </td><td>→ Europa League via league finish    </td></tr>\n",
       "\t<tr><td> 7</td><td>09/10-LL</td><td>2009-2010</td><td>La Liga</td><td> 7</td><td>09/10-Villarreal     </td><td>Villarreal     </td><td>38</td><td>16</td><td> 8</td><td>⋯</td><td>57</td><td>  1</td><td>56</td><td>1.47</td><td>17089</td><td>09/10-Nilmar           </td><td>Nilmar           </td><td>11</td><td>Diego López       </td><td>→ Europa League via league finish 1  </td></tr>\n",
       "\t<tr><td> 8</td><td>09/10-LL</td><td>2009-2010</td><td>La Liga</td><td> 8</td><td>09/10-Athletic Club  </td><td>Athletic Club  </td><td>38</td><td>15</td><td> 9</td><td>⋯</td><td>53</td><td> -3</td><td>54</td><td>1.42</td><td>36079</td><td>09/10-Fernando Llorente</td><td>Fernando Llorente</td><td>14</td><td>Gorka Iraizoz     </td><td>NA                                   </td></tr>\n",
       "\t<tr><td> 9</td><td>09/10-LL</td><td>2009-2010</td><td>La Liga</td><td> 9</td><td>09/10-Atlético Madrid</td><td>Atlético Madrid</td><td>38</td><td>13</td><td> 8</td><td>⋯</td><td>61</td><td> -4</td><td>47</td><td>1.24</td><td>40324</td><td>09/10-Diego Forlán     </td><td>Diego Forlán     </td><td>18</td><td>David de Gea      </td><td>→ Europa League via Europa League win</td></tr>\n",
       "\t<tr><td>10</td><td>09/10-LL</td><td>2009-2010</td><td>La Liga</td><td>10</td><td>09/10-La Coruña      </td><td>La Coruña      </td><td>38</td><td>13</td><td> 8</td><td>⋯</td><td>49</td><td>-14</td><td>47</td><td>1.24</td><td>16985</td><td>09/10-Riki             </td><td>Riki             </td><td> 8</td><td>Daniel Aranzubia  </td><td>NA                                   </td></tr>\n",
       "\t<tr><td>11</td><td>09/10-LL</td><td>2009-2010</td><td>La Liga</td><td>11</td><td>09/10-Espanyol       </td><td>Espanyol       </td><td>38</td><td>11</td><td>11</td><td>⋯</td><td>46</td><td>-17</td><td>44</td><td>1.16</td><td>27861</td><td>09/10-Dani Osvaldo     </td><td>Dani Osvaldo     </td><td> 7</td><td>Carlos Kameni     </td><td>NA                                   </td></tr>\n",
       "\t<tr><td>12</td><td>09/10-LL</td><td>2009-2010</td><td>La Liga</td><td>12</td><td>09/10-Osasuna        </td><td>Osasuna        </td><td>38</td><td>11</td><td>10</td><td>⋯</td><td>46</td><td> -9</td><td>43</td><td>1.13</td><td>16800</td><td>09/10-Walter Pandiani  </td><td>Walter Pandiani  </td><td>11</td><td>Ricardo           </td><td>NA                                   </td></tr>\n",
       "\t<tr><td>13</td><td>09/10-LL</td><td>2009-2010</td><td>La Liga</td><td>13</td><td>09/10-Almería        </td><td>Almería        </td><td>38</td><td>10</td><td>12</td><td>⋯</td><td>55</td><td>-12</td><td>42</td><td>1.11</td><td>11887</td><td>09/10-Kalu Uche        </td><td>Kalu Uche        </td><td> 9</td><td>Diego Alves       </td><td>NA                                   </td></tr>\n",
       "\t<tr><td>14</td><td>09/10-LL</td><td>2009-2010</td><td>La Liga</td><td>14</td><td>09/10-Zaragoza       </td><td>Zaragoza       </td><td>38</td><td>10</td><td>11</td><td>⋯</td><td>64</td><td>-18</td><td>41</td><td>1.08</td><td>24158</td><td>09/10-Adrián Colunga   </td><td>Adrián Colunga   </td><td> 7</td><td>Juan Pablo Carrizo</td><td>NA                                   </td></tr>\n",
       "\t<tr><td>15</td><td>09/10-LL</td><td>2009-2010</td><td>La Liga</td><td>15</td><td>09/10-Sporting Gijón </td><td>Sporting Gijón </td><td>38</td><td> 9</td><td>13</td><td>⋯</td><td>51</td><td>-15</td><td>40</td><td>1.05</td><td>20010</td><td>09/10-Diego Castro     </td><td>Diego Castro     </td><td>10</td><td>Juan Pablo Colinas</td><td>NA                                   </td></tr>\n",
       "\t<tr><td>16</td><td>09/10-LL</td><td>2009-2010</td><td>La Liga</td><td>16</td><td>09/10-Racing Sant    </td><td>Racing Sant    </td><td>38</td><td> 9</td><td>12</td><td>⋯</td><td>59</td><td>-17</td><td>39</td><td>1.03</td><td>16357</td><td>09/10-Mohamed Tchité   </td><td>Mohamed Tchité   </td><td>11</td><td>Fabio Coltorti    </td><td>NA                                   </td></tr>\n",
       "\t<tr><td>17</td><td>09/10-LL</td><td>2009-2010</td><td>La Liga</td><td>17</td><td>09/10-Málaga         </td><td>Málaga         </td><td>38</td><td> 7</td><td>16</td><td>⋯</td><td>48</td><td> -6</td><td>37</td><td>0.97</td><td>24479</td><td>09/10-Duda             </td><td>Duda             </td><td> 8</td><td>Gustavo Munúa     </td><td>NA                                   </td></tr>\n",
       "\t<tr><td>18</td><td>09/10-LL</td><td>2009-2010</td><td>La Liga</td><td>18</td><td>09/10-Valladolid     </td><td>Valladolid     </td><td>38</td><td> 7</td><td>15</td><td>⋯</td><td>62</td><td>-25</td><td>36</td><td>0.95</td><td>17234</td><td>09/10-Diego Costa      </td><td>Diego Costa      </td><td> 8</td><td>Justo Villar      </td><td>Relegated                            </td></tr>\n",
       "\t<tr><td>19</td><td>09/10-LL</td><td>2009-2010</td><td>La Liga</td><td>19</td><td>09/10-Tenerife       </td><td>Tenerife       </td><td>38</td><td> 9</td><td> 9</td><td>⋯</td><td>74</td><td>-34</td><td>36</td><td>0.95</td><td>19316</td><td>09/10-Nino             </td><td>Nino             </td><td>14</td><td>Sergio Aragoneses </td><td>Relegated                            </td></tr>\n",
       "\t<tr><td>20</td><td>09/10-LL</td><td>2009-2010</td><td>La Liga</td><td>20</td><td>09/10-Xerez          </td><td>Xerez          </td><td>38</td><td> 8</td><td>10</td><td>⋯</td><td>66</td><td>-28</td><td>34</td><td>0.89</td><td>16204</td><td>09/10-Mario Bermejo    </td><td>Mario Bermejo    </td><td>12</td><td>Renan Brito Soares</td><td>Relegated                            </td></tr>\n",
       "</tbody>\n",
       "</table>\n"
      ],
      "text/latex": [
       "A tibble: 20 × 22\n",
       "\\begin{tabular}{lllllllllllllllllllll}\n",
       " ...1 & Season\\_ID & Season & League & Rk & Team\\_ID & Squad & MP & W & D & ⋯ & GA & GD & Pts & Pts.MP & Attendance & Player\\_ID & Top.Team.Scorer & GoalsScored & Goalkeeper & Notes\\\\\n",
       " <dbl> & <chr> & <chr> & <chr> & <dbl> & <chr> & <chr> & <dbl> & <dbl> & <dbl> & ⋯ & <dbl> & <dbl> & <dbl> & <dbl> & <dbl> & <chr> & <chr> & <dbl> & <chr> & <chr>\\\\\n",
       "\\hline\n",
       "\t  1 & 09/10-LL & 2009-2010 & La Liga &  1 & 09/10-Barcelona       & Barcelona       & 38 & 31 &  6 & ⋯ & 24 &  74 & 99 & 2.61 & 77106 & 09/10-Lionel Messi      & Lionel Messi      & 34 & Víctor Valdés      & → Champions League via league finish \\\\\n",
       "\t  2 & 09/10-LL & 2009-2010 & La Liga &  2 & 09/10-Real Madrid     & Real Madrid     & 38 & 31 &  3 & ⋯ & 35 &  67 & 96 & 2.53 & 74316 & 09/10-Gonzalo Higuaín   & Gonzalo Higuaín   & 27 & Iker Casillas      & → Champions League via league finish \\\\\n",
       "\t  3 & 09/10-LL & 2009-2010 & La Liga &  3 & 09/10-Valencia        & Valencia        & 38 & 21 &  8 & ⋯ & 40 &  19 & 71 & 1.87 & 41221 & 09/10-David Villa       & David Villa       & 21 & César Sánchez      & → Champions League via league finish \\\\\n",
       "\t  4 & 09/10-LL & 2009-2010 & La Liga &  4 & 09/10-Sevilla         & Sevilla         & 38 & 19 &  6 & ⋯ & 49 &  16 & 63 & 1.66 & 38597 & 09/10-Luís Fabiano      & Luís Fabiano      & 15 & Andrés Palop       & → Champions League via league finish \\\\\n",
       "\t  5 & 09/10-LL & 2009-2010 & La Liga &  5 & 09/10-Mallorca        & Mallorca        & 38 & 18 &  8 & ⋯ & 44 &  15 & 62 & 1.63 & 13209 & 09/10-Aritz Aduriz      & Aritz Aduriz      & 12 & Dudu Aouate        & NA                                   \\\\\n",
       "\t  6 & 09/10-LL & 2009-2010 & La Liga &  6 & 09/10-Getafe          & Getafe          & 38 & 17 &  7 & ⋯ & 48 &  10 & 58 & 1.53 & 10863 & 09/10-Roberto Soldado   & Roberto Soldado   & 16 & Jordi Codina       & → Europa League via league finish    \\\\\n",
       "\t  7 & 09/10-LL & 2009-2010 & La Liga &  7 & 09/10-Villarreal      & Villarreal      & 38 & 16 &  8 & ⋯ & 57 &   1 & 56 & 1.47 & 17089 & 09/10-Nilmar            & Nilmar            & 11 & Diego López        & → Europa League via league finish 1  \\\\\n",
       "\t  8 & 09/10-LL & 2009-2010 & La Liga &  8 & 09/10-Athletic Club   & Athletic Club   & 38 & 15 &  9 & ⋯ & 53 &  -3 & 54 & 1.42 & 36079 & 09/10-Fernando Llorente & Fernando Llorente & 14 & Gorka Iraizoz      & NA                                   \\\\\n",
       "\t  9 & 09/10-LL & 2009-2010 & La Liga &  9 & 09/10-Atlético Madrid & Atlético Madrid & 38 & 13 &  8 & ⋯ & 61 &  -4 & 47 & 1.24 & 40324 & 09/10-Diego Forlán      & Diego Forlán      & 18 & David de Gea       & → Europa League via Europa League win\\\\\n",
       "\t 10 & 09/10-LL & 2009-2010 & La Liga & 10 & 09/10-La Coruña       & La Coruña       & 38 & 13 &  8 & ⋯ & 49 & -14 & 47 & 1.24 & 16985 & 09/10-Riki              & Riki              &  8 & Daniel Aranzubia   & NA                                   \\\\\n",
       "\t 11 & 09/10-LL & 2009-2010 & La Liga & 11 & 09/10-Espanyol        & Espanyol        & 38 & 11 & 11 & ⋯ & 46 & -17 & 44 & 1.16 & 27861 & 09/10-Dani Osvaldo      & Dani Osvaldo      &  7 & Carlos Kameni      & NA                                   \\\\\n",
       "\t 12 & 09/10-LL & 2009-2010 & La Liga & 12 & 09/10-Osasuna         & Osasuna         & 38 & 11 & 10 & ⋯ & 46 &  -9 & 43 & 1.13 & 16800 & 09/10-Walter Pandiani   & Walter Pandiani   & 11 & Ricardo            & NA                                   \\\\\n",
       "\t 13 & 09/10-LL & 2009-2010 & La Liga & 13 & 09/10-Almería         & Almería         & 38 & 10 & 12 & ⋯ & 55 & -12 & 42 & 1.11 & 11887 & 09/10-Kalu Uche         & Kalu Uche         &  9 & Diego Alves        & NA                                   \\\\\n",
       "\t 14 & 09/10-LL & 2009-2010 & La Liga & 14 & 09/10-Zaragoza        & Zaragoza        & 38 & 10 & 11 & ⋯ & 64 & -18 & 41 & 1.08 & 24158 & 09/10-Adrián Colunga    & Adrián Colunga    &  7 & Juan Pablo Carrizo & NA                                   \\\\\n",
       "\t 15 & 09/10-LL & 2009-2010 & La Liga & 15 & 09/10-Sporting Gijón  & Sporting Gijón  & 38 &  9 & 13 & ⋯ & 51 & -15 & 40 & 1.05 & 20010 & 09/10-Diego Castro      & Diego Castro      & 10 & Juan Pablo Colinas & NA                                   \\\\\n",
       "\t 16 & 09/10-LL & 2009-2010 & La Liga & 16 & 09/10-Racing Sant     & Racing Sant     & 38 &  9 & 12 & ⋯ & 59 & -17 & 39 & 1.03 & 16357 & 09/10-Mohamed Tchité    & Mohamed Tchité    & 11 & Fabio Coltorti     & NA                                   \\\\\n",
       "\t 17 & 09/10-LL & 2009-2010 & La Liga & 17 & 09/10-Málaga          & Málaga          & 38 &  7 & 16 & ⋯ & 48 &  -6 & 37 & 0.97 & 24479 & 09/10-Duda              & Duda              &  8 & Gustavo Munúa      & NA                                   \\\\\n",
       "\t 18 & 09/10-LL & 2009-2010 & La Liga & 18 & 09/10-Valladolid      & Valladolid      & 38 &  7 & 15 & ⋯ & 62 & -25 & 36 & 0.95 & 17234 & 09/10-Diego Costa       & Diego Costa       &  8 & Justo Villar       & Relegated                            \\\\\n",
       "\t 19 & 09/10-LL & 2009-2010 & La Liga & 19 & 09/10-Tenerife        & Tenerife        & 38 &  9 &  9 & ⋯ & 74 & -34 & 36 & 0.95 & 19316 & 09/10-Nino              & Nino              & 14 & Sergio Aragoneses  & Relegated                            \\\\\n",
       "\t 20 & 09/10-LL & 2009-2010 & La Liga & 20 & 09/10-Xerez           & Xerez           & 38 &  8 & 10 & ⋯ & 66 & -28 & 34 & 0.89 & 16204 & 09/10-Mario Bermejo     & Mario Bermejo     & 12 & Renan Brito Soares & Relegated                            \\\\\n",
       "\\end{tabular}\n"
      ],
      "text/markdown": [
       "\n",
       "A tibble: 20 × 22\n",
       "\n",
       "| ...1 &lt;dbl&gt; | Season_ID &lt;chr&gt; | Season &lt;chr&gt; | League &lt;chr&gt; | Rk &lt;dbl&gt; | Team_ID &lt;chr&gt; | Squad &lt;chr&gt; | MP &lt;dbl&gt; | W &lt;dbl&gt; | D &lt;dbl&gt; | ⋯ ⋯ | GA &lt;dbl&gt; | GD &lt;dbl&gt; | Pts &lt;dbl&gt; | Pts.MP &lt;dbl&gt; | Attendance &lt;dbl&gt; | Player_ID &lt;chr&gt; | Top.Team.Scorer &lt;chr&gt; | GoalsScored &lt;dbl&gt; | Goalkeeper &lt;chr&gt; | Notes &lt;chr&gt; |\n",
       "|---|---|---|---|---|---|---|---|---|---|---|---|---|---|---|---|---|---|---|---|---|\n",
       "|  1 | 09/10-LL | 2009-2010 | La Liga |  1 | 09/10-Barcelona       | Barcelona       | 38 | 31 |  6 | ⋯ | 24 |  74 | 99 | 2.61 | 77106 | 09/10-Lionel Messi      | Lionel Messi      | 34 | Víctor Valdés      | → Champions League via league finish  |\n",
       "|  2 | 09/10-LL | 2009-2010 | La Liga |  2 | 09/10-Real Madrid     | Real Madrid     | 38 | 31 |  3 | ⋯ | 35 |  67 | 96 | 2.53 | 74316 | 09/10-Gonzalo Higuaín   | Gonzalo Higuaín   | 27 | Iker Casillas      | → Champions League via league finish  |\n",
       "|  3 | 09/10-LL | 2009-2010 | La Liga |  3 | 09/10-Valencia        | Valencia        | 38 | 21 |  8 | ⋯ | 40 |  19 | 71 | 1.87 | 41221 | 09/10-David Villa       | David Villa       | 21 | César Sánchez      | → Champions League via league finish  |\n",
       "|  4 | 09/10-LL | 2009-2010 | La Liga |  4 | 09/10-Sevilla         | Sevilla         | 38 | 19 |  6 | ⋯ | 49 |  16 | 63 | 1.66 | 38597 | 09/10-Luís Fabiano      | Luís Fabiano      | 15 | Andrés Palop       | → Champions League via league finish  |\n",
       "|  5 | 09/10-LL | 2009-2010 | La Liga |  5 | 09/10-Mallorca        | Mallorca        | 38 | 18 |  8 | ⋯ | 44 |  15 | 62 | 1.63 | 13209 | 09/10-Aritz Aduriz      | Aritz Aduriz      | 12 | Dudu Aouate        | NA                                    |\n",
       "|  6 | 09/10-LL | 2009-2010 | La Liga |  6 | 09/10-Getafe          | Getafe          | 38 | 17 |  7 | ⋯ | 48 |  10 | 58 | 1.53 | 10863 | 09/10-Roberto Soldado   | Roberto Soldado   | 16 | Jordi Codina       | → Europa League via league finish     |\n",
       "|  7 | 09/10-LL | 2009-2010 | La Liga |  7 | 09/10-Villarreal      | Villarreal      | 38 | 16 |  8 | ⋯ | 57 |   1 | 56 | 1.47 | 17089 | 09/10-Nilmar            | Nilmar            | 11 | Diego López        | → Europa League via league finish 1   |\n",
       "|  8 | 09/10-LL | 2009-2010 | La Liga |  8 | 09/10-Athletic Club   | Athletic Club   | 38 | 15 |  9 | ⋯ | 53 |  -3 | 54 | 1.42 | 36079 | 09/10-Fernando Llorente | Fernando Llorente | 14 | Gorka Iraizoz      | NA                                    |\n",
       "|  9 | 09/10-LL | 2009-2010 | La Liga |  9 | 09/10-Atlético Madrid | Atlético Madrid | 38 | 13 |  8 | ⋯ | 61 |  -4 | 47 | 1.24 | 40324 | 09/10-Diego Forlán      | Diego Forlán      | 18 | David de Gea       | → Europa League via Europa League win |\n",
       "| 10 | 09/10-LL | 2009-2010 | La Liga | 10 | 09/10-La Coruña       | La Coruña       | 38 | 13 |  8 | ⋯ | 49 | -14 | 47 | 1.24 | 16985 | 09/10-Riki              | Riki              |  8 | Daniel Aranzubia   | NA                                    |\n",
       "| 11 | 09/10-LL | 2009-2010 | La Liga | 11 | 09/10-Espanyol        | Espanyol        | 38 | 11 | 11 | ⋯ | 46 | -17 | 44 | 1.16 | 27861 | 09/10-Dani Osvaldo      | Dani Osvaldo      |  7 | Carlos Kameni      | NA                                    |\n",
       "| 12 | 09/10-LL | 2009-2010 | La Liga | 12 | 09/10-Osasuna         | Osasuna         | 38 | 11 | 10 | ⋯ | 46 |  -9 | 43 | 1.13 | 16800 | 09/10-Walter Pandiani   | Walter Pandiani   | 11 | Ricardo            | NA                                    |\n",
       "| 13 | 09/10-LL | 2009-2010 | La Liga | 13 | 09/10-Almería         | Almería         | 38 | 10 | 12 | ⋯ | 55 | -12 | 42 | 1.11 | 11887 | 09/10-Kalu Uche         | Kalu Uche         |  9 | Diego Alves        | NA                                    |\n",
       "| 14 | 09/10-LL | 2009-2010 | La Liga | 14 | 09/10-Zaragoza        | Zaragoza        | 38 | 10 | 11 | ⋯ | 64 | -18 | 41 | 1.08 | 24158 | 09/10-Adrián Colunga    | Adrián Colunga    |  7 | Juan Pablo Carrizo | NA                                    |\n",
       "| 15 | 09/10-LL | 2009-2010 | La Liga | 15 | 09/10-Sporting Gijón  | Sporting Gijón  | 38 |  9 | 13 | ⋯ | 51 | -15 | 40 | 1.05 | 20010 | 09/10-Diego Castro      | Diego Castro      | 10 | Juan Pablo Colinas | NA                                    |\n",
       "| 16 | 09/10-LL | 2009-2010 | La Liga | 16 | 09/10-Racing Sant     | Racing Sant     | 38 |  9 | 12 | ⋯ | 59 | -17 | 39 | 1.03 | 16357 | 09/10-Mohamed Tchité    | Mohamed Tchité    | 11 | Fabio Coltorti     | NA                                    |\n",
       "| 17 | 09/10-LL | 2009-2010 | La Liga | 17 | 09/10-Málaga          | Málaga          | 38 |  7 | 16 | ⋯ | 48 |  -6 | 37 | 0.97 | 24479 | 09/10-Duda              | Duda              |  8 | Gustavo Munúa      | NA                                    |\n",
       "| 18 | 09/10-LL | 2009-2010 | La Liga | 18 | 09/10-Valladolid      | Valladolid      | 38 |  7 | 15 | ⋯ | 62 | -25 | 36 | 0.95 | 17234 | 09/10-Diego Costa       | Diego Costa       |  8 | Justo Villar       | Relegated                             |\n",
       "| 19 | 09/10-LL | 2009-2010 | La Liga | 19 | 09/10-Tenerife        | Tenerife        | 38 |  9 |  9 | ⋯ | 74 | -34 | 36 | 0.95 | 19316 | 09/10-Nino              | Nino              | 14 | Sergio Aragoneses  | Relegated                             |\n",
       "| 20 | 09/10-LL | 2009-2010 | La Liga | 20 | 09/10-Xerez           | Xerez           | 38 |  8 | 10 | ⋯ | 66 | -28 | 34 | 0.89 | 16204 | 09/10-Mario Bermejo     | Mario Bermejo     | 12 | Renan Brito Soares | Relegated                             |\n",
       "\n"
      ],
      "text/plain": [
       "   ...1 Season_ID Season    League  Rk Team_ID               Squad           MP\n",
       "1   1   09/10-LL  2009-2010 La Liga  1 09/10-Barcelona       Barcelona       38\n",
       "2   2   09/10-LL  2009-2010 La Liga  2 09/10-Real Madrid     Real Madrid     38\n",
       "3   3   09/10-LL  2009-2010 La Liga  3 09/10-Valencia        Valencia        38\n",
       "4   4   09/10-LL  2009-2010 La Liga  4 09/10-Sevilla         Sevilla         38\n",
       "5   5   09/10-LL  2009-2010 La Liga  5 09/10-Mallorca        Mallorca        38\n",
       "6   6   09/10-LL  2009-2010 La Liga  6 09/10-Getafe          Getafe          38\n",
       "7   7   09/10-LL  2009-2010 La Liga  7 09/10-Villarreal      Villarreal      38\n",
       "8   8   09/10-LL  2009-2010 La Liga  8 09/10-Athletic Club   Athletic Club   38\n",
       "9   9   09/10-LL  2009-2010 La Liga  9 09/10-Atlético Madrid Atlético Madrid 38\n",
       "10 10   09/10-LL  2009-2010 La Liga 10 09/10-La Coruña       La Coruña       38\n",
       "11 11   09/10-LL  2009-2010 La Liga 11 09/10-Espanyol        Espanyol        38\n",
       "12 12   09/10-LL  2009-2010 La Liga 12 09/10-Osasuna         Osasuna         38\n",
       "13 13   09/10-LL  2009-2010 La Liga 13 09/10-Almería         Almería         38\n",
       "14 14   09/10-LL  2009-2010 La Liga 14 09/10-Zaragoza        Zaragoza        38\n",
       "15 15   09/10-LL  2009-2010 La Liga 15 09/10-Sporting Gijón  Sporting Gijón  38\n",
       "16 16   09/10-LL  2009-2010 La Liga 16 09/10-Racing Sant     Racing Sant     38\n",
       "17 17   09/10-LL  2009-2010 La Liga 17 09/10-Málaga          Málaga          38\n",
       "18 18   09/10-LL  2009-2010 La Liga 18 09/10-Valladolid      Valladolid      38\n",
       "19 19   09/10-LL  2009-2010 La Liga 19 09/10-Tenerife        Tenerife        38\n",
       "20 20   09/10-LL  2009-2010 La Liga 20 09/10-Xerez           Xerez           38\n",
       "   W  D  ⋯ GA GD  Pts Pts.MP Attendance Player_ID              \n",
       "1  31  6 ⋯ 24  74 99  2.61   77106      09/10-Lionel Messi     \n",
       "2  31  3 ⋯ 35  67 96  2.53   74316      09/10-Gonzalo Higuaín  \n",
       "3  21  8 ⋯ 40  19 71  1.87   41221      09/10-David Villa      \n",
       "4  19  6 ⋯ 49  16 63  1.66   38597      09/10-Luís Fabiano     \n",
       "5  18  8 ⋯ 44  15 62  1.63   13209      09/10-Aritz Aduriz     \n",
       "6  17  7 ⋯ 48  10 58  1.53   10863      09/10-Roberto Soldado  \n",
       "7  16  8 ⋯ 57   1 56  1.47   17089      09/10-Nilmar           \n",
       "8  15  9 ⋯ 53  -3 54  1.42   36079      09/10-Fernando Llorente\n",
       "9  13  8 ⋯ 61  -4 47  1.24   40324      09/10-Diego Forlán     \n",
       "10 13  8 ⋯ 49 -14 47  1.24   16985      09/10-Riki             \n",
       "11 11 11 ⋯ 46 -17 44  1.16   27861      09/10-Dani Osvaldo     \n",
       "12 11 10 ⋯ 46  -9 43  1.13   16800      09/10-Walter Pandiani  \n",
       "13 10 12 ⋯ 55 -12 42  1.11   11887      09/10-Kalu Uche        \n",
       "14 10 11 ⋯ 64 -18 41  1.08   24158      09/10-Adrián Colunga   \n",
       "15  9 13 ⋯ 51 -15 40  1.05   20010      09/10-Diego Castro     \n",
       "16  9 12 ⋯ 59 -17 39  1.03   16357      09/10-Mohamed Tchité   \n",
       "17  7 16 ⋯ 48  -6 37  0.97   24479      09/10-Duda             \n",
       "18  7 15 ⋯ 62 -25 36  0.95   17234      09/10-Diego Costa      \n",
       "19  9  9 ⋯ 74 -34 36  0.95   19316      09/10-Nino             \n",
       "20  8 10 ⋯ 66 -28 34  0.89   16204      09/10-Mario Bermejo    \n",
       "   Top.Team.Scorer   GoalsScored Goalkeeper        \n",
       "1  Lionel Messi      34          Víctor Valdés     \n",
       "2  Gonzalo Higuaín   27          Iker Casillas     \n",
       "3  David Villa       21          César Sánchez     \n",
       "4  Luís Fabiano      15          Andrés Palop      \n",
       "5  Aritz Aduriz      12          Dudu Aouate       \n",
       "6  Roberto Soldado   16          Jordi Codina      \n",
       "7  Nilmar            11          Diego López       \n",
       "8  Fernando Llorente 14          Gorka Iraizoz     \n",
       "9  Diego Forlán      18          David de Gea      \n",
       "10 Riki               8          Daniel Aranzubia  \n",
       "11 Dani Osvaldo       7          Carlos Kameni     \n",
       "12 Walter Pandiani   11          Ricardo           \n",
       "13 Kalu Uche          9          Diego Alves       \n",
       "14 Adrián Colunga     7          Juan Pablo Carrizo\n",
       "15 Diego Castro      10          Juan Pablo Colinas\n",
       "16 Mohamed Tchité    11          Fabio Coltorti    \n",
       "17 Duda               8          Gustavo Munúa     \n",
       "18 Diego Costa        8          Justo Villar      \n",
       "19 Nino              14          Sergio Aragoneses \n",
       "20 Mario Bermejo     12          Renan Brito Soares\n",
       "   Notes                                \n",
       "1  → Champions League via league finish \n",
       "2  → Champions League via league finish \n",
       "3  → Champions League via league finish \n",
       "4  → Champions League via league finish \n",
       "5  NA                                   \n",
       "6  → Europa League via league finish    \n",
       "7  → Europa League via league finish 1  \n",
       "8  NA                                   \n",
       "9  → Europa League via Europa League win\n",
       "10 NA                                   \n",
       "11 NA                                   \n",
       "12 NA                                   \n",
       "13 NA                                   \n",
       "14 NA                                   \n",
       "15 NA                                   \n",
       "16 NA                                   \n",
       "17 NA                                   \n",
       "18 Relegated                            \n",
       "19 Relegated                            \n",
       "20 Relegated                            "
      ]
     },
     "metadata": {},
     "output_type": "display_data"
    }
   ],
   "source": [
    "laliga_df %>% head(20)"
   ]
  },
  {
   "cell_type": "markdown",
   "id": "ab5b8ac5-1833-4b0a-bf31-51f30f17a014",
   "metadata": {},
   "source": [
    "### Further preprocessing"
   ]
  },
  {
   "cell_type": "markdown",
   "id": "8e864cb0-025a-476f-b5a7-e776f5326098",
   "metadata": {},
   "source": [
    "Only the 2015 to 2022 seasons will be analysed. This is because the wage dataset only covers these seasons."
   ]
  },
  {
   "cell_type": "code",
   "execution_count": 9,
   "id": "719ebf7f-bd9f-4dba-b9b2-c19f94ecfe2c",
   "metadata": {
    "tags": []
   },
   "outputs": [],
   "source": [
    "laliga_filtered <- laliga_df %>%\n",
    "  filter(!between(substring(Season, 1, 4), \"2009\", \"2014\"))"
   ]
  },
  {
   "cell_type": "code",
   "execution_count": 10,
   "id": "a6fb0558-7b32-43f8-98d5-66fd5bf705b2",
   "metadata": {
    "tags": []
   },
   "outputs": [
    {
     "data": {
      "text/html": [
       "<table class=\"dataframe\">\n",
       "<caption>A tibble: 6 × 22</caption>\n",
       "<thead>\n",
       "\t<tr><th scope=col>...1</th><th scope=col>Season_ID</th><th scope=col>Season</th><th scope=col>League</th><th scope=col>Rk</th><th scope=col>Team_ID</th><th scope=col>Squad</th><th scope=col>MP</th><th scope=col>W</th><th scope=col>D</th><th scope=col>⋯</th><th scope=col>GA</th><th scope=col>GD</th><th scope=col>Pts</th><th scope=col>Pts.MP</th><th scope=col>Attendance</th><th scope=col>Player_ID</th><th scope=col>Top.Team.Scorer</th><th scope=col>GoalsScored</th><th scope=col>Goalkeeper</th><th scope=col>Notes</th></tr>\n",
       "\t<tr><th scope=col>&lt;dbl&gt;</th><th scope=col>&lt;chr&gt;</th><th scope=col>&lt;chr&gt;</th><th scope=col>&lt;chr&gt;</th><th scope=col>&lt;dbl&gt;</th><th scope=col>&lt;chr&gt;</th><th scope=col>&lt;chr&gt;</th><th scope=col>&lt;dbl&gt;</th><th scope=col>&lt;dbl&gt;</th><th scope=col>&lt;dbl&gt;</th><th scope=col>⋯</th><th scope=col>&lt;dbl&gt;</th><th scope=col>&lt;dbl&gt;</th><th scope=col>&lt;dbl&gt;</th><th scope=col>&lt;dbl&gt;</th><th scope=col>&lt;dbl&gt;</th><th scope=col>&lt;chr&gt;</th><th scope=col>&lt;chr&gt;</th><th scope=col>&lt;dbl&gt;</th><th scope=col>&lt;chr&gt;</th><th scope=col>&lt;chr&gt;</th></tr>\n",
       "</thead>\n",
       "<tbody>\n",
       "\t<tr><td>121</td><td>15/16-LL</td><td>2015-2016</td><td>La Liga</td><td>1</td><td>15/16-Barcelona      </td><td>Barcelona      </td><td>38</td><td>29</td><td> 4</td><td>⋯</td><td>29</td><td>83</td><td>91</td><td>2.39</td><td>74655</td><td>15/16-Luis Suárez      </td><td>Luis Suárez      </td><td>40</td><td>Claudio Bravo  </td><td>→ Champions League via league finish       </td></tr>\n",
       "\t<tr><td>122</td><td>15/16-LL</td><td>2015-2016</td><td>La Liga</td><td>2</td><td>15/16-Real Madrid    </td><td>Real Madrid    </td><td>38</td><td>28</td><td> 6</td><td>⋯</td><td>34</td><td>76</td><td>90</td><td>2.37</td><td>71265</td><td>15/16-Cristiano Ronaldo</td><td>Cristiano Ronaldo</td><td>35</td><td>Keylor Navas   </td><td>→ Champions League via Champions League win</td></tr>\n",
       "\t<tr><td>123</td><td>15/16-LL</td><td>2015-2016</td><td>La Liga</td><td>3</td><td>15/16-Atlético Madrid</td><td>Atlético Madrid</td><td>38</td><td>28</td><td> 4</td><td>⋯</td><td>18</td><td>45</td><td>88</td><td>2.32</td><td>46902</td><td>15/16-Antoine Griezmann</td><td>Antoine Griezmann</td><td>22</td><td>Jan Oblak      </td><td>→ Champions League via league finish       </td></tr>\n",
       "\t<tr><td>124</td><td>15/16-LL</td><td>2015-2016</td><td>La Liga</td><td>4</td><td>15/16-Villarreal     </td><td>Villarreal     </td><td>38</td><td>18</td><td>10</td><td>⋯</td><td>35</td><td> 9</td><td>64</td><td>1.68</td><td>17660</td><td>15/16-Cédric Bakambu   </td><td>Cédric Bakambu   </td><td>12</td><td>Alphonse Areola</td><td>→ Champions League via league finish       </td></tr>\n",
       "\t<tr><td>125</td><td>15/16-LL</td><td>2015-2016</td><td>La Liga</td><td>5</td><td>15/16-Athletic Club  </td><td>Athletic Club  </td><td>38</td><td>18</td><td> 8</td><td>⋯</td><td>45</td><td>13</td><td>62</td><td>1.63</td><td>41917</td><td>15/16-Aritz Aduriz     </td><td>Aritz Aduriz     </td><td>20</td><td>Gorka Iraizoz  </td><td>→ Europa League via league finish          </td></tr>\n",
       "\t<tr><td>126</td><td>15/16-LL</td><td>2015-2016</td><td>La Liga</td><td>6</td><td>15/16-Celta Vigo     </td><td>Celta Vigo     </td><td>38</td><td>17</td><td> 9</td><td>⋯</td><td>59</td><td>-8</td><td>60</td><td>1.58</td><td>18382</td><td>15/16-Iago Aspas       </td><td>Iago Aspas       </td><td>13</td><td>Sergio Álvarez </td><td>→ Europa League via league finish 1        </td></tr>\n",
       "</tbody>\n",
       "</table>\n"
      ],
      "text/latex": [
       "A tibble: 6 × 22\n",
       "\\begin{tabular}{lllllllllllllllllllll}\n",
       " ...1 & Season\\_ID & Season & League & Rk & Team\\_ID & Squad & MP & W & D & ⋯ & GA & GD & Pts & Pts.MP & Attendance & Player\\_ID & Top.Team.Scorer & GoalsScored & Goalkeeper & Notes\\\\\n",
       " <dbl> & <chr> & <chr> & <chr> & <dbl> & <chr> & <chr> & <dbl> & <dbl> & <dbl> & ⋯ & <dbl> & <dbl> & <dbl> & <dbl> & <dbl> & <chr> & <chr> & <dbl> & <chr> & <chr>\\\\\n",
       "\\hline\n",
       "\t 121 & 15/16-LL & 2015-2016 & La Liga & 1 & 15/16-Barcelona       & Barcelona       & 38 & 29 &  4 & ⋯ & 29 & 83 & 91 & 2.39 & 74655 & 15/16-Luis Suárez       & Luis Suárez       & 40 & Claudio Bravo   & → Champions League via league finish       \\\\\n",
       "\t 122 & 15/16-LL & 2015-2016 & La Liga & 2 & 15/16-Real Madrid     & Real Madrid     & 38 & 28 &  6 & ⋯ & 34 & 76 & 90 & 2.37 & 71265 & 15/16-Cristiano Ronaldo & Cristiano Ronaldo & 35 & Keylor Navas    & → Champions League via Champions League win\\\\\n",
       "\t 123 & 15/16-LL & 2015-2016 & La Liga & 3 & 15/16-Atlético Madrid & Atlético Madrid & 38 & 28 &  4 & ⋯ & 18 & 45 & 88 & 2.32 & 46902 & 15/16-Antoine Griezmann & Antoine Griezmann & 22 & Jan Oblak       & → Champions League via league finish       \\\\\n",
       "\t 124 & 15/16-LL & 2015-2016 & La Liga & 4 & 15/16-Villarreal      & Villarreal      & 38 & 18 & 10 & ⋯ & 35 &  9 & 64 & 1.68 & 17660 & 15/16-Cédric Bakambu    & Cédric Bakambu    & 12 & Alphonse Areola & → Champions League via league finish       \\\\\n",
       "\t 125 & 15/16-LL & 2015-2016 & La Liga & 5 & 15/16-Athletic Club   & Athletic Club   & 38 & 18 &  8 & ⋯ & 45 & 13 & 62 & 1.63 & 41917 & 15/16-Aritz Aduriz      & Aritz Aduriz      & 20 & Gorka Iraizoz   & → Europa League via league finish          \\\\\n",
       "\t 126 & 15/16-LL & 2015-2016 & La Liga & 6 & 15/16-Celta Vigo      & Celta Vigo      & 38 & 17 &  9 & ⋯ & 59 & -8 & 60 & 1.58 & 18382 & 15/16-Iago Aspas        & Iago Aspas        & 13 & Sergio Álvarez  & → Europa League via league finish 1        \\\\\n",
       "\\end{tabular}\n"
      ],
      "text/markdown": [
       "\n",
       "A tibble: 6 × 22\n",
       "\n",
       "| ...1 &lt;dbl&gt; | Season_ID &lt;chr&gt; | Season &lt;chr&gt; | League &lt;chr&gt; | Rk &lt;dbl&gt; | Team_ID &lt;chr&gt; | Squad &lt;chr&gt; | MP &lt;dbl&gt; | W &lt;dbl&gt; | D &lt;dbl&gt; | ⋯ ⋯ | GA &lt;dbl&gt; | GD &lt;dbl&gt; | Pts &lt;dbl&gt; | Pts.MP &lt;dbl&gt; | Attendance &lt;dbl&gt; | Player_ID &lt;chr&gt; | Top.Team.Scorer &lt;chr&gt; | GoalsScored &lt;dbl&gt; | Goalkeeper &lt;chr&gt; | Notes &lt;chr&gt; |\n",
       "|---|---|---|---|---|---|---|---|---|---|---|---|---|---|---|---|---|---|---|---|---|\n",
       "| 121 | 15/16-LL | 2015-2016 | La Liga | 1 | 15/16-Barcelona       | Barcelona       | 38 | 29 |  4 | ⋯ | 29 | 83 | 91 | 2.39 | 74655 | 15/16-Luis Suárez       | Luis Suárez       | 40 | Claudio Bravo   | → Champions League via league finish        |\n",
       "| 122 | 15/16-LL | 2015-2016 | La Liga | 2 | 15/16-Real Madrid     | Real Madrid     | 38 | 28 |  6 | ⋯ | 34 | 76 | 90 | 2.37 | 71265 | 15/16-Cristiano Ronaldo | Cristiano Ronaldo | 35 | Keylor Navas    | → Champions League via Champions League win |\n",
       "| 123 | 15/16-LL | 2015-2016 | La Liga | 3 | 15/16-Atlético Madrid | Atlético Madrid | 38 | 28 |  4 | ⋯ | 18 | 45 | 88 | 2.32 | 46902 | 15/16-Antoine Griezmann | Antoine Griezmann | 22 | Jan Oblak       | → Champions League via league finish        |\n",
       "| 124 | 15/16-LL | 2015-2016 | La Liga | 4 | 15/16-Villarreal      | Villarreal      | 38 | 18 | 10 | ⋯ | 35 |  9 | 64 | 1.68 | 17660 | 15/16-Cédric Bakambu    | Cédric Bakambu    | 12 | Alphonse Areola | → Champions League via league finish        |\n",
       "| 125 | 15/16-LL | 2015-2016 | La Liga | 5 | 15/16-Athletic Club   | Athletic Club   | 38 | 18 |  8 | ⋯ | 45 | 13 | 62 | 1.63 | 41917 | 15/16-Aritz Aduriz      | Aritz Aduriz      | 20 | Gorka Iraizoz   | → Europa League via league finish           |\n",
       "| 126 | 15/16-LL | 2015-2016 | La Liga | 6 | 15/16-Celta Vigo      | Celta Vigo      | 38 | 17 |  9 | ⋯ | 59 | -8 | 60 | 1.58 | 18382 | 15/16-Iago Aspas        | Iago Aspas        | 13 | Sergio Álvarez  | → Europa League via league finish 1         |\n",
       "\n"
      ],
      "text/plain": [
       "  ...1 Season_ID Season    League  Rk Team_ID               Squad           MP\n",
       "1 121  15/16-LL  2015-2016 La Liga 1  15/16-Barcelona       Barcelona       38\n",
       "2 122  15/16-LL  2015-2016 La Liga 2  15/16-Real Madrid     Real Madrid     38\n",
       "3 123  15/16-LL  2015-2016 La Liga 3  15/16-Atlético Madrid Atlético Madrid 38\n",
       "4 124  15/16-LL  2015-2016 La Liga 4  15/16-Villarreal      Villarreal      38\n",
       "5 125  15/16-LL  2015-2016 La Liga 5  15/16-Athletic Club   Athletic Club   38\n",
       "6 126  15/16-LL  2015-2016 La Liga 6  15/16-Celta Vigo      Celta Vigo      38\n",
       "  W  D  ⋯ GA GD Pts Pts.MP Attendance Player_ID               Top.Team.Scorer  \n",
       "1 29  4 ⋯ 29 83 91  2.39   74655      15/16-Luis Suárez       Luis Suárez      \n",
       "2 28  6 ⋯ 34 76 90  2.37   71265      15/16-Cristiano Ronaldo Cristiano Ronaldo\n",
       "3 28  4 ⋯ 18 45 88  2.32   46902      15/16-Antoine Griezmann Antoine Griezmann\n",
       "4 18 10 ⋯ 35  9 64  1.68   17660      15/16-Cédric Bakambu    Cédric Bakambu   \n",
       "5 18  8 ⋯ 45 13 62  1.63   41917      15/16-Aritz Aduriz      Aritz Aduriz     \n",
       "6 17  9 ⋯ 59 -8 60  1.58   18382      15/16-Iago Aspas        Iago Aspas       \n",
       "  GoalsScored Goalkeeper      Notes                                      \n",
       "1 40          Claudio Bravo   → Champions League via league finish       \n",
       "2 35          Keylor Navas    → Champions League via Champions League win\n",
       "3 22          Jan Oblak       → Champions League via league finish       \n",
       "4 12          Alphonse Areola → Champions League via league finish       \n",
       "5 20          Gorka Iraizoz   → Europa League via league finish          \n",
       "6 13          Sergio Álvarez  → Europa League via league finish 1        "
      ]
     },
     "metadata": {},
     "output_type": "display_data"
    }
   ],
   "source": [
    "laliga_filtered %>% head()"
   ]
  },
  {
   "cell_type": "markdown",
   "id": "d94b428c-5203-441f-afb8-f4ab6bc16e74",
   "metadata": {},
   "source": [
    "### Investigate the La Liga Wages dataset"
   ]
  },
  {
   "cell_type": "code",
   "execution_count": 12,
   "id": "00e1f8ac-27d6-4563-878d-c9bf9190f4e5",
   "metadata": {
    "tags": []
   },
   "outputs": [
    {
     "name": "stderr",
     "output_type": "stream",
     "text": [
      "\u001b[1m\u001b[22mNew names:\n",
      "\u001b[36m•\u001b[39m `` -> `...1`\n",
      "\u001b[1mRows: \u001b[22m\u001b[34m177\u001b[39m \u001b[1mColumns: \u001b[22m\u001b[34m11\u001b[39m\n",
      "\u001b[36m──\u001b[39m \u001b[1mColumn specification\u001b[22m \u001b[36m────────────────────────────────────────────────────────────────────────────────────────────────\u001b[39m\n",
      "\u001b[1mDelimiter:\u001b[22m \",\"\n",
      "\u001b[31mchr\u001b[39m (6): Season_ID, Season, League, Team_ID, Squad, X..Estimated\n",
      "\u001b[32mdbl\u001b[39m (5): ...1, Rk, X..Pl, Weekly_Wages_pounds, Annual_Wages_pounds\n",
      "\n",
      "\u001b[36mℹ\u001b[39m Use `spec()` to retrieve the full column specification for this data.\n",
      "\u001b[36mℹ\u001b[39m Specify the column types or set `show_col_types = FALSE` to quiet this message.\n"
     ]
    },
    {
     "name": "stdout",
     "output_type": "stream",
     "text": [
      "Rows: 177\n",
      "Columns: 11\n",
      "$ ...1                \u001b[3m\u001b[90m<dbl>\u001b[39m\u001b[23m 1, 2, 3, 4, 5, 6, 7, 8, 9, 10, 11, 12, 13, 14, 15,…\n",
      "$ Season_ID           \u001b[3m\u001b[90m<chr>\u001b[39m\u001b[23m \"13/14-LL\", \"13/14-LL\", \"13/14-LL\", \"13/14-LL\", \"1…\n",
      "$ Season              \u001b[3m\u001b[90m<chr>\u001b[39m\u001b[23m \"2013-2014\", \"2013-2014\", \"2013-2014\", \"2013-2014\"…\n",
      "$ League              \u001b[3m\u001b[90m<chr>\u001b[39m\u001b[23m \"La Liga\", \"La Liga\", \"La Liga\", \"La Liga\", \"La Li…\n",
      "$ Rk                  \u001b[3m\u001b[90m<dbl>\u001b[39m\u001b[23m 1, 2, 3, 4, 5, 6, 7, 8, 9, 10, 11, 12, 13, 14, 15,…\n",
      "$ Team_ID             \u001b[3m\u001b[90m<chr>\u001b[39m\u001b[23m \"13/14-Barcelona\", \"13/14-Real Madrid\", \"13/14-Atl…\n",
      "$ Squad               \u001b[3m\u001b[90m<chr>\u001b[39m\u001b[23m \"Barcelona\", \"Real Madrid\", \"Atlético Madrid\", \"Va…\n",
      "$ X..Pl               \u001b[3m\u001b[90m<dbl>\u001b[39m\u001b[23m 33, 35, 41, 43, 44, 32, 31, 34, 47, 31, 34, 28, 35…\n",
      "$ Weekly_Wages_pounds \u001b[3m\u001b[90m<dbl>\u001b[39m\u001b[23m 2874391, 2188313, 784925, 501138, 406322, 299283, …\n",
      "$ Annual_Wages_pounds \u001b[3m\u001b[90m<dbl>\u001b[39m\u001b[23m 149468309, 113792296, 40816075, 26059168, 21128735…\n",
      "$ X..Estimated        \u001b[3m\u001b[90m<chr>\u001b[39m\u001b[23m \"100%\", \"100%\", \"100%\", \"100%\", \"100%\", \"100%\", \"1…\n"
     ]
    }
   ],
   "source": [
    "laliga_wages <- read_csv(\"LaLigaWages.csv\") %>%\n",
    " glimpse()"
   ]
  },
  {
   "cell_type": "code",
   "execution_count": 14,
   "id": "7fa5c3ce-da07-40f3-9a3f-d54c453334de",
   "metadata": {
    "tags": []
   },
   "outputs": [
    {
     "data": {
      "text/html": [
       "<table class=\"dataframe\">\n",
       "<caption>A tibble: 20 × 11</caption>\n",
       "<thead>\n",
       "\t<tr><th scope=col>...1</th><th scope=col>Season_ID</th><th scope=col>Season</th><th scope=col>League</th><th scope=col>Rk</th><th scope=col>Team_ID</th><th scope=col>Squad</th><th scope=col>X..Pl</th><th scope=col>Weekly_Wages_pounds</th><th scope=col>Annual_Wages_pounds</th><th scope=col>X..Estimated</th></tr>\n",
       "\t<tr><th scope=col>&lt;dbl&gt;</th><th scope=col>&lt;chr&gt;</th><th scope=col>&lt;chr&gt;</th><th scope=col>&lt;chr&gt;</th><th scope=col>&lt;dbl&gt;</th><th scope=col>&lt;chr&gt;</th><th scope=col>&lt;chr&gt;</th><th scope=col>&lt;dbl&gt;</th><th scope=col>&lt;dbl&gt;</th><th scope=col>&lt;dbl&gt;</th><th scope=col>&lt;chr&gt;</th></tr>\n",
       "</thead>\n",
       "<tbody>\n",
       "\t<tr><td> 1</td><td>13/14-LL</td><td>2013-2014</td><td>La Liga</td><td> 1</td><td>13/14-Barcelona      </td><td>Barcelona      </td><td>33</td><td>2874391</td><td>149468309</td><td>100%</td></tr>\n",
       "\t<tr><td> 2</td><td>13/14-LL</td><td>2013-2014</td><td>La Liga</td><td> 2</td><td>13/14-Real Madrid    </td><td>Real Madrid    </td><td>35</td><td>2188313</td><td>113792296</td><td>100%</td></tr>\n",
       "\t<tr><td> 3</td><td>13/14-LL</td><td>2013-2014</td><td>La Liga</td><td> 3</td><td>13/14-Atlético Madrid</td><td>Atlético Madrid</td><td>41</td><td> 784925</td><td> 40816075</td><td>100%</td></tr>\n",
       "\t<tr><td> 4</td><td>13/14-LL</td><td>2013-2014</td><td>La Liga</td><td> 4</td><td>13/14-Valencia       </td><td>Valencia       </td><td>43</td><td> 501138</td><td> 26059168</td><td>100%</td></tr>\n",
       "\t<tr><td> 5</td><td>13/14-LL</td><td>2013-2014</td><td>La Liga</td><td> 5</td><td>13/14-Sevilla        </td><td>Sevilla        </td><td>44</td><td> 406322</td><td> 21128735</td><td>100%</td></tr>\n",
       "\t<tr><td> 6</td><td>13/14-LL</td><td>2013-2014</td><td>La Liga</td><td> 6</td><td>13/14-Athletic Club  </td><td>Athletic Club  </td><td>32</td><td> 299283</td><td> 15562715</td><td>100%</td></tr>\n",
       "\t<tr><td> 7</td><td>13/14-LL</td><td>2013-2014</td><td>La Liga</td><td> 7</td><td>13/14-Málaga         </td><td>Málaga         </td><td>31</td><td> 266936</td><td> 13880669</td><td>100%</td></tr>\n",
       "\t<tr><td> 8</td><td>13/14-LL</td><td>2013-2014</td><td>La Liga</td><td> 8</td><td>13/14-Real Sociedad  </td><td>Real Sociedad  </td><td>34</td><td> 263130</td><td> 13682780</td><td>100%</td></tr>\n",
       "\t<tr><td> 9</td><td>13/14-LL</td><td>2013-2014</td><td>La Liga</td><td> 9</td><td>13/14-Betis          </td><td>Betis          </td><td>47</td><td> 239104</td><td> 12433400</td><td>100%</td></tr>\n",
       "\t<tr><td>10</td><td>13/14-LL</td><td>2013-2014</td><td>La Liga</td><td>10</td><td>13/14-Villarreal     </td><td>Villarreal     </td><td>31</td><td> 235314</td><td> 12236353</td><td>100%</td></tr>\n",
       "\t<tr><td>11</td><td>13/14-LL</td><td>2013-2014</td><td>La Liga</td><td>11</td><td>13/14-Getafe         </td><td>Getafe         </td><td>34</td><td> 234847</td><td> 12212037</td><td>100%</td></tr>\n",
       "\t<tr><td>12</td><td>13/14-LL</td><td>2013-2014</td><td>La Liga</td><td>12</td><td>13/14-Espanyol       </td><td>Espanyol       </td><td>28</td><td> 202484</td><td> 10529149</td><td>100%</td></tr>\n",
       "\t<tr><td>13</td><td>13/14-LL</td><td>2013-2014</td><td>La Liga</td><td>13</td><td>13/14-Elche          </td><td>Elche          </td><td>35</td><td> 174668</td><td>  9082722</td><td>100%</td></tr>\n",
       "\t<tr><td>14</td><td>13/14-LL</td><td>2013-2014</td><td>La Liga</td><td>14</td><td>13/14-Osasuna        </td><td>Osasuna        </td><td>31</td><td> 169621</td><td>  8820270</td><td>100%</td></tr>\n",
       "\t<tr><td>15</td><td>13/14-LL</td><td>2013-2014</td><td>La Liga</td><td>15</td><td>13/14-Granada        </td><td>Granada        </td><td>48</td><td> 164622</td><td>  8560331</td><td>100%</td></tr>\n",
       "\t<tr><td>16</td><td>13/14-LL</td><td>2013-2014</td><td>La Liga</td><td>16</td><td>13/14-Levante        </td><td>Levante        </td><td>36</td><td> 156221</td><td>  8123471</td><td>100%</td></tr>\n",
       "\t<tr><td>17</td><td>13/14-LL</td><td>2013-2014</td><td>La Liga</td><td>17</td><td>13/14-Rayo Vallecano </td><td>Rayo Vallecano </td><td>34</td><td> 155076</td><td>  8063936</td><td>100%</td></tr>\n",
       "\t<tr><td>18</td><td>13/14-LL</td><td>2013-2014</td><td>La Liga</td><td>18</td><td>13/14-Celta Vigo     </td><td>Celta Vigo     </td><td>32</td><td> 140515</td><td>  7306763</td><td>100%</td></tr>\n",
       "\t<tr><td>19</td><td>13/14-LL</td><td>2013-2014</td><td>La Liga</td><td>19</td><td>13/14-Almería        </td><td>Almería        </td><td>37</td><td> 128792</td><td>  6697170</td><td>100%</td></tr>\n",
       "\t<tr><td>20</td><td>13/14-LL</td><td>2013-2014</td><td>La Liga</td><td>20</td><td>13/14-Valladolid     </td><td>Valladolid     </td><td>31</td><td> 116859</td><td>  6076670</td><td>100%</td></tr>\n",
       "</tbody>\n",
       "</table>\n"
      ],
      "text/latex": [
       "A tibble: 20 × 11\n",
       "\\begin{tabular}{lllllllllll}\n",
       " ...1 & Season\\_ID & Season & League & Rk & Team\\_ID & Squad & X..Pl & Weekly\\_Wages\\_pounds & Annual\\_Wages\\_pounds & X..Estimated\\\\\n",
       " <dbl> & <chr> & <chr> & <chr> & <dbl> & <chr> & <chr> & <dbl> & <dbl> & <dbl> & <chr>\\\\\n",
       "\\hline\n",
       "\t  1 & 13/14-LL & 2013-2014 & La Liga &  1 & 13/14-Barcelona       & Barcelona       & 33 & 2874391 & 149468309 & 100\\%\\\\\n",
       "\t  2 & 13/14-LL & 2013-2014 & La Liga &  2 & 13/14-Real Madrid     & Real Madrid     & 35 & 2188313 & 113792296 & 100\\%\\\\\n",
       "\t  3 & 13/14-LL & 2013-2014 & La Liga &  3 & 13/14-Atlético Madrid & Atlético Madrid & 41 &  784925 &  40816075 & 100\\%\\\\\n",
       "\t  4 & 13/14-LL & 2013-2014 & La Liga &  4 & 13/14-Valencia        & Valencia        & 43 &  501138 &  26059168 & 100\\%\\\\\n",
       "\t  5 & 13/14-LL & 2013-2014 & La Liga &  5 & 13/14-Sevilla         & Sevilla         & 44 &  406322 &  21128735 & 100\\%\\\\\n",
       "\t  6 & 13/14-LL & 2013-2014 & La Liga &  6 & 13/14-Athletic Club   & Athletic Club   & 32 &  299283 &  15562715 & 100\\%\\\\\n",
       "\t  7 & 13/14-LL & 2013-2014 & La Liga &  7 & 13/14-Málaga          & Málaga          & 31 &  266936 &  13880669 & 100\\%\\\\\n",
       "\t  8 & 13/14-LL & 2013-2014 & La Liga &  8 & 13/14-Real Sociedad   & Real Sociedad   & 34 &  263130 &  13682780 & 100\\%\\\\\n",
       "\t  9 & 13/14-LL & 2013-2014 & La Liga &  9 & 13/14-Betis           & Betis           & 47 &  239104 &  12433400 & 100\\%\\\\\n",
       "\t 10 & 13/14-LL & 2013-2014 & La Liga & 10 & 13/14-Villarreal      & Villarreal      & 31 &  235314 &  12236353 & 100\\%\\\\\n",
       "\t 11 & 13/14-LL & 2013-2014 & La Liga & 11 & 13/14-Getafe          & Getafe          & 34 &  234847 &  12212037 & 100\\%\\\\\n",
       "\t 12 & 13/14-LL & 2013-2014 & La Liga & 12 & 13/14-Espanyol        & Espanyol        & 28 &  202484 &  10529149 & 100\\%\\\\\n",
       "\t 13 & 13/14-LL & 2013-2014 & La Liga & 13 & 13/14-Elche           & Elche           & 35 &  174668 &   9082722 & 100\\%\\\\\n",
       "\t 14 & 13/14-LL & 2013-2014 & La Liga & 14 & 13/14-Osasuna         & Osasuna         & 31 &  169621 &   8820270 & 100\\%\\\\\n",
       "\t 15 & 13/14-LL & 2013-2014 & La Liga & 15 & 13/14-Granada         & Granada         & 48 &  164622 &   8560331 & 100\\%\\\\\n",
       "\t 16 & 13/14-LL & 2013-2014 & La Liga & 16 & 13/14-Levante         & Levante         & 36 &  156221 &   8123471 & 100\\%\\\\\n",
       "\t 17 & 13/14-LL & 2013-2014 & La Liga & 17 & 13/14-Rayo Vallecano  & Rayo Vallecano  & 34 &  155076 &   8063936 & 100\\%\\\\\n",
       "\t 18 & 13/14-LL & 2013-2014 & La Liga & 18 & 13/14-Celta Vigo      & Celta Vigo      & 32 &  140515 &   7306763 & 100\\%\\\\\n",
       "\t 19 & 13/14-LL & 2013-2014 & La Liga & 19 & 13/14-Almería         & Almería         & 37 &  128792 &   6697170 & 100\\%\\\\\n",
       "\t 20 & 13/14-LL & 2013-2014 & La Liga & 20 & 13/14-Valladolid      & Valladolid      & 31 &  116859 &   6076670 & 100\\%\\\\\n",
       "\\end{tabular}\n"
      ],
      "text/markdown": [
       "\n",
       "A tibble: 20 × 11\n",
       "\n",
       "| ...1 &lt;dbl&gt; | Season_ID &lt;chr&gt; | Season &lt;chr&gt; | League &lt;chr&gt; | Rk &lt;dbl&gt; | Team_ID &lt;chr&gt; | Squad &lt;chr&gt; | X..Pl &lt;dbl&gt; | Weekly_Wages_pounds &lt;dbl&gt; | Annual_Wages_pounds &lt;dbl&gt; | X..Estimated &lt;chr&gt; |\n",
       "|---|---|---|---|---|---|---|---|---|---|---|\n",
       "|  1 | 13/14-LL | 2013-2014 | La Liga |  1 | 13/14-Barcelona       | Barcelona       | 33 | 2874391 | 149468309 | 100% |\n",
       "|  2 | 13/14-LL | 2013-2014 | La Liga |  2 | 13/14-Real Madrid     | Real Madrid     | 35 | 2188313 | 113792296 | 100% |\n",
       "|  3 | 13/14-LL | 2013-2014 | La Liga |  3 | 13/14-Atlético Madrid | Atlético Madrid | 41 |  784925 |  40816075 | 100% |\n",
       "|  4 | 13/14-LL | 2013-2014 | La Liga |  4 | 13/14-Valencia        | Valencia        | 43 |  501138 |  26059168 | 100% |\n",
       "|  5 | 13/14-LL | 2013-2014 | La Liga |  5 | 13/14-Sevilla         | Sevilla         | 44 |  406322 |  21128735 | 100% |\n",
       "|  6 | 13/14-LL | 2013-2014 | La Liga |  6 | 13/14-Athletic Club   | Athletic Club   | 32 |  299283 |  15562715 | 100% |\n",
       "|  7 | 13/14-LL | 2013-2014 | La Liga |  7 | 13/14-Málaga          | Málaga          | 31 |  266936 |  13880669 | 100% |\n",
       "|  8 | 13/14-LL | 2013-2014 | La Liga |  8 | 13/14-Real Sociedad   | Real Sociedad   | 34 |  263130 |  13682780 | 100% |\n",
       "|  9 | 13/14-LL | 2013-2014 | La Liga |  9 | 13/14-Betis           | Betis           | 47 |  239104 |  12433400 | 100% |\n",
       "| 10 | 13/14-LL | 2013-2014 | La Liga | 10 | 13/14-Villarreal      | Villarreal      | 31 |  235314 |  12236353 | 100% |\n",
       "| 11 | 13/14-LL | 2013-2014 | La Liga | 11 | 13/14-Getafe          | Getafe          | 34 |  234847 |  12212037 | 100% |\n",
       "| 12 | 13/14-LL | 2013-2014 | La Liga | 12 | 13/14-Espanyol        | Espanyol        | 28 |  202484 |  10529149 | 100% |\n",
       "| 13 | 13/14-LL | 2013-2014 | La Liga | 13 | 13/14-Elche           | Elche           | 35 |  174668 |   9082722 | 100% |\n",
       "| 14 | 13/14-LL | 2013-2014 | La Liga | 14 | 13/14-Osasuna         | Osasuna         | 31 |  169621 |   8820270 | 100% |\n",
       "| 15 | 13/14-LL | 2013-2014 | La Liga | 15 | 13/14-Granada         | Granada         | 48 |  164622 |   8560331 | 100% |\n",
       "| 16 | 13/14-LL | 2013-2014 | La Liga | 16 | 13/14-Levante         | Levante         | 36 |  156221 |   8123471 | 100% |\n",
       "| 17 | 13/14-LL | 2013-2014 | La Liga | 17 | 13/14-Rayo Vallecano  | Rayo Vallecano  | 34 |  155076 |   8063936 | 100% |\n",
       "| 18 | 13/14-LL | 2013-2014 | La Liga | 18 | 13/14-Celta Vigo      | Celta Vigo      | 32 |  140515 |   7306763 | 100% |\n",
       "| 19 | 13/14-LL | 2013-2014 | La Liga | 19 | 13/14-Almería         | Almería         | 37 |  128792 |   6697170 | 100% |\n",
       "| 20 | 13/14-LL | 2013-2014 | La Liga | 20 | 13/14-Valladolid      | Valladolid      | 31 |  116859 |   6076670 | 100% |\n",
       "\n"
      ],
      "text/plain": [
       "   ...1 Season_ID Season    League  Rk Team_ID               Squad          \n",
       "1   1   13/14-LL  2013-2014 La Liga  1 13/14-Barcelona       Barcelona      \n",
       "2   2   13/14-LL  2013-2014 La Liga  2 13/14-Real Madrid     Real Madrid    \n",
       "3   3   13/14-LL  2013-2014 La Liga  3 13/14-Atlético Madrid Atlético Madrid\n",
       "4   4   13/14-LL  2013-2014 La Liga  4 13/14-Valencia        Valencia       \n",
       "5   5   13/14-LL  2013-2014 La Liga  5 13/14-Sevilla         Sevilla        \n",
       "6   6   13/14-LL  2013-2014 La Liga  6 13/14-Athletic Club   Athletic Club  \n",
       "7   7   13/14-LL  2013-2014 La Liga  7 13/14-Málaga          Málaga         \n",
       "8   8   13/14-LL  2013-2014 La Liga  8 13/14-Real Sociedad   Real Sociedad  \n",
       "9   9   13/14-LL  2013-2014 La Liga  9 13/14-Betis           Betis          \n",
       "10 10   13/14-LL  2013-2014 La Liga 10 13/14-Villarreal      Villarreal     \n",
       "11 11   13/14-LL  2013-2014 La Liga 11 13/14-Getafe          Getafe         \n",
       "12 12   13/14-LL  2013-2014 La Liga 12 13/14-Espanyol        Espanyol       \n",
       "13 13   13/14-LL  2013-2014 La Liga 13 13/14-Elche           Elche          \n",
       "14 14   13/14-LL  2013-2014 La Liga 14 13/14-Osasuna         Osasuna        \n",
       "15 15   13/14-LL  2013-2014 La Liga 15 13/14-Granada         Granada        \n",
       "16 16   13/14-LL  2013-2014 La Liga 16 13/14-Levante         Levante        \n",
       "17 17   13/14-LL  2013-2014 La Liga 17 13/14-Rayo Vallecano  Rayo Vallecano \n",
       "18 18   13/14-LL  2013-2014 La Liga 18 13/14-Celta Vigo      Celta Vigo     \n",
       "19 19   13/14-LL  2013-2014 La Liga 19 13/14-Almería         Almería        \n",
       "20 20   13/14-LL  2013-2014 La Liga 20 13/14-Valladolid      Valladolid     \n",
       "   X..Pl Weekly_Wages_pounds Annual_Wages_pounds X..Estimated\n",
       "1  33    2874391             149468309           100%        \n",
       "2  35    2188313             113792296           100%        \n",
       "3  41     784925              40816075           100%        \n",
       "4  43     501138              26059168           100%        \n",
       "5  44     406322              21128735           100%        \n",
       "6  32     299283              15562715           100%        \n",
       "7  31     266936              13880669           100%        \n",
       "8  34     263130              13682780           100%        \n",
       "9  47     239104              12433400           100%        \n",
       "10 31     235314              12236353           100%        \n",
       "11 34     234847              12212037           100%        \n",
       "12 28     202484              10529149           100%        \n",
       "13 35     174668               9082722           100%        \n",
       "14 31     169621               8820270           100%        \n",
       "15 48     164622               8560331           100%        \n",
       "16 36     156221               8123471           100%        \n",
       "17 34     155076               8063936           100%        \n",
       "18 32     140515               7306763           100%        \n",
       "19 37     128792               6697170           100%        \n",
       "20 31     116859               6076670           100%        "
      ]
     },
     "metadata": {},
     "output_type": "display_data"
    }
   ],
   "source": [
    "laliga_wages %>% head(20)"
   ]
  },
  {
   "cell_type": "code",
   "execution_count": 16,
   "id": "65a66c92-e0de-4213-a2f1-ebcb8e794fa6",
   "metadata": {
    "tags": []
   },
   "outputs": [],
   "source": [
    "laliga_wages_filtered <- laliga_wages %>%\n",
    "  filter(!between(substring(Season, 1, 4), \"2009\", \"2014\"))"
   ]
  },
  {
   "cell_type": "code",
   "execution_count": 17,
   "id": "79308bfe-f74d-4136-9b50-37b45cc241ba",
   "metadata": {
    "tags": []
   },
   "outputs": [
    {
     "data": {
      "text/html": [
       "<table class=\"dataframe\">\n",
       "<caption>A tibble: 6 × 11</caption>\n",
       "<thead>\n",
       "\t<tr><th scope=col>...1</th><th scope=col>Season_ID</th><th scope=col>Season</th><th scope=col>League</th><th scope=col>Rk</th><th scope=col>Team_ID</th><th scope=col>Squad</th><th scope=col>X..Pl</th><th scope=col>Weekly_Wages_pounds</th><th scope=col>Annual_Wages_pounds</th><th scope=col>X..Estimated</th></tr>\n",
       "\t<tr><th scope=col>&lt;dbl&gt;</th><th scope=col>&lt;chr&gt;</th><th scope=col>&lt;chr&gt;</th><th scope=col>&lt;chr&gt;</th><th scope=col>&lt;dbl&gt;</th><th scope=col>&lt;chr&gt;</th><th scope=col>&lt;chr&gt;</th><th scope=col>&lt;dbl&gt;</th><th scope=col>&lt;dbl&gt;</th><th scope=col>&lt;dbl&gt;</th><th scope=col>&lt;chr&gt;</th></tr>\n",
       "</thead>\n",
       "<tbody>\n",
       "\t<tr><td>41</td><td>15/16-LL</td><td>2015-2016</td><td>La Liga</td><td>1</td><td>15/16-Barcelona      </td><td>Barcelona      </td><td>32</td><td>2806246</td><td>145924771</td><td>100%</td></tr>\n",
       "\t<tr><td>42</td><td>15/16-LL</td><td>2015-2016</td><td>La Liga</td><td>2</td><td>15/16-Real Madrid    </td><td>Real Madrid    </td><td>31</td><td>2439140</td><td>126835291</td><td>100%</td></tr>\n",
       "\t<tr><td>43</td><td>15/16-LL</td><td>2015-2016</td><td>La Liga</td><td>3</td><td>15/16-Atlético Madrid</td><td>Atlético Madrid</td><td>30</td><td>1015079</td><td> 52784100</td><td>100%</td></tr>\n",
       "\t<tr><td>44</td><td>15/16-LL</td><td>2015-2016</td><td>La Liga</td><td>4</td><td>15/16-Valencia       </td><td>Valencia       </td><td>39</td><td> 813466</td><td> 42300237</td><td>100%</td></tr>\n",
       "\t<tr><td>45</td><td>15/16-LL</td><td>2015-2016</td><td>La Liga</td><td>5</td><td>15/16-Sevilla        </td><td>Sevilla        </td><td>41</td><td> 552109</td><td> 28709687</td><td>100%</td></tr>\n",
       "\t<tr><td>46</td><td>15/16-LL</td><td>2015-2016</td><td>La Liga</td><td>6</td><td>15/16-Athletic Club  </td><td>Athletic Club  </td><td>28</td><td> 398662</td><td> 20730442</td><td>100%</td></tr>\n",
       "</tbody>\n",
       "</table>\n"
      ],
      "text/latex": [
       "A tibble: 6 × 11\n",
       "\\begin{tabular}{lllllllllll}\n",
       " ...1 & Season\\_ID & Season & League & Rk & Team\\_ID & Squad & X..Pl & Weekly\\_Wages\\_pounds & Annual\\_Wages\\_pounds & X..Estimated\\\\\n",
       " <dbl> & <chr> & <chr> & <chr> & <dbl> & <chr> & <chr> & <dbl> & <dbl> & <dbl> & <chr>\\\\\n",
       "\\hline\n",
       "\t 41 & 15/16-LL & 2015-2016 & La Liga & 1 & 15/16-Barcelona       & Barcelona       & 32 & 2806246 & 145924771 & 100\\%\\\\\n",
       "\t 42 & 15/16-LL & 2015-2016 & La Liga & 2 & 15/16-Real Madrid     & Real Madrid     & 31 & 2439140 & 126835291 & 100\\%\\\\\n",
       "\t 43 & 15/16-LL & 2015-2016 & La Liga & 3 & 15/16-Atlético Madrid & Atlético Madrid & 30 & 1015079 &  52784100 & 100\\%\\\\\n",
       "\t 44 & 15/16-LL & 2015-2016 & La Liga & 4 & 15/16-Valencia        & Valencia        & 39 &  813466 &  42300237 & 100\\%\\\\\n",
       "\t 45 & 15/16-LL & 2015-2016 & La Liga & 5 & 15/16-Sevilla         & Sevilla         & 41 &  552109 &  28709687 & 100\\%\\\\\n",
       "\t 46 & 15/16-LL & 2015-2016 & La Liga & 6 & 15/16-Athletic Club   & Athletic Club   & 28 &  398662 &  20730442 & 100\\%\\\\\n",
       "\\end{tabular}\n"
      ],
      "text/markdown": [
       "\n",
       "A tibble: 6 × 11\n",
       "\n",
       "| ...1 &lt;dbl&gt; | Season_ID &lt;chr&gt; | Season &lt;chr&gt; | League &lt;chr&gt; | Rk &lt;dbl&gt; | Team_ID &lt;chr&gt; | Squad &lt;chr&gt; | X..Pl &lt;dbl&gt; | Weekly_Wages_pounds &lt;dbl&gt; | Annual_Wages_pounds &lt;dbl&gt; | X..Estimated &lt;chr&gt; |\n",
       "|---|---|---|---|---|---|---|---|---|---|---|\n",
       "| 41 | 15/16-LL | 2015-2016 | La Liga | 1 | 15/16-Barcelona       | Barcelona       | 32 | 2806246 | 145924771 | 100% |\n",
       "| 42 | 15/16-LL | 2015-2016 | La Liga | 2 | 15/16-Real Madrid     | Real Madrid     | 31 | 2439140 | 126835291 | 100% |\n",
       "| 43 | 15/16-LL | 2015-2016 | La Liga | 3 | 15/16-Atlético Madrid | Atlético Madrid | 30 | 1015079 |  52784100 | 100% |\n",
       "| 44 | 15/16-LL | 2015-2016 | La Liga | 4 | 15/16-Valencia        | Valencia        | 39 |  813466 |  42300237 | 100% |\n",
       "| 45 | 15/16-LL | 2015-2016 | La Liga | 5 | 15/16-Sevilla         | Sevilla         | 41 |  552109 |  28709687 | 100% |\n",
       "| 46 | 15/16-LL | 2015-2016 | La Liga | 6 | 15/16-Athletic Club   | Athletic Club   | 28 |  398662 |  20730442 | 100% |\n",
       "\n"
      ],
      "text/plain": [
       "  ...1 Season_ID Season    League  Rk Team_ID               Squad          \n",
       "1 41   15/16-LL  2015-2016 La Liga 1  15/16-Barcelona       Barcelona      \n",
       "2 42   15/16-LL  2015-2016 La Liga 2  15/16-Real Madrid     Real Madrid    \n",
       "3 43   15/16-LL  2015-2016 La Liga 3  15/16-Atlético Madrid Atlético Madrid\n",
       "4 44   15/16-LL  2015-2016 La Liga 4  15/16-Valencia        Valencia       \n",
       "5 45   15/16-LL  2015-2016 La Liga 5  15/16-Sevilla         Sevilla        \n",
       "6 46   15/16-LL  2015-2016 La Liga 6  15/16-Athletic Club   Athletic Club  \n",
       "  X..Pl Weekly_Wages_pounds Annual_Wages_pounds X..Estimated\n",
       "1 32    2806246             145924771           100%        \n",
       "2 31    2439140             126835291           100%        \n",
       "3 30    1015079              52784100           100%        \n",
       "4 39     813466              42300237           100%        \n",
       "5 41     552109              28709687           100%        \n",
       "6 28     398662              20730442           100%        "
      ]
     },
     "metadata": {},
     "output_type": "display_data"
    }
   ],
   "source": [
    "laliga_wages_filtered %>% head()"
   ]
  },
  {
   "cell_type": "code",
   "execution_count": 18,
   "id": "75613f91-7a62-4d5a-a7d9-713b06b2abb1",
   "metadata": {
    "tags": []
   },
   "outputs": [],
   "source": [
    "average_salary_df <- laliga_wages %>%\n",
    "  group_by(Squad) %>%\n",
    "  summarize(average_salary = mean(Annual_Wages_pounds)) %>%\n",
    "  arrange(desc(average_salary))"
   ]
  },
  {
   "cell_type": "code",
   "execution_count": 19,
   "id": "150bc8cc-4b75-4d8e-97ba-4ee46a18f76f",
   "metadata": {
    "tags": []
   },
   "outputs": [
    {
     "data": {
      "text/html": [
       "<table class=\"dataframe\">\n",
       "<caption>A tibble: 6 × 2</caption>\n",
       "<thead>\n",
       "\t<tr><th scope=col>Squad</th><th scope=col>average_salary</th></tr>\n",
       "\t<tr><th scope=col>&lt;chr&gt;</th><th scope=col>&lt;dbl&gt;</th></tr>\n",
       "</thead>\n",
       "<tbody>\n",
       "\t<tr><td>Las Palmas    </td><td>11709211</td></tr>\n",
       "\t<tr><td>Rayo Vallecano</td><td>11172957</td></tr>\n",
       "\t<tr><td>Elche         </td><td>10235883</td></tr>\n",
       "\t<tr><td>Sporting Gijón</td><td> 8546916</td></tr>\n",
       "\t<tr><td>Córdoba       </td><td> 7152477</td></tr>\n",
       "\t<tr><td>Almería       </td><td> 5610043</td></tr>\n",
       "</tbody>\n",
       "</table>\n"
      ],
      "text/latex": [
       "A tibble: 6 × 2\n",
       "\\begin{tabular}{ll}\n",
       " Squad & average\\_salary\\\\\n",
       " <chr> & <dbl>\\\\\n",
       "\\hline\n",
       "\t Las Palmas     & 11709211\\\\\n",
       "\t Rayo Vallecano & 11172957\\\\\n",
       "\t Elche          & 10235883\\\\\n",
       "\t Sporting Gijón &  8546916\\\\\n",
       "\t Córdoba        &  7152477\\\\\n",
       "\t Almería        &  5610043\\\\\n",
       "\\end{tabular}\n"
      ],
      "text/markdown": [
       "\n",
       "A tibble: 6 × 2\n",
       "\n",
       "| Squad &lt;chr&gt; | average_salary &lt;dbl&gt; |\n",
       "|---|---|\n",
       "| Las Palmas     | 11709211 |\n",
       "| Rayo Vallecano | 11172957 |\n",
       "| Elche          | 10235883 |\n",
       "| Sporting Gijón |  8546916 |\n",
       "| Córdoba        |  7152477 |\n",
       "| Almería        |  5610043 |\n",
       "\n"
      ],
      "text/plain": [
       "  Squad          average_salary\n",
       "1 Las Palmas     11709211      \n",
       "2 Rayo Vallecano 11172957      \n",
       "3 Elche          10235883      \n",
       "4 Sporting Gijón  8546916      \n",
       "5 Córdoba         7152477      \n",
       "6 Almería         5610043      "
      ]
     },
     "metadata": {},
     "output_type": "display_data"
    }
   ],
   "source": [
    "average_salary_df %>% tail()"
   ]
  },
  {
   "cell_type": "code",
   "execution_count": 20,
   "id": "94299730-bb56-4201-8f6f-8a4408b2bba4",
   "metadata": {
    "tags": []
   },
   "outputs": [
    {
     "data": {
      "image/png": "[encoded data removed]",
      "text/plain": [
       "plot without title"
      ]
     },
     "metadata": {
      "image/png": {
       "height": 420,
       "width": 420
      }
     },
     "output_type": "display_data"
    }
   ],
   "source": [
    "ggplot(data = average_salary_df,\n",
    "  aes(x = Squad, y = average_salary)) +\n",
    "  geom_bar(stat = \"identity\") +\n",
    "  theme_classic() +\n",
    "  xlab(\"Squad\") +\n",
    "  ylab(\"Average Salary\") +\n",
    "  ggtitle(\"Average annual team wage in the last decade\") +\n",
    "  theme(axis.text.x = element_text(angle = 45, hjust = 1))"
   ]
  },
  {
   "cell_type": "markdown",
   "id": "e35ed6a0-ccc8-4bb4-a0fd-481f23384a54",
   "metadata": {},
   "source": [
    "### Combine the laliga_filtered with laliga_wages_filtered."
   ]
  },
  {
   "cell_type": "code",
   "execution_count": 21,
   "id": "558681ce-e6fc-47e9-ad73-bae3c78bc7d8",
   "metadata": {
    "tags": []
   },
   "outputs": [],
   "source": [
    "wins_and_wages <- merge(laliga_filtered, laliga_wages_filtered, by = c('Squad', 'Season'))"
   ]
  },
  {
   "cell_type": "code",
   "execution_count": 22,
   "id": "6eecca57-c4f8-435d-9a33-a79d18618b51",
   "metadata": {
    "tags": []
   },
   "outputs": [
    {
     "data": {
      "text/html": [
       "<table class=\"dataframe\">\n",
       "<caption>A data.frame: 6 × 31</caption>\n",
       "<thead>\n",
       "\t<tr><th></th><th scope=col>Squad</th><th scope=col>Season</th><th scope=col>...1.x</th><th scope=col>Season_ID.x</th><th scope=col>League.x</th><th scope=col>Rk.x</th><th scope=col>Team_ID.x</th><th scope=col>MP</th><th scope=col>W</th><th scope=col>D</th><th scope=col>⋯</th><th scope=col>Notes</th><th scope=col>...1.y</th><th scope=col>Season_ID.y</th><th scope=col>League.y</th><th scope=col>Rk.y</th><th scope=col>Team_ID.y</th><th scope=col>X..Pl</th><th scope=col>Weekly_Wages_pounds</th><th scope=col>Annual_Wages_pounds</th><th scope=col>X..Estimated</th></tr>\n",
       "\t<tr><th></th><th scope=col>&lt;chr&gt;</th><th scope=col>&lt;chr&gt;</th><th scope=col>&lt;dbl&gt;</th><th scope=col>&lt;chr&gt;</th><th scope=col>&lt;chr&gt;</th><th scope=col>&lt;dbl&gt;</th><th scope=col>&lt;chr&gt;</th><th scope=col>&lt;dbl&gt;</th><th scope=col>&lt;dbl&gt;</th><th scope=col>&lt;dbl&gt;</th><th scope=col>⋯</th><th scope=col>&lt;chr&gt;</th><th scope=col>&lt;dbl&gt;</th><th scope=col>&lt;chr&gt;</th><th scope=col>&lt;chr&gt;</th><th scope=col>&lt;dbl&gt;</th><th scope=col>&lt;chr&gt;</th><th scope=col>&lt;dbl&gt;</th><th scope=col>&lt;dbl&gt;</th><th scope=col>&lt;dbl&gt;</th><th scope=col>&lt;chr&gt;</th></tr>\n",
       "</thead>\n",
       "<tbody>\n",
       "\t<tr><th scope=row>1</th><td>Alavés</td><td>2016-2017</td><td>149</td><td>16/17-LL</td><td>La Liga</td><td> 9</td><td>16/17-Alavés</td><td>38</td><td>14</td><td>13</td><td>⋯</td><td>NA       </td><td> 79</td><td>16/17-LL</td><td>La Liga</td><td>19</td><td>16/17-Alavés</td><td>31</td><td>208547</td><td>10844428</td><td>100%</td></tr>\n",
       "\t<tr><th scope=row>2</th><td>Alavés</td><td>2017-2018</td><td>174</td><td>17/18-LL</td><td>La Liga</td><td>14</td><td>17/18-Alavés</td><td>38</td><td>15</td><td> 2</td><td>⋯</td><td>NA       </td><td> 96</td><td>17/18-LL</td><td>La Liga</td><td>17</td><td>17/18-Alavés</td><td>33</td><td>253036</td><td>13157875</td><td>100%</td></tr>\n",
       "\t<tr><th scope=row>3</th><td>Alavés</td><td>2018-2019</td><td>191</td><td>18/19-LL</td><td>La Liga</td><td>11</td><td>18/19-Alavés</td><td>38</td><td>13</td><td>11</td><td>⋯</td><td>NA       </td><td>111</td><td>18/19-LL</td><td>La Liga</td><td>13</td><td>18/19-Alavés</td><td>79</td><td>364671</td><td>18962866</td><td>100%</td></tr>\n",
       "\t<tr><th scope=row>4</th><td>Alavés</td><td>2019-2020</td><td>216</td><td>19/20-LL</td><td>La Liga</td><td>16</td><td>19/20-Alavés</td><td>38</td><td>10</td><td> 9</td><td>⋯</td><td>NA       </td><td>131</td><td>19/20-LL</td><td>La Liga</td><td>14</td><td>19/20-Alavés</td><td>82</td><td>392890</td><td>20430254</td><td>100%</td></tr>\n",
       "\t<tr><th scope=row>5</th><td>Alavés</td><td>2020-2021</td><td>236</td><td>20/21-LL</td><td>La Liga</td><td>16</td><td>20/21-Alavés</td><td>38</td><td> 9</td><td>11</td><td>⋯</td><td>NA       </td><td>151</td><td>20/21-LL</td><td>La Liga</td><td>14</td><td>20/21-Alavés</td><td>77</td><td>377490</td><td>19629481</td><td>97% </td></tr>\n",
       "\t<tr><th scope=row>6</th><td>Alavés</td><td>2021-2022</td><td>260</td><td>21/22-LL</td><td>La Liga</td><td>20</td><td>21/22-Alavés</td><td>38</td><td> 8</td><td> 7</td><td>⋯</td><td>Relegated</td><td>171</td><td>21/22-LL</td><td>La Liga</td><td>14</td><td>21/22-Alavés</td><td>72</td><td>381763</td><td>19851686</td><td>89% </td></tr>\n",
       "</tbody>\n",
       "</table>\n"
      ],
      "text/latex": [
       "A data.frame: 6 × 31\n",
       "\\begin{tabular}{r|lllllllllllllllllllll}\n",
       "  & Squad & Season & ...1.x & Season\\_ID.x & League.x & Rk.x & Team\\_ID.x & MP & W & D & ⋯ & Notes & ...1.y & Season\\_ID.y & League.y & Rk.y & Team\\_ID.y & X..Pl & Weekly\\_Wages\\_pounds & Annual\\_Wages\\_pounds & X..Estimated\\\\\n",
       "  & <chr> & <chr> & <dbl> & <chr> & <chr> & <dbl> & <chr> & <dbl> & <dbl> & <dbl> & ⋯ & <chr> & <dbl> & <chr> & <chr> & <dbl> & <chr> & <dbl> & <dbl> & <dbl> & <chr>\\\\\n",
       "\\hline\n",
       "\t1 & Alavés & 2016-2017 & 149 & 16/17-LL & La Liga &  9 & 16/17-Alavés & 38 & 14 & 13 & ⋯ & NA        &  79 & 16/17-LL & La Liga & 19 & 16/17-Alavés & 31 & 208547 & 10844428 & 100\\%\\\\\n",
       "\t2 & Alavés & 2017-2018 & 174 & 17/18-LL & La Liga & 14 & 17/18-Alavés & 38 & 15 &  2 & ⋯ & NA        &  96 & 17/18-LL & La Liga & 17 & 17/18-Alavés & 33 & 253036 & 13157875 & 100\\%\\\\\n",
       "\t3 & Alavés & 2018-2019 & 191 & 18/19-LL & La Liga & 11 & 18/19-Alavés & 38 & 13 & 11 & ⋯ & NA        & 111 & 18/19-LL & La Liga & 13 & 18/19-Alavés & 79 & 364671 & 18962866 & 100\\%\\\\\n",
       "\t4 & Alavés & 2019-2020 & 216 & 19/20-LL & La Liga & 16 & 19/20-Alavés & 38 & 10 &  9 & ⋯ & NA        & 131 & 19/20-LL & La Liga & 14 & 19/20-Alavés & 82 & 392890 & 20430254 & 100\\%\\\\\n",
       "\t5 & Alavés & 2020-2021 & 236 & 20/21-LL & La Liga & 16 & 20/21-Alavés & 38 &  9 & 11 & ⋯ & NA        & 151 & 20/21-LL & La Liga & 14 & 20/21-Alavés & 77 & 377490 & 19629481 & 97\\% \\\\\n",
       "\t6 & Alavés & 2021-2022 & 260 & 21/22-LL & La Liga & 20 & 21/22-Alavés & 38 &  8 &  7 & ⋯ & Relegated & 171 & 21/22-LL & La Liga & 14 & 21/22-Alavés & 72 & 381763 & 19851686 & 89\\% \\\\\n",
       "\\end{tabular}\n"
      ],
      "text/markdown": [
       "\n",
       "A data.frame: 6 × 31\n",
       "\n",
       "| <!--/--> | Squad &lt;chr&gt; | Season &lt;chr&gt; | ...1.x &lt;dbl&gt; | Season_ID.x &lt;chr&gt; | League.x &lt;chr&gt; | Rk.x &lt;dbl&gt; | Team_ID.x &lt;chr&gt; | MP &lt;dbl&gt; | W &lt;dbl&gt; | D &lt;dbl&gt; | ⋯ ⋯ | Notes &lt;chr&gt; | ...1.y &lt;dbl&gt; | Season_ID.y &lt;chr&gt; | League.y &lt;chr&gt; | Rk.y &lt;dbl&gt; | Team_ID.y &lt;chr&gt; | X..Pl &lt;dbl&gt; | Weekly_Wages_pounds &lt;dbl&gt; | Annual_Wages_pounds &lt;dbl&gt; | X..Estimated &lt;chr&gt; |\n",
       "|---|---|---|---|---|---|---|---|---|---|---|---|---|---|---|---|---|---|---|---|---|---|\n",
       "| 1 | Alavés | 2016-2017 | 149 | 16/17-LL | La Liga |  9 | 16/17-Alavés | 38 | 14 | 13 | ⋯ | NA        |  79 | 16/17-LL | La Liga | 19 | 16/17-Alavés | 31 | 208547 | 10844428 | 100% |\n",
       "| 2 | Alavés | 2017-2018 | 174 | 17/18-LL | La Liga | 14 | 17/18-Alavés | 38 | 15 |  2 | ⋯ | NA        |  96 | 17/18-LL | La Liga | 17 | 17/18-Alavés | 33 | 253036 | 13157875 | 100% |\n",
       "| 3 | Alavés | 2018-2019 | 191 | 18/19-LL | La Liga | 11 | 18/19-Alavés | 38 | 13 | 11 | ⋯ | NA        | 111 | 18/19-LL | La Liga | 13 | 18/19-Alavés | 79 | 364671 | 18962866 | 100% |\n",
       "| 4 | Alavés | 2019-2020 | 216 | 19/20-LL | La Liga | 16 | 19/20-Alavés | 38 | 10 |  9 | ⋯ | NA        | 131 | 19/20-LL | La Liga | 14 | 19/20-Alavés | 82 | 392890 | 20430254 | 100% |\n",
       "| 5 | Alavés | 2020-2021 | 236 | 20/21-LL | La Liga | 16 | 20/21-Alavés | 38 |  9 | 11 | ⋯ | NA        | 151 | 20/21-LL | La Liga | 14 | 20/21-Alavés | 77 | 377490 | 19629481 | 97%  |\n",
       "| 6 | Alavés | 2021-2022 | 260 | 21/22-LL | La Liga | 20 | 21/22-Alavés | 38 |  8 |  7 | ⋯ | Relegated | 171 | 21/22-LL | La Liga | 14 | 21/22-Alavés | 72 | 381763 | 19851686 | 89%  |\n",
       "\n"
      ],
      "text/plain": [
       "  Squad  Season    ...1.x Season_ID.x League.x Rk.x Team_ID.x    MP W  D  ⋯\n",
       "1 Alavés 2016-2017 149    16/17-LL    La Liga   9   16/17-Alavés 38 14 13 ⋯\n",
       "2 Alavés 2017-2018 174    17/18-LL    La Liga  14   17/18-Alavés 38 15  2 ⋯\n",
       "3 Alavés 2018-2019 191    18/19-LL    La Liga  11   18/19-Alavés 38 13 11 ⋯\n",
       "4 Alavés 2019-2020 216    19/20-LL    La Liga  16   19/20-Alavés 38 10  9 ⋯\n",
       "5 Alavés 2020-2021 236    20/21-LL    La Liga  16   20/21-Alavés 38  9 11 ⋯\n",
       "6 Alavés 2021-2022 260    21/22-LL    La Liga  20   21/22-Alavés 38  8  7 ⋯\n",
       "  Notes     ...1.y Season_ID.y League.y Rk.y Team_ID.y    X..Pl\n",
       "1 NA         79    16/17-LL    La Liga  19   16/17-Alavés 31   \n",
       "2 NA         96    17/18-LL    La Liga  17   17/18-Alavés 33   \n",
       "3 NA        111    18/19-LL    La Liga  13   18/19-Alavés 79   \n",
       "4 NA        131    19/20-LL    La Liga  14   19/20-Alavés 82   \n",
       "5 NA        151    20/21-LL    La Liga  14   20/21-Alavés 77   \n",
       "6 Relegated 171    21/22-LL    La Liga  14   21/22-Alavés 72   \n",
       "  Weekly_Wages_pounds Annual_Wages_pounds X..Estimated\n",
       "1 208547              10844428            100%        \n",
       "2 253036              13157875            100%        \n",
       "3 364671              18962866            100%        \n",
       "4 392890              20430254            100%        \n",
       "5 377490              19629481            97%         \n",
       "6 381763              19851686            89%         "
      ]
     },
     "metadata": {},
     "output_type": "display_data"
    }
   ],
   "source": [
    "wins_and_wages %>% head()"
   ]
  },
  {
   "cell_type": "markdown",
   "id": "db603780-8e86-433c-8e78-5eb4c7f679ff",
   "metadata": {},
   "source": [
    "### Is there a correlation between annual wages and number of wins?"
   ]
  },
  {
   "cell_type": "code",
   "execution_count": 23,
   "id": "5fbc8098-34aa-4b22-8ddb-3f64a69c46d0",
   "metadata": {
    "tags": []
   },
   "outputs": [],
   "source": [
    "plot_1 <- ggplot(wins_and_wages, aes(x = Annual_Wages_pounds, y = W)) +\n",
    "  geom_point(size = 5) +\n",
    "  geom_smooth(\n",
    "      method = 'lm', formula = y ~ x)+\n",
    "  theme_classic() +\n",
    "  xlab(\"Annual Wages\") +\n",
    "  ylab(\"Number of Wins\") +\n",
    "  ggtitle(\"Correlation Between Annual Wages and Wins in La Liga (2015 - 2022)\")"
   ]
  },
  {
   "cell_type": "code",
   "execution_count": 24,
   "id": "02e7c841-13f1-472f-810b-2b0cfb8c950c",
   "metadata": {
    "tags": []
   },
   "outputs": [
    {
     "data": {
      "image/png": "[encoded data removed]",
      "text/plain": [
       "plot without title"
      ]
     },
     "metadata": {
      "image/png": {
       "height": 420,
       "width": 420
      }
     },
     "output_type": "display_data"
    }
   ],
   "source": [
    "print(plot_1)"
   ]
  },
  {
   "cell_type": "code",
   "execution_count": 25,
   "id": "12f24199-a71d-4152-8089-9a44c5cd6de8",
   "metadata": {
    "tags": []
   },
   "outputs": [
    {
     "name": "stderr",
     "output_type": "stream",
     "text": [
      "\u001b[1m\u001b[22mSaving 6.67 x 6.67 in image\n"
     ]
    }
   ],
   "source": [
    "ggsave(\"wins_vs_wages_laliga.png\", plot = plot_1)"
   ]
  },
  {
   "cell_type": "code",
   "execution_count": 26,
   "id": "c91824e4-0c0d-4893-975c-34bd5b426483",
   "metadata": {
    "tags": []
   },
   "outputs": [
    {
     "data": {
      "text/html": [
       "0.734356162539222"
      ],
      "text/latex": [
       "0.734356162539222"
      ],
      "text/markdown": [
       "0.734356162539222"
      ],
      "text/plain": [
       "[1] 0.7343562"
      ]
     },
     "metadata": {},
     "output_type": "display_data"
    }
   ],
   "source": [
    "cor(wins_and_wages$Annual_Wages_pounds, wins_and_wages$W)"
   ]
  },
  {
   "cell_type": "markdown",
   "id": "0d46fd86-107d-40a5-8d6b-7f1e119b9b8c",
   "metadata": {
    "tags": []
   },
   "source": [
    "### Is there a correlation between attendance and number of wins?"
   ]
  },
  {
   "cell_type": "code",
   "execution_count": 27,
   "id": "11662bed-31b4-4ac1-895a-7e9138a92889",
   "metadata": {
    "tags": []
   },
   "outputs": [],
   "source": [
    "plot_2 <- ggplot(wins_and_wages, aes(x = Attendance, y = W)) +\n",
    "  geom_point(size = 5) +\n",
    "  geom_smooth(\n",
    "      method = 'lm', formula = y ~ x)+\n",
    "  theme_classic() +\n",
    "  xlab(\"Attendance\") +\n",
    "  ylab(\"Number of Wins\") +\n",
    "  ggtitle(\"Correlation Between Audience Attendance and Wins in La Liga (2015 - 2022)\")"
   ]
  },
  {
   "cell_type": "code",
   "execution_count": 29,
   "id": "7f973aea-c738-41ee-9ae8-475d34de8558",
   "metadata": {
    "tags": []
   },
   "outputs": [
    {
     "name": "stderr",
     "output_type": "stream",
     "text": [
      "Warning message:\n",
      "\"\u001b[1m\u001b[22mRemoved 16 rows containing non-finite values (`stat_smooth()`).\"\n",
      "Warning message:\n",
      "\"\u001b[1m\u001b[22mRemoved 16 rows containing missing values (`geom_point()`).\"\n"
     ]
    },
    {
     "data": {
      "image/png": "[encoded data removed]",
      "text/plain": [
       "plot without title"
      ]
     },
     "metadata": {
      "image/png": {
       "height": 420,
       "width": 420
      }
     },
     "output_type": "display_data"
    }
   ],
   "source": [
    "print(plot_2)"
   ]
  },
  {
   "cell_type": "code",
   "execution_count": 30,
   "id": "b79c476a-54ae-4e26-8acb-32560fc457d1",
   "metadata": {
    "tags": []
   },
   "outputs": [
    {
     "name": "stderr",
     "output_type": "stream",
     "text": [
      "\u001b[1m\u001b[22mSaving 6.67 x 6.67 in image\n",
      "Warning message:\n",
      "\"\u001b[1m\u001b[22mRemoved 16 rows containing non-finite values (`stat_smooth()`).\"\n",
      "Warning message:\n",
      "\"\u001b[1m\u001b[22mRemoved 16 rows containing missing values (`geom_point()`).\"\n"
     ]
    }
   ],
   "source": [
    "ggsave(\"attendace_wins_laliga.png\", plot = plot_2)"
   ]
  },
  {
   "cell_type": "markdown",
   "id": "dc3c0530-bdbb-40b4-9640-c7b412d324ca",
   "metadata": {
    "tags": []
   },
   "source": [
    "The graph indicates that there is positive correlation between attendance and wins. However, it is not very insightful. This would have been better if there is data for home and away game stats for each team. "
   ]
  },
  {
   "cell_type": "markdown",
   "id": "b9e7e357-6ac4-4e79-863a-1e05ff9616f7",
   "metadata": {},
   "source": [
    "### Is there a correlation between annual wage and attendance?"
   ]
  },
  {
   "cell_type": "code",
   "execution_count": 31,
   "id": "95959f12-25e9-4615-9c36-477b13fcacc7",
   "metadata": {
    "tags": []
   },
   "outputs": [
    {
     "name": "stderr",
     "output_type": "stream",
     "text": [
      "Warning message:\n",
      "\"\u001b[1m\u001b[22mRemoved 16 rows containing non-finite values (`stat_smooth()`).\"\n",
      "Warning message:\n",
      "\"\u001b[1m\u001b[22mRemoved 16 rows containing missing values (`geom_point()`).\"\n"
     ]
    },
    {
     "data": {
      "image/png": "[encoded data removed]",
      "text/plain": [
       "plot without title"
      ]
     },
     "metadata": {
      "image/png": {
       "height": 420,
       "width": 420
      }
     },
     "output_type": "display_data"
    }
   ],
   "source": [
    "ggplot(wins_and_wages, aes(x = Attendance, y = Annual_Wages_pounds)) +\n",
    "  geom_point(size = 5) +\n",
    "  geom_smooth(\n",
    "      method = 'lm', formula = y ~ x)+\n",
    "  theme_classic() +\n",
    "  xlab(\"Attendance\") +\n",
    "  ylab(\"Number of Wins\") +\n",
    "  ggtitle(\"Correlation Between Audience Attendance and Wins in La Liga\")"
   ]
  },
  {
   "cell_type": "markdown",
   "id": "a4700834-e498-41d9-86b1-e1bc05d43485",
   "metadata": {},
   "source": [
    "### Is there a correlation between Goal Difference (GD) and wins?"
   ]
  },
  {
   "cell_type": "code",
   "execution_count": 32,
   "id": "0127eaa3-08d8-4e85-8037-6f4c69429285",
   "metadata": {
    "tags": []
   },
   "outputs": [],
   "source": [
    "plot_3 <- ggplot(wins_and_wages, aes(x = GD, y = W)) +\n",
    "  geom_point(size = 5) +\n",
    "  geom_smooth(\n",
    "      method = 'lm', formula = y ~ x)+\n",
    "  theme_classic() +\n",
    "  xlab(\"Goal Difference\") +\n",
    "  ylab(\"Number of Wins\") +\n",
    "  ggtitle(\"Correlation Between Goal Difference and Wins in La Liga (2015 - 2022)\")"
   ]
  },
  {
   "cell_type": "code",
   "execution_count": 33,
   "id": "f8f0a714-fd0f-4dcd-addf-9e4f6aa13052",
   "metadata": {
    "tags": []
   },
   "outputs": [
    {
     "data": {
      "image/png": "[encoded data removed]",
      "text/plain": [
       "plot without title"
      ]
     },
     "metadata": {
      "image/png": {
       "height": 420,
       "width": 420
      }
     },
     "output_type": "display_data"
    }
   ],
   "source": [
    "print(plot_3)"
   ]
  },
  {
   "cell_type": "code",
   "execution_count": 34,
   "id": "51c0890a-73e9-424f-8d3e-54831c5dc55f",
   "metadata": {
    "tags": []
   },
   "outputs": [
    {
     "name": "stderr",
     "output_type": "stream",
     "text": [
      "\u001b[1m\u001b[22mSaving 6.67 x 6.67 in image\n"
     ]
    }
   ],
   "source": [
    "ggsave(\"goals_wins_laliga.png\", plot = plot_3)"
   ]
  },
  {
   "cell_type": "code",
   "execution_count": 35,
   "id": "0a7e74f6-0680-4a4a-ab80-abfe2988f3b4",
   "metadata": {
    "tags": []
   },
   "outputs": [
    {
     "data": {
      "text/html": [
       "0.935966194063716"
      ],
      "text/latex": [
       "0.935966194063716"
      ],
      "text/markdown": [
       "0.935966194063716"
      ],
      "text/plain": [
       "[1] 0.9359662"
      ]
     },
     "metadata": {},
     "output_type": "display_data"
    }
   ],
   "source": [
    "cor(wins_and_wages$GD, wins_and_wages$W)"
   ]
  },
  {
   "cell_type": "markdown",
   "id": "86735c5b-5218-4c8b-81d5-9854c860c922",
   "metadata": {},
   "source": [
    "### Which league allows more goals?"
   ]
  },
  {
   "cell_type": "markdown",
   "id": "0d4759cb-3c8d-4b16-87ff-f4cfc0fe11eb",
   "metadata": {},
   "source": [
    "Load Premier League Stats to compare it with the La Liga Stats"
   ]
  },
  {
   "cell_type": "code",
   "execution_count": 37,
   "id": "fdd8c084-671c-41b5-b1c1-bbe950bb7a84",
   "metadata": {
    "tags": []
   },
   "outputs": [
    {
     "name": "stderr",
     "output_type": "stream",
     "text": [
      "\u001b[1m\u001b[22mNew names:\n",
      "\u001b[36m•\u001b[39m `` -> `...1`\n",
      "\u001b[1mRows: \u001b[22m\u001b[34m260\u001b[39m \u001b[1mColumns: \u001b[22m\u001b[34m26\u001b[39m\n",
      "\u001b[36m──\u001b[39m \u001b[1mColumn specification\u001b[22m \u001b[36m────────────────────────────────────────────────────────────────────────────────────────────────\u001b[39m\n",
      "\u001b[1mDelimiter:\u001b[22m \",\"\n",
      "\u001b[31mchr\u001b[39m  (9): Season_ID, Season, League, Team_ID, Squad, Player_ID, Top.Team.Sco...\n",
      "\u001b[32mdbl\u001b[39m (17): ...1, Rk, MP, W, D, L, GF, GA, GD, Pts, Pts.MP, Attendance, GoalsS...\n",
      "\n",
      "\u001b[36mℹ\u001b[39m Use `spec()` to retrieve the full column specification for this data.\n",
      "\u001b[36mℹ\u001b[39m Specify the column types or set `show_col_types = FALSE` to quiet this message.\n"
     ]
    },
    {
     "name": "stdout",
     "output_type": "stream",
     "text": [
      "Rows: 260\n",
      "Columns: 26\n",
      "$ ...1            \u001b[3m\u001b[90m<dbl>\u001b[39m\u001b[23m 1, 2, 3, 4, 5, 6, 7, 8, 9, 10, 11, 12, 13, 14, 15, 16,…\n",
      "$ Season_ID       \u001b[3m\u001b[90m<chr>\u001b[39m\u001b[23m \"09/10-PL\", \"09/10-PL\", \"09/10-PL\", \"09/10-PL\", \"09/10…\n",
      "$ Season          \u001b[3m\u001b[90m<chr>\u001b[39m\u001b[23m \"2009-2010\", \"2009-2010\", \"2009-2010\", \"2009-2010\", \"2…\n",
      "$ League          \u001b[3m\u001b[90m<chr>\u001b[39m\u001b[23m \"Premier League\", \"Premier League\", \"Premier League\", …\n",
      "$ Rk              \u001b[3m\u001b[90m<dbl>\u001b[39m\u001b[23m 1, 2, 3, 4, 5, 6, 7, 8, 9, 10, 11, 12, 13, 14, 15, 16,…\n",
      "$ Team_ID         \u001b[3m\u001b[90m<chr>\u001b[39m\u001b[23m \"09/10-Chelsea\", \"09/10-Manchester Utd\", \"09/10-Arsena…\n",
      "$ Squad           \u001b[3m\u001b[90m<chr>\u001b[39m\u001b[23m \"Chelsea\", \"Manchester Utd\", \"Arsenal\", \"Tottenham\", \"…\n",
      "$ MP              \u001b[3m\u001b[90m<dbl>\u001b[39m\u001b[23m 38, 38, 38, 38, 38, 38, 38, 38, 38, 38, 38, 38, 38, 38…\n",
      "$ W               \u001b[3m\u001b[90m<dbl>\u001b[39m\u001b[23m 27, 27, 23, 21, 18, 17, 18, 16, 13, 13, 11, 12, 11, 10…\n",
      "$ D               \u001b[3m\u001b[90m<dbl>\u001b[39m\u001b[23m 5, 4, 6, 7, 13, 13, 9, 13, 11, 11, 14, 10, 11, 9, 11, …\n",
      "$ L               \u001b[3m\u001b[90m<dbl>\u001b[39m\u001b[23m 6, 7, 9, 10, 7, 8, 11, 9, 14, 14, 13, 16, 16, 19, 18, …\n",
      "$ GF              \u001b[3m\u001b[90m<dbl>\u001b[39m\u001b[23m 103, 86, 83, 67, 73, 52, 61, 60, 38, 41, 34, 39, 48, 4…\n",
      "$ GA              \u001b[3m\u001b[90m<dbl>\u001b[39m\u001b[23m 32, 28, 41, 41, 45, 39, 35, 49, 47, 55, 48, 46, 56, 67…\n",
      "$ GD              \u001b[3m\u001b[90m<dbl>\u001b[39m\u001b[23m 71, 58, 42, 26, 28, 13, 26, 11, -9, -14, -14, -7, -8, …\n",
      "$ Pts             \u001b[3m\u001b[90m<dbl>\u001b[39m\u001b[23m 86, 85, 75, 70, 67, 64, 63, 61, 50, 50, 47, 46, 44, 39…\n",
      "$ Pts.MP          \u001b[3m\u001b[90m<dbl>\u001b[39m\u001b[23m 2.26, 2.24, 1.97, 1.84, 1.76, 1.68, 1.66, 1.61, 1.32, …\n",
      "$ Attendance      \u001b[3m\u001b[90m<dbl>\u001b[39m\u001b[23m 41423, 74864, 59927, 35794, 45470, 38573, 42864, 36725…\n",
      "$ Player_ID       \u001b[3m\u001b[90m<chr>\u001b[39m\u001b[23m \"09/10-Didier Drogba\", \"09/10-Wayne Rooney\", \"09/10-Ce…\n",
      "$ Top.Team.Scorer \u001b[3m\u001b[90m<chr>\u001b[39m\u001b[23m \"Didier Drogba\", \"Wayne Rooney\", \"Cesc Fàbregas\", \"Jer…\n",
      "$ GoalsScored     \u001b[3m\u001b[90m<dbl>\u001b[39m\u001b[23m 29, 26, 15, 18, 23, 13, 18, 13, 10, 9, 5, 8, 24, 8, 9,…\n",
      "$ Goalkeeper      \u001b[3m\u001b[90m<chr>\u001b[39m\u001b[23m \"Petr Čech\", \"Edwin van der Sar\", \"Manuel Almunia\", \"H…\n",
      "$ Notes           \u001b[3m\u001b[90m<chr>\u001b[39m\u001b[23m \"→ Champions League via league finish\", \"→ Champions L…\n",
      "$ xG              \u001b[3m\u001b[90m<dbl>\u001b[39m\u001b[23m NA, NA, NA, NA, NA, NA, NA, NA, NA, NA, NA, NA, NA, NA…\n",
      "$ xGA             \u001b[3m\u001b[90m<dbl>\u001b[39m\u001b[23m NA, NA, NA, NA, NA, NA, NA, NA, NA, NA, NA, NA, NA, NA…\n",
      "$ xGD             \u001b[3m\u001b[90m<dbl>\u001b[39m\u001b[23m NA, NA, NA, NA, NA, NA, NA, NA, NA, NA, NA, NA, NA, NA…\n",
      "$ xGD.90          \u001b[3m\u001b[90m<dbl>\u001b[39m\u001b[23m NA, NA, NA, NA, NA, NA, NA, NA, NA, NA, NA, NA, NA, NA…\n"
     ]
    }
   ],
   "source": [
    "premier_df <- read_csv(\"PremierLeagueTables.csv\") %>%\n",
    " glimpse()"
   ]
  },
  {
   "cell_type": "markdown",
   "id": "f720ea52-bbb9-4dd9-8e00-099877b84b47",
   "metadata": {},
   "source": [
    "Filter, include only 2015-2022"
   ]
  },
  {
   "cell_type": "code",
   "execution_count": 38,
   "id": "1a0298ad-6dba-4f1e-9cd7-5f742c5a6867",
   "metadata": {
    "tags": []
   },
   "outputs": [],
   "source": [
    "premier_filtered <- premier_df %>%\n",
    "  filter(!between(substring(Season, 1, 4), \"2009\", \"2014\"))"
   ]
  },
  {
   "cell_type": "markdown",
   "id": "04c1d759-6291-41e5-ac88-f16cb883efe5",
   "metadata": {},
   "source": [
    "Get some summary statistics for premier league"
   ]
  },
  {
   "cell_type": "code",
   "execution_count": 39,
   "id": "d4cc158b-3f0e-4c51-968a-1766108890c5",
   "metadata": {
    "tags": []
   },
   "outputs": [],
   "source": [
    "premier_summary <- premier_filtered %>%\n",
    "  summarise(mean_GF_PL = mean(GF),\n",
    "            median_GF_PL = median(GF)\n",
    "            )"
   ]
  },
  {
   "cell_type": "code",
   "execution_count": 40,
   "id": "f39ed6d0-d5a4-4544-9f04-e32ba097a33e",
   "metadata": {
    "tags": []
   },
   "outputs": [
    {
     "name": "stdout",
     "output_type": "stream",
     "text": [
      "\u001b[90m# A tibble: 1 × 2\u001b[39m\n",
      "  mean_GF_PL median_GF_PL\n",
      "       \u001b[3m\u001b[90m<dbl>\u001b[39m\u001b[23m        \u001b[3m\u001b[90m<dbl>\u001b[39m\u001b[23m\n",
      "\u001b[90m1\u001b[39m       52.2           48\n"
     ]
    }
   ],
   "source": [
    "premier_summary %>% print"
   ]
  },
  {
   "cell_type": "code",
   "execution_count": 41,
   "id": "0f74d7e3-2952-417f-aa96-881fa774bded",
   "metadata": {
    "tags": []
   },
   "outputs": [],
   "source": [
    "laliga_summary <- wins_and_wages %>%\n",
    "  summarise(mean_GF_LL = mean(GF),\n",
    "            median_GF_LL = median(GF)\n",
    "            )"
   ]
  },
  {
   "cell_type": "code",
   "execution_count": 42,
   "id": "04fb9a72-1a7e-4f36-9b0f-1452a8e08243",
   "metadata": {
    "tags": []
   },
   "outputs": [
    {
     "data": {
      "text/html": [
       "<table class=\"dataframe\">\n",
       "<caption>A data.frame: 1 × 2</caption>\n",
       "<thead>\n",
       "\t<tr><th scope=col>mean_GF_LL</th><th scope=col>median_GF_LL</th></tr>\n",
       "\t<tr><th scope=col>&lt;dbl&gt;</th><th scope=col>&lt;dbl&gt;</th></tr>\n",
       "</thead>\n",
       "<tbody>\n",
       "\t<tr><td>50.41606</td><td>46</td></tr>\n",
       "</tbody>\n",
       "</table>\n"
      ],
      "text/latex": [
       "A data.frame: 1 × 2\n",
       "\\begin{tabular}{ll}\n",
       " mean\\_GF\\_LL & median\\_GF\\_LL\\\\\n",
       " <dbl> & <dbl>\\\\\n",
       "\\hline\n",
       "\t 50.41606 & 46\\\\\n",
       "\\end{tabular}\n"
      ],
      "text/markdown": [
       "\n",
       "A data.frame: 1 × 2\n",
       "\n",
       "| mean_GF_LL &lt;dbl&gt; | median_GF_LL &lt;dbl&gt; |\n",
       "|---|---|\n",
       "| 50.41606 | 46 |\n",
       "\n"
      ],
      "text/plain": [
       "  mean_GF_LL median_GF_LL\n",
       "1 50.41606   46          "
      ]
     },
     "metadata": {},
     "output_type": "display_data"
    }
   ],
   "source": [
    "laliga_summary"
   ]
  },
  {
   "cell_type": "markdown",
   "id": "e811c479-689a-490e-b2a6-d7e6b7ccb814",
   "metadata": {},
   "source": [
    "Merge data"
   ]
  },
  {
   "cell_type": "code",
   "execution_count": 43,
   "id": "1f7316eb-42d3-4a86-9f64-d8fec4d201fb",
   "metadata": {
    "tags": []
   },
   "outputs": [],
   "source": [
    "summary_statistics <- bind_rows(\n",
    "  data.frame(League = \"La Liga\", mean_GF = laliga_summary$mean_GF_LL, median_GF = laliga_summary$median_GF_LL),\n",
    "  data.frame(League = \"Premier League\", mean_GF = premier_summary$mean_GF_PL, median_GF = premier_summary$median_GF_PL)\n",
    ")"
   ]
  },
  {
   "cell_type": "code",
   "execution_count": 44,
   "id": "a735f08a-5ddc-4c19-a9f7-e1dffb94fc89",
   "metadata": {
    "tags": []
   },
   "outputs": [
    {
     "name": "stdout",
     "output_type": "stream",
     "text": [
      "          League  mean_GF median_GF\n",
      "1        La Liga 50.41606        46\n",
      "2 Premier League 52.20714        48\n"
     ]
    }
   ],
   "source": [
    "summary_statistics %>% print"
   ]
  },
  {
   "cell_type": "code",
   "execution_count": 51,
   "id": "c4b7d40f-50a6-4dcb-a78d-fee68ce5e815",
   "metadata": {
    "tags": []
   },
   "outputs": [],
   "source": [
    "plot_4 <- ggplot(summary_statistics, aes(x = League, y = mean_GF, fill = League)) +\n",
    "  geom_bar(stat = \"identity\", position = position_dodge(width = 0.8)) +\n",
    "  labs(title = \"Mean Goals Scored Comparison (2015 - 2022 Season)\",\n",
    "       y = \"Mean Goals Scored\",\n",
    "       x = \"League\") +\n",
    "  theme_minimal()"
   ]
  },
  {
   "cell_type": "code",
   "execution_count": 52,
   "id": "e07be149-71a0-436a-800c-8241ca3c23f4",
   "metadata": {
    "tags": []
   },
   "outputs": [
    {
     "data": {
      "image/png": "[encoded data removed]",
      "text/plain": [
       "plot without title"
      ]
     },
     "metadata": {
      "image/png": {
       "height": 420,
       "width": 420
      }
     },
     "output_type": "display_data"
    }
   ],
   "source": [
    "print(plot_4)"
   ]
  },
  {
   "cell_type": "code",
   "execution_count": 53,
   "id": "3e680218-4d9c-445f-b206-7591de785797",
   "metadata": {
    "tags": []
   },
   "outputs": [
    {
     "name": "stderr",
     "output_type": "stream",
     "text": [
      "\u001b[1m\u001b[22mSaving 6.67 x 6.67 in image\n"
     ]
    }
   ],
   "source": [
    "ggsave(\"mean_goals.png\", plot = plot_4)"
   ]
  },
  {
   "cell_type": "code",
   "execution_count": 54,
   "id": "ab3e1e1d-0afc-4491-ab19-b52c2fddcadf",
   "metadata": {
    "tags": []
   },
   "outputs": [],
   "source": [
    "plot_5 <- ggplot(summary_statistics, aes(x = League, y = median_GF, fill = League)) +\n",
    "  geom_bar(stat = \"identity\", position = position_dodge(width = 0.8)) +\n",
    "  labs(title = \"Median Goals Scored Comparison (2015 - 2022 Season)\",\n",
    "       y = \"Median Goals Scored\",\n",
    "       x = \"League\") +\n",
    "  theme_minimal()"
   ]
  },
  {
   "cell_type": "code",
   "execution_count": 55,
   "id": "57b62d26-66e5-4b31-b9af-f1db48474f2c",
   "metadata": {},
   "outputs": [
    {
     "data": {
      "image/png": "[encoded data removed]",
      "text/plain": [
       "plot without title"
      ]
     },
     "metadata": {
      "image/png": {
       "height": 420,
       "width": 420
      }
     },
     "output_type": "display_data"
    }
   ],
   "source": [
    "print(plot_5)"
   ]
  },
  {
   "cell_type": "code",
   "execution_count": 56,
   "id": "98d2ba5b-0e24-4105-8ca9-00187d3bc211",
   "metadata": {
    "tags": []
   },
   "outputs": [
    {
     "name": "stderr",
     "output_type": "stream",
     "text": [
      "\u001b[1m\u001b[22mSaving 6.67 x 6.67 in image\n"
     ]
    }
   ],
   "source": [
    "ggsave(\"median_goals.png\", plot = plot_5)"
   ]
  },
  {
   "cell_type": "markdown",
   "id": "cea691ed-3e0c-43cc-8463-612e90266bfe",
   "metadata": {},
   "source": [
    "END OF NOTEBOOK"
   ]
  },
  {
   "cell_type": "markdown",
   "id": "a9c584c4-706e-427e-af88-8454f14dfb7a",
   "metadata": {},
   "source": [
    "written by jjm148 for DATA422"
   ]
  }
 ],
 "metadata": {
  "kernelspec": {
   "display_name": "R",
   "language": "R",
   "name": "ir"
  },
  "language_info": {
   "codemirror_mode": "r",
   "file_extension": ".r",
   "mimetype": "text/x-r-source",
   "name": "R",
   "pygments_lexer": "r",
   "version": "4.3.1"
  }
 },
 "nbformat": 4,
 "nbformat_minor": 5
}
